{
 "cells": [
  {
   "cell_type": "code",
   "execution_count": 4,
   "id": "1318f91f",
   "metadata": {},
   "outputs": [
    {
     "name": "stdout",
     "output_type": "stream",
     "text": [
      "The autoreload extension is already loaded. To reload it, use:\n",
      "  %reload_ext autoreload\n"
     ]
    }
   ],
   "source": [
    "# Setup and Imports\n",
    "%load_ext autoreload\n",
    "%autoreload 2\n",
    "\n",
    "import sys\n",
    "import matplotlib.pyplot as plt\n",
    "import numpy as np\n",
    "import pandas as pd\n",
    "from uncertainties import ufloat\n",
    "from matplotlib.lines import Line2D\n",
    "from matplotlib.patches import Patch\n",
    "\n",
    "# Add the src directory to import snowpyt_mechparams\n",
    "sys.path.append('../src')\n",
    "from snowpilot_utils import convert_grain_form, parse_sample_pits\n",
    "from snowpyt_mechparams import density, elastic_modulus, shear_modulus\n"
   ]
  },
  {
   "cell_type": "code",
   "execution_count": 2,
   "id": "f3bc7015",
   "metadata": {},
   "outputs": [
    {
     "name": "stdout",
     "output_type": "stream",
     "text": [
      "Successfully parsed 50278 files\n",
      "Failed to parse 0 files\n"
     ]
    }
   ],
   "source": [
    "# Parse all snowpit files from the data folder\n",
    "all_pits = parse_sample_pits('data')\n"
   ]
  },
  {
   "cell_type": "code",
   "execution_count": 3,
   "id": "41a94ad8",
   "metadata": {},
   "outputs": [],
   "source": [
    "# Calculate densities for all layers using kim_geldsetzer method\n",
    "layer_info = []\n",
    "\n",
    "for pit in all_pits:\n",
    "    for layer in pit.snow_profile.layers:\n",
    "        layer_dict = {\n",
    "            'pit_id': pit.core_info.pit_id,\n",
    "            'hand_hardness': layer.hardness,\n",
    "            'depth_top': layer.depth_top[0] if layer.depth_top else None,  \n",
    "            'thickness': layer.thickness[0] if layer.thickness else None,\n",
    "        }\n",
    "\n",
    "        # Convert grain form and calculate density\n",
    "        grain_form = convert_grain_form(layer.grain_form_primary, 'kim_geldsetzer') if layer.grain_form_primary else None\n",
    "        layer_dict['kim_geldsetzer_grain_form'] = grain_form\n",
    "        \n",
    "        # Calculate density if we have valid inputs\n",
    "        if layer.hardness and grain_form:\n",
    "            try:\n",
    "                density_ufloat = density.calculate_density( \n",
    "                    method='kim_geldsetzer',\n",
    "                    hand_hardness=layer.hardness,\n",
    "                    grain_form=grain_form\n",
    "                )\n",
    "                layer_dict['density_kim_geldsetzer'] = density_ufloat.nominal_value\n",
    "                layer_dict['density_kim_geldsetzer_uncertainty'] = density_ufloat.std_dev\n",
    "            except Exception:\n",
    "                layer_dict['density_kim_geldsetzer'] = None\n",
    "                layer_dict['density_kim_geldsetzer_uncertainty'] = None\n",
    "        else:\n",
    "            layer_dict['density_kim_geldsetzer'] = None\n",
    "            layer_dict['density_kim_geldsetzer_uncertainty'] = None\n",
    "\n",
    "        layer_info.append(layer_dict)\n",
    "\n",
    "# Create dataframe\n",
    "layer_df = pd.DataFrame(layer_info)\n"
   ]
  },
  {
   "cell_type": "code",
   "execution_count": null,
   "id": "74a8f87b",
   "metadata": {},
   "outputs": [
    {
     "name": "stderr",
     "output_type": "stream",
     "text": [
      "/Users/marykateconnelly/Desktop/F25/SnowPyt-MechParams/venv/lib/python3.13/site-packages/uncertainties/core.py:1024: UserWarning: Using UFloat objects with std_dev==0 may give unexpected results.\n",
      "  warn(\"Using UFloat objects with std_dev==0 may give unexpected results.\")\n"
     ]
    }
   ],
   "source": [
    "# Calculate elastic modulus and shear modulus using wautier method\n",
    "\n",
    "# Function to calculate elastic modulus and shear modulus for a single row\n",
    "def calculate_modulii_row(row):\n",
    "    result = {'e_mod_wautier': None, 's_mod_wautier': None}\n",
    "    \n",
    "    # Skip if no grain form or density data\n",
    "    if pd.isna(row['kim_geldsetzer_grain_form']) or pd.isna(row['density_kim_geldsetzer']):\n",
    "        return pd.Series(result)\n",
    "    \n",
    "    try:\n",
    "        # Create density ufloat once\n",
    "        density_ufloat = ufloat(row['density_kim_geldsetzer'], row['density_kim_geldsetzer_uncertainty'])\n",
    "        grain_form = row['kim_geldsetzer_grain_form']\n",
    "        \n",
    "        # Calculate elastic modulus using wautier method\n",
    "        try:\n",
    "            e_mod = elastic_modulus.calculate_elastic_modulus(\n",
    "                method='wautier',\n",
    "                density=density_ufloat,\n",
    "                grain_form=grain_form\n",
    "            )\n",
    "            result['e_mod_wautier'] = e_mod.nominal_value\n",
    "        except Exception:\n",
    "            pass\n",
    "        \n",
    "        # Calculate shear modulus using wautier method\n",
    "        try:\n",
    "            s_mod = shear_modulus.calculate_shear_modulus(\n",
    "                method='wautier',\n",
    "                density=density_ufloat,\n",
    "                grain_form=grain_form\n",
    "            )\n",
    "            result['s_mod_wautier'] = s_mod.nominal_value\n",
    "        except Exception:\n",
    "            pass\n",
    "    except Exception:\n",
    "        pass\n",
    "    \n",
    "    return pd.Series(result)\n",
    "\n",
    "# Apply the function to all rows at once\n",
    "layer_df[['e_mod_wautier', 's_mod_wautier']] = layer_df.apply(calculate_modulii_row, axis=1)\n"
   ]
  }
 ],
 "metadata": {
  "kernelspec": {
   "display_name": "venv",
   "language": "python",
   "name": "python3"
  },
  "language_info": {
   "codemirror_mode": {
    "name": "ipython",
    "version": 3
   },
   "file_extension": ".py",
   "mimetype": "text/x-python",
   "name": "python",
   "nbconvert_exporter": "python",
   "pygments_lexer": "ipython3",
   "version": "3.13.2"
  }
 },
 "nbformat": 4,
 "nbformat_minor": 5
}
