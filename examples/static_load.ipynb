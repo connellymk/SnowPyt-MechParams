{
 "cells": [
  {
   "cell_type": "markdown",
   "id": "001f24a2",
   "metadata": {},
   "source": [
    "# Static Load Calculations for Snow Slabs\n",
    "\n",
    "This notebook demonstrates methods for calculating the static load (weight per unit area) of layered snow slabs and their force components on slopes using the `snowpyt_mechparams` package.\n",
    "\n",
    "## Overview\n",
    "\n",
    "The static load calculations include:\n",
    "- **Gravitational load**: Total weight per unit area (vertical force)\n",
    "- **Shear load**: Force component parallel to the slope surface\n",
    "- **Normal load**: Force component perpendicular to the slope surface\n"
   ]
  },
  {
   "cell_type": "code",
   "execution_count": 43,
   "id": "ade52389",
   "metadata": {},
   "outputs": [],
   "source": [
    "# Import Libraries\n",
    "import os\n",
    "import sys\n",
    "\n",
    "import pandas as pd\n",
    "\n",
    "# Import snowpylot for CAAML parsing\n",
    "from snowpylot import caaml_parser\n",
    "\n",
    "# Add the src directory to the path to import snowpyt_mechparams\n",
    "sys.path.append('../src')\n",
    "from snowpilot_utils import convert_grain_form\n",
    "from snowpyt_mechparams import density\n",
    "from snowpyt_mechparams.data_structures import Layer, Slab\n",
    "from snowpyt_mechparams.static_load import calculate_static_load\n"
   ]
  },
  {
   "cell_type": "markdown",
   "id": "da12b1ca",
   "metadata": {},
   "source": [
    "## Parse Snowpit Files\n",
    "\n",
    "Parse CAAML snowpit files to extract real layer data:\n"
   ]
  },
  {
   "cell_type": "code",
   "execution_count": 44,
   "id": "f5e7a6c5",
   "metadata": {},
   "outputs": [
    {
     "name": "stdout",
     "output_type": "stream",
     "text": [
      "Successfully parsed 50278 files\n",
      "Failed to parse 0 files\n"
     ]
    }
   ],
   "source": [
    "all_pits = []\n",
    "failed_files = []\n",
    "\n",
    "folder_path = 'data'\n",
    "\n",
    "xml_files = [f for f in os.listdir(folder_path) if f.endswith('.xml')]\n",
    "\n",
    "for file in xml_files:\n",
    "    try:\n",
    "        file_path = os.path.join(folder_path, file)\n",
    "        pit = caaml_parser(file_path)\n",
    "        all_pits.append(pit)\n",
    "    except Exception as e:\n",
    "        failed_files.append((file, str(e)))\n",
    "        print(f\"Warning: Failed to parse {file}: {e}\")\n",
    "\n",
    "print(f\"Successfully parsed {len(all_pits)} files\")\n",
    "print(f\"Failed to parse {len(failed_files)} files\")\n"
   ]
  },
  {
   "cell_type": "markdown",
   "id": "926fd3ca",
   "metadata": {},
   "source": [
    "## Construct Slab"
   ]
  },
  {
   "cell_type": "code",
   "execution_count": 45,
   "id": "0ed1fe43",
   "metadata": {},
   "outputs": [
    {
     "name": "stdout",
     "output_type": "stream",
     "text": [
      "Found 10482 valid slabs from 33279 candidate pits\n",
      "Pits rejected due to missing layer data: 12274\n",
      "Pits rejected due to density calculation failures: 10523\n",
      "Total individual density calculation failures: 9992\n"
     ]
    }
   ],
   "source": [
    "# C slab if ALL layers above layer of concern have successful density calculations\n",
    "# Returns dictionary with pit_id -> slab mapping\n",
    "\n",
    "slabs = {}  # Changed to dictionary to store pit_id -> slab mapping\n",
    "\n",
    "# Track elimination steps for detailed data funnel analysis\n",
    "total_pits = len(all_pits)\n",
    "pits_w_slope_angle = 0\n",
    "pits_w_layer_of_concern = 0\n",
    "pits_w_angle_and_layer_of_concern = 0\n",
    "pits_w_missing_layer_data = 0\n",
    "pits_w_density_calc_failures = 0\n",
    "density_calc_failures = 0  # Count individual layer failures\n",
    "valid_slabs = 0\n",
    "\n",
    "for pit in all_pits:\n",
    "    pit_id = pit.core_info.pit_id\n",
    "    layers = pit.snow_profile.layers\n",
    "\n",
    "    # Track pits with individual characteristics  \n",
    "    has_slope_angle = pit.core_info.location.slope_angle is not None\n",
    "    has_layer_of_concern = any(getattr(layer, 'layer_of_concern', False) for layer in layers)\n",
    "\n",
    "    if has_slope_angle:\n",
    "        pits_w_slope_angle += 1\n",
    "    if has_layer_of_concern:\n",
    "        pits_w_layer_of_concern += 1\n",
    "\n",
    "    # Only proceed if pit has BOTH slope angle and layer of concern\n",
    "    if has_slope_angle and has_layer_of_concern:\n",
    "        pits_w_angle_and_layer_of_concern += 1\n",
    "        slab_layers = []\n",
    "        all_layers_valid = True  # Track if all layers are successfully processed\n",
    "\n",
    "        for layer in layers:\n",
    "            if layer.layer_of_concern:\n",
    "                break # Stop at layer of concern\n",
    "\n",
    "            layer_hardness = layer.hardness\n",
    "            layer_geldsetzer_grain_form = convert_grain_form(layer.grain_form_primary)\n",
    "\n",
    "            # Reject entire pit if any layer has missing required data\n",
    "            if layer_hardness is None or layer_geldsetzer_grain_form is None:\n",
    "                all_layers_valid = False\n",
    "                break # Stop processing this pit\n",
    "\n",
    "            try:\n",
    "                layer_density = density.calculate_density(\n",
    "                    method='geldsetzer',\n",
    "                    hand_hardness=layer_hardness,\n",
    "                    grain_form=layer_geldsetzer_grain_form\n",
    "                )\n",
    "                # Handle thickness - extract value and convert from string to float\n",
    "                layer_thickness = layer.thickness\n",
    "                if isinstance(layer_thickness, list):\n",
    "                    # First element is thickness as string, second is units\n",
    "                    layer_thickness = float(layer_thickness[0]) if layer_thickness and layer_thickness[0] else 0.0\n",
    "                else:\n",
    "                    layer_thickness = float(layer_thickness) if layer_thickness else 0.0\n",
    "\n",
    "                # Create layer object if density calculation succeeded\n",
    "                layer_obj = Layer(thickness=layer_thickness, density=layer_density)\n",
    "                slab_layers.append(layer_obj)\n",
    "            except Exception as e:\n",
    "                density_calc_failures += 1\n",
    "                all_layers_valid = False\n",
    "                break # Reject entire pit if any density calculation fails\n",
    "\n",
    "        # Only create slab if ALL layers above layer of concern were successfully processed\n",
    "        if all_layers_valid and slab_layers:\n",
    "            # Handle slope angle - extract value and convert from string to float if needed\n",
    "            slope_angle_raw = pit.core_info.location.slope_angle\n",
    "            if isinstance(slope_angle_raw, list):\n",
    "                # First element is the value (possibly as string), handle conversion\n",
    "                slope_angle = float(slope_angle_raw[0]) if slope_angle_raw and slope_angle_raw[0] else 0.0\n",
    "            else:\n",
    "                slope_angle = float(slope_angle_raw) if slope_angle_raw else 0.0\n",
    "\n",
    "            slab = Slab(layers=slab_layers, angle=slope_angle)\n",
    "            slabs[pit_id] = slab  # Store slab with pit_id as key\n",
    "            valid_slabs += 1\n",
    "        else:\n",
    "            # Track different types of failures\n",
    "            if not slab_layers:\n",
    "                pits_w_missing_layer_data += 1\n",
    "            else:\n",
    "                pits_w_density_calc_failures += 1\n",
    "\n",
    "print(f\"Found {len(slabs)} valid slabs from {pits_w_angle_and_layer_of_concern} candidate pits\")\n",
    "print(f\"Pits rejected due to missing layer data: {pits_w_missing_layer_data}\")\n",
    "print(f\"Pits rejected due to density calculation failures: {pits_w_density_calc_failures}\") \n",
    "print(f\"Total individual density calculation failures: {density_calc_failures}\")\n"
   ]
  },
  {
   "cell_type": "markdown",
   "id": "da2864e3",
   "metadata": {},
   "source": [
    "## Static Load Calculations\n",
    "\n"
   ]
  },
  {
   "cell_type": "code",
   "execution_count": 46,
   "id": "6e16aea6",
   "metadata": {},
   "outputs": [
    {
     "name": "stdout",
     "output_type": "stream",
     "text": [
      "Calculated static loads for 10482 slabs\n"
     ]
    }
   ],
   "source": [
    "# Implement load calculation for valid slabs\n",
    "import math\n",
    "\n",
    "# Store results for analysis\n",
    "static_load_results = {}\n",
    "\n",
    "for pit_id, slab in slabs.items():\n",
    "    # Convert slope angle from degrees to radians\n",
    "    slope_angle_rad = math.radians(slab.angle)\n",
    "    slab_thickness = slab.total_thickness\n",
    "\n",
    "    # Calculate static load components\n",
    "    gravitational_load, shear_load, normal_load = calculate_static_load(slab, slope_angle_rad)\n",
    "\n",
    "    # Store results\n",
    "    static_load_results[pit_id] = {\n",
    "        'number_of_slab_layers': len(slab.layers),\n",
    "        'slab_thickness': slab_thickness,\n",
    "        'gravitational_load': gravitational_load,  # N/m²\n",
    "        'shear_load': shear_load,                  # N/m²\n",
    "        'normal_load': normal_load,                # N/m²\n",
    "        'slope_angle': slab.angle,                 # degrees\n",
    "        'num_layers': len(slab.layers)\n",
    "    }\n",
    "\n",
    "print(f\"Calculated static loads for {len(static_load_results)} slabs\")\n",
    "\n",
    "satic_load_results_df = pd.DataFrame(static_load_results)\n"
   ]
  },
  {
   "cell_type": "code",
   "execution_count": 47,
   "id": "01833d7c",
   "metadata": {},
   "outputs": [
    {
     "name": "stdout",
     "output_type": "stream",
     "text": [
      "============================================================\n",
      "DATA FUNNEL: Pit Elimination Steps\n",
      "============================================================\n",
      "1. Total pits processed: 50,278\n",
      "2. Pits with slope angle: 45,515 (90.5%)\n",
      "   └─ Eliminated (no slope angle): 4,763\n",
      "3. Pits with layer of concern: 36,408 (72.4%)\n",
      "   └─ Eliminated (no layer of concern): 13,870\n",
      "4. Pits with BOTH slope angle AND layer of concern: 33,279 (66.2%)\n",
      "   └─ Eliminated (missing slope angle OR layer of concern): 16,999\n",
      "5. Pits rejected due to missing layer data: 12,274\n",
      "   └─ Eliminated (incomplete hardness/grain form data): 12,274\n",
      "6. Pits rejected due to density calculation failures: 10,523\n",
      "   └─ Eliminated (density calculation failed for ≥1 layer): 10,523\n",
      "7. FINAL: Valid slabs for analysis: 10,482 (20.8%)\n",
      "\n",
      "SUMMARY:\n",
      "• Started with 50,278 snowpit observations\n",
      "• Final dataset: 10,482 valid slabs (20.8%)\n",
      "• Total individual layer density calculation failures: 9,992\n",
      "• Data retention rate: 20.8%\n"
     ]
    }
   ],
   "source": [
    "# Detailed Data Funnel - Pit Elimination Steps\n",
    "\n",
    "print(\"=\" * 60)\n",
    "print(\"DATA FUNNEL: Pit Elimination Steps\")\n",
    "print(\"=\" * 60)\n",
    "\n",
    "print(f\"1. Total pits processed: {total_pits:,}\")\n",
    "\n",
    "print(f\"2. Pits with slope angle: {pits_w_slope_angle:,} ({(pits_w_slope_angle/total_pits*100):.1f}%)\")\n",
    "pits_no_slope = total_pits - pits_w_slope_angle\n",
    "print(f\"   └─ Eliminated (no slope angle): {pits_no_slope:,}\")\n",
    "\n",
    "print(f\"3. Pits with layer of concern: {pits_w_layer_of_concern:,} ({(pits_w_layer_of_concern/total_pits*100):.1f}%)\")\n",
    "pits_no_layer_concern = total_pits - pits_w_layer_of_concern  \n",
    "print(f\"   └─ Eliminated (no layer of concern): {pits_no_layer_concern:,}\")\n",
    "\n",
    "print(f\"4. Pits with BOTH slope angle AND layer of concern: {pits_w_angle_and_layer_of_concern:,} ({(pits_w_angle_and_layer_of_concern/total_pits*100):.1f}%)\")\n",
    "pits_missing_both = total_pits - pits_w_angle_and_layer_of_concern\n",
    "print(f\"   └─ Eliminated (missing slope angle OR layer of concern): {pits_missing_both:,}\")\n",
    "\n",
    "print(f\"5. Pits rejected due to missing layer data: {pits_w_missing_layer_data:,}\")\n",
    "print(f\"   └─ Eliminated (incomplete hardness/grain form data): {pits_w_missing_layer_data:,}\")\n",
    "\n",
    "print(f\"6. Pits rejected due to density calculation failures: {pits_w_density_calc_failures:,}\")  \n",
    "print(f\"   └─ Eliminated (density calculation failed for ≥1 layer): {pits_w_density_calc_failures:,}\")\n",
    "\n",
    "print(f\"7. FINAL: Valid slabs for analysis: {len(slabs):,} ({(len(slabs)/total_pits*100):.1f}%)\")\n",
    "\n",
    "print(\"\\nSUMMARY:\")\n",
    "print(f\"• Started with {total_pits:,} snowpit observations\")\n",
    "print(f\"• Final dataset: {len(slabs):,} valid slabs ({(len(slabs)/total_pits*100):.1f}%)\")\n",
    "print(f\"• Total individual layer density calculation failures: {density_calc_failures:,}\")\n",
    "print(f\"• Data retention rate: {(len(slabs)/total_pits*100):.1f}%\")\n",
    "\n",
    "# Summary Stats\n"
   ]
  }
 ],
 "metadata": {
  "kernelspec": {
   "display_name": "test_env",
   "language": "python",
   "name": "python3"
  },
  "language_info": {
   "codemirror_mode": {
    "name": "ipython",
    "version": 3
   },
   "file_extension": ".py",
   "mimetype": "text/x-python",
   "name": "python",
   "nbconvert_exporter": "python",
   "pygments_lexer": "ipython3",
   "version": "3.13.2"
  }
 },
 "nbformat": 4,
 "nbformat_minor": 5
}
