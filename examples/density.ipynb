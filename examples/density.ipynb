{
 "cells": [
  {
   "cell_type": "markdown",
   "id": "f13e3e51",
   "metadata": {},
   "source": [
    "# Snow Density Calculations\n",
    "\n",
    "This notebook demonstrates methods for calculating density from common snow pit measurements (hand hardness and grain form) using both the local snowpyt_mechparams package and snowpylot for CAAML parsing.\n"
   ]
  },
  {
   "cell_type": "code",
   "execution_count": null,
   "id": "0de34f47",
   "metadata": {},
   "outputs": [],
   "source": [
    "# Import Libraries\n",
    "import os\n",
    "import sys\n",
    "import pandas as pd\n",
    "import numpy as np\n",
    "import matplotlib.pyplot as plt\n",
    "import seaborn as sns\n",
    "from matplotlib.patches import Patch\n",
    "import glob\n",
    "\n",
    "# Import snowpylot for CAAML parsing\n",
    "from snowpylot import caaml_parser\n",
    "\n",
    "# Add the src directory to the path to import snowpyt_mechparams\n",
    "sys.path.append('../src')\n",
    "from snowpyt_mechparams import density\n"
   ]
  },
  {
   "cell_type": "markdown",
   "id": "b079c80a",
   "metadata": {},
   "source": [
    "Parse Snowpit Files"
   ]
  },
  {
   "cell_type": "code",
   "execution_count": null,
   "id": "9b5046f0",
   "metadata": {},
   "outputs": [],
   "source": [
    "pits = []\n",
    "\n",
    "for file in glob.glob('data/snowpit/*.xml'):\n",
    "    pits.append(caaml_parser.parse_caaml(file))\n"
   ]
  },
  {
   "cell_type": "markdown",
   "id": "484d66ed",
   "metadata": {},
   "source": [
    "Implement Geldsetzer Method"
   ]
  }
 ],
 "metadata": {
  "kernelspec": {
   "display_name": ".venv",
   "language": "python",
   "name": "python3"
  },
  "language_info": {
   "codemirror_mode": {
    "name": "ipython",
    "version": 3
   },
   "file_extension": ".py",
   "mimetype": "text/x-python",
   "name": "python",
   "nbconvert_exporter": "python",
   "pygments_lexer": "ipython3",
   "version": "3.13.2"
  }
 },
 "nbformat": 4,
 "nbformat_minor": 5
}
