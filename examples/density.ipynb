{
 "cells": [
  {
   "cell_type": "markdown",
   "id": "f13e3e51",
   "metadata": {},
   "source": [
    "# Snow Density Calculations\n",
    "\n",
    "This notebook demonstrates methods for calculating density from common snow pit measurements (hand hardness and grain form) using both the local snowpyt_mechparams package and snowpylot for CAAML parsing.\n"
   ]
  },
  {
   "cell_type": "code",
   "execution_count": 4,
   "id": "0de34f47",
   "metadata": {},
   "outputs": [],
   "source": [
    "# Import Libraries\n",
    "import os\n",
    "import xml.etree.ElementTree as ET\n",
    "import sys\n",
    "import pandas as pd\n",
    "import numpy as np\n",
    "import matplotlib.pyplot as plt\n",
    "import seaborn as sns\n",
    "from matplotlib.patches import Patch\n",
    "import glob\n",
    "\n",
    "# Import snowpylot for CAAML parsing\n",
    "from snowpylot import caaml_parser\n",
    "\n",
    "# Add the src directory to the path to import snowpyt_mechparams\n",
    "sys.path.append('../src')\n",
    "from snowpyt_mechparams import density\n"
   ]
  },
  {
   "cell_type": "markdown",
   "id": "b079c80a",
   "metadata": {},
   "source": [
    "Parse Snowpit Files"
   ]
  },
  {
   "cell_type": "code",
   "execution_count": null,
   "id": "c864a00e",
   "metadata": {},
   "outputs": [
    {
     "name": "stdout",
     "output_type": "stream",
     "text": [
      "Found 46063 XML files to process\n",
      "Successfully parsed 46063 files\n",
      "Failed to parse 0 files\n"
     ]
    }
   ],
   "source": [
    "all_pits = []\n",
    "failed_files = []\n",
    "\n",
    "folder_path = 'data'\n",
    "\n",
    "xml_files = [f for f in os.listdir(folder_path) if f.endswith('.xml')]\n",
    "\n",
    "for file in xml_files:\n",
    "    try:\n",
    "        file_path = os.path.join(folder_path, file)\n",
    "        pit = caaml_parser(file_path)\n",
    "        all_pits.append(pit)\n",
    "    except Exception as e:\n",
    "        failed_files.append((file, str(e)))\n",
    "        print(f\"Warning: Failed to parse {file}: {e}\")\n",
    "\n",
    "print(f\"Successfully parsed {len(all_pits)} files\")\n",
    "print(f\"Failed to parse {len(failed_files)} files\")\n"
   ]
  },
  {
   "cell_type": "markdown",
   "id": "165239f2",
   "metadata": {},
   "source": [
    "Collect relevant data for each pit and convert to form needed to implement Geldsetzer"
   ]
  },
  {
   "cell_type": "code",
   "execution_count": 13,
   "id": "ef09d7d2",
   "metadata": {},
   "outputs": [],
   "source": [
    "def convert_grain_form(grain_form_obj):\n",
    "    \"\"\"\n",
    "    Convert grain form object to code needed for Geldsetzer table.\n",
    "    \n",
    "    Parameters:\n",
    "    grain_form_obj: Grain form object from CAAML data\n",
    "    \n",
    "    Returns:\n",
    "    str: Grain form code for Geldsetzer table lookup, or None if not mappable\n",
    "    \"\"\"\n",
    "    # Handle None grain form objects\n",
    "    if grain_form_obj is None:\n",
    "        return None\n",
    "    \n",
    "    # Check if sub_grain_class_code exists and is in our target codes\n",
    "    if (hasattr(grain_form_obj, 'sub_grain_class_code') and \n",
    "        grain_form_obj.sub_grain_class_code and\n",
    "        grain_form_obj.sub_grain_class_code in [\"PPgp\", \"RGmx\", \"FCmx\"]):\n",
    "        return grain_form_obj.sub_grain_class_code\n",
    "    \n",
    "    # Otherwise, return basic grain class code if available\n",
    "    if hasattr(grain_form_obj, 'basic_grain_class_code') and grain_form_obj.basic_grain_class_code:\n",
    "        return grain_form_obj.basic_grain_class_code\n",
    "    \n",
    "    return None\n",
    "\n",
    "\n",
    "# Collect relevant data from each snowpit\n",
    "pit_info = []\n",
    "layer_info = []\n",
    "\n",
    "for pit in all_pits:\n",
    "    pit_dict = {\n",
    "        'pit_id': pit.core_info.pit_id,\n",
    "        'layer_count': len(pit.snow_profile.layers),\n",
    "    }\n",
    "    pit_info.append(pit_dict)\n",
    "\n",
    "    for layer in pit.snow_profile.layers:\n",
    "        # Create base layer dictionary\n",
    "        layer_dict = {\n",
    "            'pit_id': pit.core_info.pit_id,\n",
    "            'depth_top': layer.depth_top,\n",
    "            'thickness': layer.thickness,\n",
    "            'hand_hardness': layer.hardness,\n",
    "            'wetness': layer.wetness,\n",
    "            'layer_of_concern': layer.layer_of_concern,\n",
    "            'grain_form_primary': layer.grain_form_primary,\n",
    "            'grain_form_secondary': layer.grain_form_secondary,\n",
    "        }\n",
    "        \n",
    "        # Add geldsetzer grain form conversion if grain form data exists\n",
    "        if layer.grain_form_primary:\n",
    "            layer_dict['geldsetzer_grain_form'] = convert_grain_form(layer.grain_form_primary)\n",
    "        else:\n",
    "            layer_dict['geldsetzer_grain_form'] = None\n",
    "            \n",
    "        layer_info.append(layer_dict)\n",
    "\n",
    "# Create a dataframe from the pit and layer info\n",
    "pit_df = pd.DataFrame(pit_info)\n",
    "layer_df = pd.DataFrame(layer_info)\n"
   ]
  },
  {
   "cell_type": "code",
   "execution_count": 14,
   "id": "049ee3da",
   "metadata": {},
   "outputs": [
    {
     "name": "stdout",
     "output_type": "stream",
     "text": [
      "=== Dataset Summary ===\n",
      "Total number of snowpits: 46063\n",
      "Total number of layers: 340803\n",
      "Layers with both hand hardness and grain form data: 257379\n",
      "Percentage of layers with complete data: 75.5%\n"
     ]
    }
   ],
   "source": [
    "# Dataset Summary\n",
    "print(\"=== Dataset Summary ===\")\n",
    "print(f\"Total number of snowpits: {len(all_pits)}\")\n",
    "print(f\"Total number of layers: {len(layer_df)}\")\n",
    "\n",
    "# Filter layers with both hand hardness and grain form data\n",
    "layers_with_data = layer_df[layer_df['hand_hardness'].notna() & layer_df['grain_form_primary'].notna()]\n",
    "print(f\"Layers with both hand hardness and grain form data: {len(layers_with_data)}\")\n",
    "print(f\"Percentage of layers with complete data: {len(layers_with_data)/len(layer_df)*100:.1f}%\")\n"
   ]
  },
  {
   "cell_type": "markdown",
   "id": "484d66ed",
   "metadata": {},
   "source": [
    "Implement Geldsetzer Method"
   ]
  },
  {
   "cell_type": "code",
   "execution_count": null,
   "id": "8acdacd4",
   "metadata": {},
   "outputs": [
    {
     "name": "stdout",
     "output_type": "stream",
     "text": [
      "=== Density Calculation Results ===\n",
      "Layers with calculated density: 183950\n",
      "Layers with data where density could not be calculated: 73429\n",
      "Success rate of layers with data: 71.5%\n",
      "Success rate of all layers: 54.0%\n"
     ]
    }
   ],
   "source": [
    "# Calculate density using Geldsetzer method for each layer\n",
    "def calculate_layer_density(row):\n",
    "    try:\n",
    "        # Only calculate if we have a mapped grain form\n",
    "        if pd.isna(row['geldsetzer_grain_form']):\n",
    "            return np.nan\n",
    "            \n",
    "        return density.calculate_density(\n",
    "            method='geldsetzer',\n",
    "            hand_hardness=row['hand_hardness'],\n",
    "            grain_form=row['geldsetzer_grain_form']\n",
    "        )\n",
    "    except ValueError as e:\n",
    "        # Return NaN for cases where density cannot be calculated\n",
    "        return np.nan\n",
    "\n",
    "# Add density column to the dataframe\n",
    "layers_with_data = layers_with_data.copy()  # Avoid SettingWithCopyWarning\n",
    "layers_with_data['density'] = layers_with_data.apply(calculate_layer_density, axis=1)\n",
    "\n",
    "# Show summary of calculated densities\n",
    "print(\"=== Density Calculation Results ===\")\n",
    "print(f\"Layers with data and calculated density: {layers_with_data['density'].notna().sum()}\")\n",
    "print(f\"Layers with data where density could not be calculated: {layers_with_data['density'].isna().sum()}\")\n",
    "print(f\"Success rate of layers with data: {layers_with_data['density'].notna().sum()/len(layers_with_data)*100:.1f}%\")\n",
    "print(f\"Success rate of all layers: {layers_with_data['density'].notna().sum()/len(layer_df)*100:.1f}%\")\n"
   ]
  }
 ],
 "metadata": {
  "kernelspec": {
   "display_name": ".venv",
   "language": "python",
   "name": "python3"
  },
  "language_info": {
   "codemirror_mode": {
    "name": "ipython",
    "version": 3
   },
   "file_extension": ".py",
   "mimetype": "text/x-python",
   "name": "python",
   "nbconvert_exporter": "python",
   "pygments_lexer": "ipython3",
   "version": "3.13.2"
  }
 },
 "nbformat": 4,
 "nbformat_minor": 5
}
