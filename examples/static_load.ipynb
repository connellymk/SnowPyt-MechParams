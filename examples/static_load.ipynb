{
 "cells": [
  {
   "cell_type": "markdown",
   "id": "001f24a2",
   "metadata": {},
   "source": [
    "# Static Load Calculations for Snow Slabs\n",
    "\n",
    "This notebook demonstrates methods for calculating the static load (weight per unit area) of layered snow slabs and their force components on slopes using the `snowpyt_mechparams` package.\n",
    "\n",
    "## Overview\n",
    "\n",
    "The static load calculations include:\n",
    "- **Gravitational load**: Total weight per unit area (vertical force)\n",
    "- **Shear load**: Force component parallel to the slope surface\n",
    "- **Normal load**: Force component perpendicular to the slope surface\n",
    "\n",
    "These calculations are essential for avalanche hazard assessment and snow stability analysis.\n"
   ]
  },
  {
   "cell_type": "code",
   "execution_count": 10,
   "id": "ade52389",
   "metadata": {},
   "outputs": [],
   "source": [
    "# Import Libraries\n",
    "import os\n",
    "import sys\n",
    "\n",
    "import pandas as pd\n",
    "\n",
    "# Import snowpylot for CAAML parsing\n",
    "from snowpylot import caaml_parser\n",
    "\n",
    "# Add the src directory to the path to import snowpyt_mechparams\n",
    "sys.path.append('../src')\n",
    "from snowpilot_utils import convert_grain_form\n",
    "from snowpyt_mechparams import density\n",
    "from snowpyt_mechparams.data_structures import Layer, Slab\n",
    "from snowpyt_mechparams.static_load import calculate_static_load\n"
   ]
  },
  {
   "cell_type": "markdown",
   "id": "da12b1ca",
   "metadata": {},
   "source": [
    "## Parse Snowpit Files\n",
    "\n",
    "Parse CAAML snowpit files to extract real layer data:\n"
   ]
  },
  {
   "cell_type": "code",
   "execution_count": null,
   "id": "f5e7a6c5",
   "metadata": {},
   "outputs": [
    {
     "name": "stdout",
     "output_type": "stream",
     "text": [
      "Successfully parsed 50278 files\n",
      "Failed to parse 0 files\n"
     ]
    }
   ],
   "source": [
    "all_pits = []\n",
    "failed_files = []\n",
    "\n",
    "folder_path = 'data'\n",
    "\n",
    "xml_files = [f for f in os.listdir(folder_path) if f.endswith('.xml')]\n",
    "\n",
    "for file in xml_files:\n",
    "    try:\n",
    "        file_path = os.path.join(folder_path, file)\n",
    "        pit = caaml_parser(file_path)\n",
    "        all_pits.append(pit)\n",
    "    except Exception as e:\n",
    "        failed_files.append((file, str(e)))\n",
    "        print(f\"Warning: Failed to parse {file}: {e}\")\n",
    "\n",
    "print(f\"Successfully parsed {len(all_pits)} files\")\n",
    "print(f\"Failed to parse {len(failed_files)} files\")\n"
   ]
  },
  {
   "cell_type": "markdown",
   "id": "926fd3ca",
   "metadata": {},
   "source": [
    "## Construct Slab"
   ]
  },
  {
   "cell_type": "code",
   "execution_count": 21,
   "id": "0ed1fe43",
   "metadata": {},
   "outputs": [
    {
     "name": "stdout",
     "output_type": "stream",
     "text": [
      "Found 10482 valid slabs from 33279 candidate pits\n",
      "Skipped 22797 pits (rejected if any layer above layer of concern failed)\n",
      "Total density calculation failures: 9992\n"
     ]
    }
   ],
   "source": [
    "# UPDATED VERSION - Only create slab if ALL layers above layer of concern have successful density calculations\n",
    "# Now returns dictionary with pit_id -> slab mapping\n",
    "\n",
    "slabs = {}  # Changed to dictionary to store pit_id -> slab mapping\n",
    "skipped_pits = 0\n",
    "pits_w_angle_and_layer_of_concern = 0\n",
    "density_calc_failures = 0\n",
    "\n",
    "for pit in all_pits:\n",
    "    pit_id = pit.core_info.pit_id\n",
    "    layers = pit.snow_profile.layers\n",
    "\n",
    "    # Check if pit has slope angle and contains a layer of concern\n",
    "    has_slope_angle = pit.core_info.location.slope_angle is not None\n",
    "    has_layer_of_concern = any(getattr(layer, 'layer_of_concern', False) for layer in layers)\n",
    "\n",
    "    if has_slope_angle and has_layer_of_concern:\n",
    "        pits_w_angle_and_layer_of_concern += 1\n",
    "        slab_layers = []\n",
    "        all_layers_valid = True  # Track if all layers are successfully processed\n",
    "\n",
    "        for layer in layers:\n",
    "            if layer.layer_of_concern:\n",
    "                break # Stop at layer of concern\n",
    "\n",
    "            layer_hardness = layer.hardness\n",
    "            layer_geldsetzer_grain_form = convert_grain_form(layer.grain_form_primary)\n",
    "\n",
    "            # Reject entire pit if any layer has missing required data\n",
    "            if layer_hardness is None or layer_geldsetzer_grain_form is None:\n",
    "                all_layers_valid = False\n",
    "                break # Stop processing this pit\n",
    "\n",
    "            try:\n",
    "                layer_density = density.calculate_density(\n",
    "                    method='geldsetzer',\n",
    "                    hand_hardness=layer_hardness,\n",
    "                    grain_form=layer_geldsetzer_grain_form\n",
    "                )\n",
    "                # Create layer object if density calculation succeeded\n",
    "                layer_obj = Layer(thickness=layer.thickness, density=layer_density)\n",
    "                slab_layers.append(layer_obj)\n",
    "            except Exception as e:\n",
    "                density_calc_failures += 1\n",
    "                all_layers_valid = False\n",
    "                break # Reject entire pit if any density calculation fails\n",
    "\n",
    "        # Only create slab if ALL layers above layer of concern were successfully processed\n",
    "        if all_layers_valid and slab_layers:\n",
    "            slab = Slab(layers=slab_layers, angle=pit.core_info.location.slope_angle)\n",
    "            slabs[pit_id] = slab  # Store slab with pit_id as key\n",
    "        else:\n",
    "            skipped_pits += 1\n",
    "\n",
    "print(f\"Found {len(slabs)} valid slabs from {pits_w_angle_and_layer_of_concern} candidate pits\")\n",
    "print(f\"Skipped {skipped_pits} pits (rejected if any layer above layer of concern failed)\")\n",
    "print(f\"Total density calculation failures: {density_calc_failures}\")\n"
   ]
  },
  {
   "cell_type": "markdown",
   "id": "da2864e3",
   "metadata": {},
   "source": [
    "## Static Load Calculations\n",
    "\n"
   ]
  }
 ],
 "metadata": {
  "kernelspec": {
   "display_name": "test_env",
   "language": "python",
   "name": "python3"
  },
  "language_info": {
   "codemirror_mode": {
    "name": "ipython",
    "version": 3
   },
   "file_extension": ".py",
   "mimetype": "text/x-python",
   "name": "python",
   "nbconvert_exporter": "python",
   "pygments_lexer": "ipython3",
   "version": "3.13.2"
  }
 },
 "nbformat": 4,
 "nbformat_minor": 5
}
