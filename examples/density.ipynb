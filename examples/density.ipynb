{
 "cells": [
  {
   "cell_type": "markdown",
   "id": "f13e3e51",
   "metadata": {},
   "source": [
    "# Snow Density Calculations\n",
    "\n",
    "This notebook demonstrates methods for calculating density from common snow pit measurements (hand hardness and grain form) using both the local snowpyt_mechparams package and snowpylot for CAAML parsing.\n"
   ]
  },
  {
   "cell_type": "code",
   "execution_count": 1,
   "id": "0de34f47",
   "metadata": {},
   "outputs": [
    {
     "ename": "ModuleNotFoundError",
     "evalue": "No module named 'snowpylot'",
     "output_type": "error",
     "traceback": [
      "\u001b[31m---------------------------------------------------------------------------\u001b[39m",
      "\u001b[31mModuleNotFoundError\u001b[39m                       Traceback (most recent call last)",
      "\u001b[36mCell\u001b[39m\u001b[36m \u001b[39m\u001b[32mIn[1]\u001b[39m\u001b[32m, line 12\u001b[39m\n\u001b[32m      9\u001b[39m \u001b[38;5;28;01mimport\u001b[39;00m\u001b[38;5;250m \u001b[39m\u001b[34;01mglob\u001b[39;00m\n\u001b[32m     11\u001b[39m \u001b[38;5;66;03m# Import snowpylot for CAAML parsing\u001b[39;00m\n\u001b[32m---> \u001b[39m\u001b[32m12\u001b[39m \u001b[38;5;28;01mfrom\u001b[39;00m\u001b[38;5;250m \u001b[39m\u001b[34;01msnowpylot\u001b[39;00m\u001b[38;5;250m \u001b[39m\u001b[38;5;28;01mimport\u001b[39;00m caaml_parser\n\u001b[32m     14\u001b[39m \u001b[38;5;66;03m# Add the src directory to the path to import snowpyt_mechparams\u001b[39;00m\n\u001b[32m     15\u001b[39m sys.path.append(\u001b[33m'\u001b[39m\u001b[33m../src\u001b[39m\u001b[33m'\u001b[39m)\n",
      "\u001b[31mModuleNotFoundError\u001b[39m: No module named 'snowpylot'"
     ]
    }
   ],
   "source": [
    "# Import Libraries\n",
    "import os\n",
    "import sys\n",
    "import pandas as pd\n",
    "import numpy as np\n",
    "import matplotlib.pyplot as plt\n",
    "import seaborn as sns\n",
    "from matplotlib.patches import Patch\n",
    "import glob\n",
    "\n",
    "# Import snowpylot for CAAML parsing\n",
    "from snowpylot import caaml_parser\n",
    "\n",
    "# Add the src directory to the path to import snowpyt_mechparams\n",
    "sys.path.append('../src')\n",
    "from snowpyt_mechparams import density\n",
    "\n",
    "print(\"All imports successful!\")\n"
   ]
  },
  {
   "cell_type": "markdown",
   "id": "484d66ed",
   "metadata": {},
   "source": [
    "Implement methods for calculating density from common snow pit measurements (hand hardness and grain form)"
   ]
  }
 ],
 "metadata": {
  "kernelspec": {
   "display_name": ".venv",
   "language": "python",
   "name": "python3"
  },
  "language_info": {
   "codemirror_mode": {
    "name": "ipython",
    "version": 3
   },
   "file_extension": ".py",
   "mimetype": "text/x-python",
   "name": "python",
   "nbconvert_exporter": "python",
   "pygments_lexer": "ipython3",
   "version": "3.13.2"
  }
 },
 "nbformat": 4,
 "nbformat_minor": 5
}
