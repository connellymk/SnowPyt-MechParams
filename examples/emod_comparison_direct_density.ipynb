{
 "cells": [
  {
   "cell_type": "markdown",
   "id": "69d937d9",
   "metadata": {},
   "source": [
    "# Elastic Modulus Comparison\n",
    "\n",
    "This notebook compares three different methods for calculating elastic modulus of snow layers:\n",
    "1. **Bergfeld et al. (2023)** - Power-law based on density\n",
    "2. **Köchle and Schneebeli (2014)** - Exponential relationships from μ-CT and FE simulations  \n",
    "3. **Wautier et al. (2015)** - Power-law with ice modulus parameter\n",
    "\n",
    "All three methods require both **density** and **grain form** as inputs.\n",
    "\n",
    "This notebook shows a comparison of methods using density measurements that are directly input by the user, not calculated. \n"
   ]
  },
  {
   "cell_type": "code",
   "execution_count": 1,
   "id": "afbe2b7b",
   "metadata": {},
   "outputs": [],
   "source": [
    "# Setup and Imports\n",
    "%load_ext autoreload\n",
    "%autoreload 2\n",
    "\n",
    "import sys\n",
    "import matplotlib.pyplot as plt\n",
    "import numpy as np\n",
    "import pandas as pd\n",
    "from uncertainties import ufloat\n",
    "from matplotlib.lines import Line2D\n",
    "from matplotlib.patches import Patch\n",
    "\n",
    "# Add the src directory to import snowpyt_mechparams\n",
    "sys.path.append('../src')\n",
    "from snowpilot_utils import convert_grain_form, parse_sample_pits\n",
    "from snowpyt_mechparams import density, elastic_modulus\n"
   ]
  },
  {
   "cell_type": "code",
   "execution_count": 2,
   "id": "766c0155",
   "metadata": {},
   "outputs": [
    {
     "name": "stdout",
     "output_type": "stream",
     "text": [
      "Successfully parsed 50278 files\n",
      "Failed to parse 0 files\n"
     ]
    }
   ],
   "source": [
    "# Parse all snowpit files from the data folder\n",
    "all_pits = parse_sample_pits('data')\n"
   ]
  },
  {
   "cell_type": "code",
   "execution_count": 3,
   "id": "f003f9dc",
   "metadata": {},
   "outputs": [],
   "source": [
    "# Collect layer information with direct density measurements\n",
    "layer_info = []\n",
    "\n",
    "for pit in all_pits:\n",
    "    for layer in pit.snow_profile.layers:\n",
    "        grain_form = layer.grain_form_primary.basic_grain_class_code if layer.grain_form_primary else None\n",
    "        layer_dict = {\n",
    "            'pit_id': pit.core_info.pit_id,\n",
    "            'hand_hardness': layer.hardness,\n",
    "            'depth_top': layer.depth_top[0] if layer.depth_top else None,  \n",
    "            'thickness': layer.thickness[0] if layer.thickness else None,\n",
    "            'grain_form': grain_form\n",
    "        }\n",
    "        \n",
    "        # Get direct density measurement if available by matching depth_top and thickness\n",
    "        layer_dict['density_direct'] = None\n",
    "        for density_obs in pit.snow_profile.density_profile:\n",
    "            if density_obs.depth_top == layer.depth_top and density_obs.thickness == layer.thickness:\n",
    "                layer_dict['density_direct'] = density_obs.density\n",
    "                break\n",
    "\n",
    "        layer_info.append(layer_dict)\n",
    "\n",
    "# Create dataframe\n",
    "layer_df = pd.DataFrame(layer_info)\n"
   ]
  },
  {
   "cell_type": "markdown",
   "id": "fc3b6af2",
   "metadata": {},
   "source": [
    "# Calculate Elastic Modulus using Three Methods"
   ]
  },
  {
   "cell_type": "code",
   "execution_count": 4,
   "id": "e2cf87bf",
   "metadata": {},
   "outputs": [
    {
     "name": "stderr",
     "output_type": "stream",
     "text": [
      "/Users/marykateconnelly/Desktop/F25/SnowPyt-MechParams/venv/lib/python3.13/site-packages/uncertainties/core.py:1024: UserWarning: Using UFloat objects with std_dev==0 may give unexpected results.\n",
      "  warn(\"Using UFloat objects with std_dev==0 may give unexpected results.\")\n"
     ]
    }
   ],
   "source": [
    "# Function to calculate elastic modulus for a single row using multiple methods\n",
    "def calculate_emod_row(row):\n",
    "    \"\"\"Calculate elastic modulus for a single row using multiple methods.\"\"\"\n",
    "    result = {\n",
    "        'e_mod_bergfeld': np.nan,\n",
    "        'e_mod_kochle': np.nan,\n",
    "        'e_mod_wautier': np.nan\n",
    "    }\n",
    "    \n",
    "    # Skip if no grain form or density data\n",
    "    # Handle both scalar and array values for density_direct\n",
    "    density_val = row['density_direct']\n",
    "    if pd.isna(row['grain_form']) or density_val is None:\n",
    "        return pd.Series(result)\n",
    "    \n",
    "    # Check if density is an array/list and extract scalar if needed\n",
    "    if isinstance(density_val, (list, np.ndarray)):\n",
    "        if len(density_val) == 0 or pd.isna(density_val[0]):\n",
    "            return pd.Series(result)\n",
    "        density_val = density_val[0]\n",
    "    elif pd.isna(density_val):\n",
    "        return pd.Series(result)\n",
    "    \n",
    "    try:\n",
    "        # Convert density to ufloat (no uncertainty available for direct measurements)\n",
    "        density_ufloat = ufloat(density_val, 0)\n",
    "        grain_form = row['grain_form']\n",
    "        \n",
    "        # Calculate elastic modulus using Bergfeld method\n",
    "        try:\n",
    "            E_mod_bergfeld = elastic_modulus.calculate_elastic_modulus(\n",
    "                method='bergfeld',\n",
    "                density=density_ufloat,\n",
    "                grain_form=grain_form\n",
    "            )\n",
    "            result['e_mod_bergfeld'] = E_mod_bergfeld.nominal_value if hasattr(E_mod_bergfeld, 'nominal_value') else E_mod_bergfeld\n",
    "        except Exception:\n",
    "            pass\n",
    "        \n",
    "        # Calculate elastic modulus using Kochle method\n",
    "        try:\n",
    "            E_mod_kochle = elastic_modulus.calculate_elastic_modulus(\n",
    "                method='kochle',\n",
    "                density=density_ufloat,\n",
    "                grain_form=grain_form\n",
    "            )\n",
    "            result['e_mod_kochle'] = E_mod_kochle.nominal_value if hasattr(E_mod_kochle, 'nominal_value') else E_mod_kochle\n",
    "        except Exception:\n",
    "            pass\n",
    "        \n",
    "        # Calculate elastic modulus using Wautier method\n",
    "        try:\n",
    "            E_mod_wautier = elastic_modulus.calculate_elastic_modulus(\n",
    "                method='wautier',\n",
    "                density=density_ufloat,\n",
    "                grain_form=grain_form\n",
    "            )\n",
    "            result['e_mod_wautier'] = E_mod_wautier.nominal_value if hasattr(E_mod_wautier, 'nominal_value') else E_mod_wautier\n",
    "        except Exception:\n",
    "            pass\n",
    "        \n",
    "    except Exception:\n",
    "        pass\n",
    "    \n",
    "    return pd.Series(result)\n",
    "\n",
    "# Apply the function to all rows at once\n",
    "layer_df[['e_mod_bergfeld', 'e_mod_kochle', 'e_mod_wautier']] = layer_df.apply(calculate_emod_row, axis=1)\n"
   ]
  },
  {
   "cell_type": "markdown",
   "id": "6dcb2e51",
   "metadata": {},
   "source": [
    "# Analysis: Success Rates and Grain Form Compatibility\n"
   ]
  },
  {
   "cell_type": "code",
   "execution_count": 5,
   "id": "79381e00",
   "metadata": {},
   "outputs": [
    {
     "name": "stdout",
     "output_type": "stream",
     "text": [
      "======================================================================\n",
      "SUCCESS RATE ANALYSIS\n",
      "======================================================================\n",
      "\n",
      "Total layers: 371,429\n",
      "Layers with both density and grain form: 9,880\n",
      "\n",
      "Method          Successful   % of Total   % of Available \n",
      "----------------------------------------------------------------------\n",
      "Bergfeld        3,132              0.84%         31.70%\n",
      "Köchle          3,764              1.01%         38.10%\n",
      "Wautier         8,354              2.25%         84.55%\n",
      "\n",
      "Overlap Analysis                         Count        % of Total\n",
      "----------------------------------------------------------------------\n",
      "At least one method succeeded            8,611              2.32%\n",
      "At least two methods succeeded           4,897              1.32%\n",
      "All three methods succeeded              1,742              0.47%\n"
     ]
    }
   ],
   "source": [
    "# Calculate success rates\n",
    "total_layers = len(layer_df)\n",
    "layers_with_data = layer_df[\n",
    "    layer_df['density_direct'].notna() & \n",
    "    layer_df['grain_form'].notna()\n",
    "].shape[0]\n",
    "\n",
    "bergfeld_success = layer_df['e_mod_bergfeld'].notna().sum()\n",
    "kochle_success = layer_df['e_mod_kochle'].notna().sum()\n",
    "wautier_success = layer_df['e_mod_wautier'].notna().sum()\n",
    "\n",
    "print(\"=\"*70)\n",
    "print(\"SUCCESS RATE ANALYSIS\")\n",
    "print(\"=\"*70)\n",
    "print(f\"\\nTotal layers: {total_layers:,}\")\n",
    "print(f\"Layers with both density and grain form: {layers_with_data:,}\")\n",
    "print(f\"\\n{'Method':<15} {'Successful':<12} {'% of Total':<12} {'% of Available':<15}\")\n",
    "print(\"-\"*70)\n",
    "print(f\"{'Bergfeld':<15} {bergfeld_success:<12,} {100*bergfeld_success/total_layers:>10.2f}% {100*bergfeld_success/layers_with_data:>13.2f}%\")\n",
    "print(f\"{'Köchle':<15} {kochle_success:<12,} {100*kochle_success/total_layers:>10.2f}% {100*kochle_success/layers_with_data:>13.2f}%\")\n",
    "print(f\"{'Wautier':<15} {wautier_success:<12,} {100*wautier_success/total_layers:>10.2f}% {100*wautier_success/layers_with_data:>13.2f}%\")\n",
    "\n",
    "# Overlaps\n",
    "all_three = layer_df[\n",
    "    layer_df['e_mod_bergfeld'].notna() & \n",
    "    layer_df['e_mod_kochle'].notna() & \n",
    "    layer_df['e_mod_wautier'].notna()\n",
    "].shape[0]\n",
    "\n",
    "any_two = layer_df[\n",
    "    (layer_df['e_mod_bergfeld'].notna() & layer_df['e_mod_kochle'].notna()) |\n",
    "    (layer_df['e_mod_bergfeld'].notna() & layer_df['e_mod_wautier'].notna()) |\n",
    "    (layer_df['e_mod_kochle'].notna() & layer_df['e_mod_wautier'].notna())\n",
    "].shape[0]\n",
    "\n",
    "any_one = layer_df[\n",
    "    layer_df['e_mod_bergfeld'].notna() | \n",
    "    layer_df['e_mod_kochle'].notna() | \n",
    "    layer_df['e_mod_wautier'].notna()\n",
    "].shape[0]\n",
    "\n",
    "print(f\"\\n{'Overlap Analysis':<40} {'Count':<12} {'% of Total'}\")\n",
    "print(\"-\"*70)\n",
    "print(f\"{'At least one method succeeded':<40} {any_one:<12,} {100*any_one/total_layers:>10.2f}%\")\n",
    "print(f\"{'At least two methods succeeded':<40} {any_two:<12,} {100*any_two/total_layers:>10.2f}%\")\n",
    "print(f\"{'All three methods succeeded':<40} {all_three:<12,} {100*all_three/total_layers:>10.2f}%\")\n"
   ]
  }
 ],
 "metadata": {
  "kernelspec": {
   "display_name": "venv",
   "language": "python",
   "name": "python3"
  },
  "language_info": {
   "codemirror_mode": {
    "name": "ipython",
    "version": 3
   },
   "file_extension": ".py",
   "mimetype": "text/x-python",
   "name": "python",
   "nbconvert_exporter": "python",
   "pygments_lexer": "ipython3",
   "version": "3.13.2"
  }
 },
 "nbformat": 4,
 "nbformat_minor": 5
}
