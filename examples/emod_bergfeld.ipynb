{
 "cells": [
  {
   "cell_type": "markdown",
   "id": "bededb57",
   "metadata": {},
   "source": [
    "# Snow Elastic Modulus Calculations - Bergfeld et al. (2023) Method\n",
    "\n",
    "This notebook demonstrates the application of the Bergfeld et al. (2023) elastic modulus parameterization to snowpit data. The Bergfeld method calculates elastic modulus from snow density using a power-law relationship optimized from Propagation Saw Test (PST) data.\n",
    "\n",
    "The analysis uses the local snowpyt_mechparams package and snowpylot for CAAML parsing.\n"
   ]
  },
  {
   "cell_type": "code",
   "execution_count": 23,
   "id": "44d98f88",
   "metadata": {},
   "outputs": [],
   "source": [
    "# Import Libraries\n",
    "import os\n",
    "import sys\n",
    "\n",
    "import matplotlib.pyplot as plt\n",
    "import numpy as np\n",
    "import pandas as pd\n",
    "import seaborn as sns\n",
    "\n",
    "# Add the src directory to the path to import snowpyt_mechparams\n",
    "sys.path.append('../src')\n",
    "from snowpilot_utils import convert_grain_form, parse_sample_pits\n",
    "from snowpyt_mechparams import density, elastic_modulus\n"
   ]
  },
  {
   "cell_type": "markdown",
   "id": "d4a001c4",
   "metadata": {},
   "source": [
    "Parse Snowpit Files\n"
   ]
  },
  {
   "cell_type": "code",
   "execution_count": 24,
   "id": "2c14f4c9",
   "metadata": {},
   "outputs": [
    {
     "name": "stdout",
     "output_type": "stream",
     "text": [
      "Successfully parsed 50278 files\n",
      "Failed to parse 0 files\n"
     ]
    }
   ],
   "source": [
    "# Parse all snowpit files from the data folder\n",
    "all_pits = parse_sample_pits('data')\n"
   ]
  },
  {
   "cell_type": "markdown",
   "id": "9553a70d",
   "metadata": {},
   "source": [
    "Apply Bergfeld parameterization using density and associated uncertainty from:\n",
    "1. Direct Measurement\n",
    "2. Kim_geldsetzer"
   ]
  },
  {
   "cell_type": "code",
   "execution_count": null,
   "id": "74743f84",
   "metadata": {},
   "outputs": [],
   "source": [
    "# Collect relevant data from each snowpit\n",
    "pit_info = []\n",
    "layer_info = []\n",
    "\n",
    "for pit in all_pits:\n",
    "    pit_dict = {\n",
    "        'pit_id': pit.core_info.pit_id,\n",
    "        'layer_count': len(pit.snow_profile.layers),\n",
    "    }\n",
    "    pit_info.append(pit_dict)\n",
    "\n",
    "    for layer in pit.snow_profile.layers:\n",
    "        # Create base layer dictionary\n",
    "        layer_dict = {\n",
    "            'pit_id': pit.core_info.pit_id,\n",
    "            'hand_hardness': layer.hardness,\n",
    "            'grain_form_primary': layer.grain_form_primary,\n",
    "        }\n",
    "\n",
    "        # Add kim_geldsetzer grain form conversion if grain form data exists\n",
    "        if layer.grain_form_primary:\n",
    "            layer_dict['kim_geldsetzer_grain_form'] = convert_grain_form(layer.grain_form_primary, 'kim_geldsetzer')\n",
    "            try: #calculate density using kim_geldsetzer method\n",
    "                density_ufloat = density.calculate_density( \n",
    "                    method='kim_geldsetzer',\n",
    "                    hand_hardness=layer.hardness,\n",
    "                    grain_form=layer.kim_geldsetzer_grain_form\n",
    "                )\n",
    "                layer_dict['density_kim_geldsetzer'] = density_ufloat.nominal_value\n",
    "                layer_dict['density_kim_geldsetzer_uncertainty'] = density_ufloat.std_dev\n",
    "            except Exception:\n",
    "                layer_dict['density_kim_geldsetzer'] = None\n",
    "        else:\n",
    "            layer_dict['kim_geldsetzer_grain_form'] = None\n",
    "            layer_dict['density_kim_geldsetzer'] = None\n",
    "\n",
    "        layer_info.append(layer_dict)\n",
    "\n",
    "    for density_obs in pit.snow_profile.density_profile:\n",
    "        for layer in pit.snow_profile.layers:\n",
    "            if density_obs.depth_top == layer.depth_top and density_obs.thickness == layer.thickness: #same layer\n",
    "                layer_dict['density_measured'] = density_obs.density[0] # nominal value of density\n",
    "            else:\n",
    "                layer_dict['density_measured'] = None\n",
    "\n",
    "# Create a dataframe from the pit and layer info\n",
    "pit_df = pd.DataFrame(pit_info)\n",
    "layer_df = pd.DataFrame(layer_info)\n",
    "\n",
    "layer_df.to_csv('layer_df.csv', index=False)\n"
   ]
  },
  {
   "cell_type": "markdown",
   "id": "0adb0a42",
   "metadata": {},
   "source": [
    "Apply Bergfeld Elastic Modulus Parameterization\n",
    "\n",
    "Now we'll apply the Bergfeld et al. (2023) method to calculate elastic modulus for all layers that have density values.\n"
   ]
  },
  {
   "cell_type": "code",
   "execution_count": null,
   "id": "14ee1941",
   "metadata": {},
   "outputs": [],
   "source": []
  }
 ],
 "metadata": {
  "kernelspec": {
   "display_name": "SnowPyt-MechParams",
   "language": "python",
   "name": "snowpyt-mechparams"
  },
  "language_info": {
   "codemirror_mode": {
    "name": "ipython",
    "version": 3
   },
   "file_extension": ".py",
   "mimetype": "text/x-python",
   "name": "python",
   "nbconvert_exporter": "python",
   "pygments_lexer": "ipython3",
   "version": "3.13.2"
  }
 },
 "nbformat": 4,
 "nbformat_minor": 5
}
