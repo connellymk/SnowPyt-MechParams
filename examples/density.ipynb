{
 "cells": [
  {
   "cell_type": "markdown",
   "id": "f13e3e51",
   "metadata": {},
   "source": [
    "# Snow Density Calculations\n",
    "\n",
    "This notebook demonstrates methods for calculating density from common snow pit measurements (hand hardness and grain form) using both the local snowpyt_mechparams package and snowpylot for CAAML parsing.\n"
   ]
  },
  {
   "cell_type": "code",
   "execution_count": 10,
   "id": "0de34f47",
   "metadata": {},
   "outputs": [],
   "source": [
    "# Import Libraries\n",
    "import os\n",
    "import xml.etree.ElementTree as ET\n",
    "import sys\n",
    "import pandas as pd\n",
    "import numpy as np\n",
    "import matplotlib.pyplot as plt\n",
    "import seaborn as sns\n",
    "from matplotlib.patches import Patch\n",
    "import glob\n",
    "\n",
    "# Import snowpylot for CAAML parsing\n",
    "from snowpylot import caaml_parser\n",
    "\n",
    "# Add the src directory to the path to import snowpyt_mechparams\n",
    "sys.path.append('../src')\n",
    "from snowpyt_mechparams import density\n"
   ]
  },
  {
   "cell_type": "markdown",
   "id": "b079c80a",
   "metadata": {},
   "source": [
    "Parse Snowpit Files"
   ]
  },
  {
   "cell_type": "code",
   "execution_count": 11,
   "id": "9b5046f0",
   "metadata": {},
   "outputs": [],
   "source": [
    "all_pits = []\n",
    "\n",
    "folder_path = 'data'\n",
    "\n",
    "for file in os.listdir(folder_path):\n",
    "    file_path = folder_path + \"/\" + file  # create the file path\n",
    "    all_pits.append(caaml_parser(file_path))\n"
   ]
  },
  {
   "cell_type": "code",
   "execution_count": 12,
   "id": "9dfca19f",
   "metadata": {},
   "outputs": [],
   "source": [
    "# Collect relevant data from each snowpit\n",
    "\n",
    "pit_info = []\n",
    "layer_info = []\n",
    "\n",
    "for pit in all_pits:\n",
    "    pit_dict = {\n",
    "        'pit_id': pit.core_info.pit_id,\n",
    "        'layer_count': len(pit.snow_profile.layers),\n",
    "    }\n",
    "    pit_info.append(pit_dict)\n",
    "\n",
    "    for layer in pit.snow_profile.layers:\n",
    "        layer_dict = {\n",
    "            'pit_id': pit.core_info.pit_id,\n",
    "            'depth_top': layer.depth_top,\n",
    "            'thickness': layer.thickness,\n",
    "            'hand_hardness': layer.hardness,\n",
    "            'wetness': layer.wetness,\n",
    "            'layer_of_concern': layer.layer_of_concern,\n",
    "            'grain_form_primary': layer.grain_form_primary,\n",
    "            'grain_form_secondary': layer.grain_form_secondary,\n",
    "        }\n",
    "        layer_info.append(layer_dict)\n",
    "\n",
    "# Create a dataframe from the pit and layer info\n",
    "pit_df = pd.DataFrame(pit_info)\n",
    "layer_df = pd.DataFrame(layer_info)\n"
   ]
  },
  {
   "cell_type": "code",
   "execution_count": 13,
   "id": "049ee3da",
   "metadata": {},
   "outputs": [
    {
     "name": "stdout",
     "output_type": "stream",
     "text": [
      "=== Dataset Summary ===\n",
      "Total number of snowpits: 48044\n",
      "Total number of layers: 354680\n",
      "Layers with both hand hardness and grain form data: 266199\n",
      "Percentage of layers with complete data: 75.1%\n"
     ]
    }
   ],
   "source": [
    "# Dataset Summary\n",
    "print(\"=== Dataset Summary ===\")\n",
    "print(f\"Total number of snowpits: {len(all_pits)}\")\n",
    "print(f\"Total number of layers: {len(layer_df)}\")\n",
    "\n",
    "# Filter layers with both hand hardness and grain form data\n",
    "layers_with_data = layer_df[layer_df['hand_hardness'].notna() & layer_df['grain_form_primary'].notna()]\n",
    "print(f\"Layers with both hand hardness and grain form data: {len(layers_with_data)}\")\n",
    "print(f\"Percentage of layers with complete data: {len(layers_with_data)/len(layer_df)*100:.1f}%\")\n"
   ]
  },
  {
   "cell_type": "code",
   "execution_count": null,
   "id": "ac3f02db",
   "metadata": {},
   "outputs": [],
   "source": [
    "# First, let's examine what grain form values are actually in our data\n",
    "print(\"=== Grain Form Analysis ===\")\n",
    "print(\"Unique grain form values in data:\")\n",
    "unique_grain_forms = layers_with_data['grain_form_primary'].value_counts()\n",
    "print(unique_grain_forms.head(20))\n",
    "\n",
    "print(f\"\\nUnique hand hardness values in data:\")\n",
    "unique_hardness = layers_with_data['hand_hardness'].value_counts()\n",
    "print(unique_hardness.head(20))\n"
   ]
  },
  {
   "cell_type": "markdown",
   "id": "484d66ed",
   "metadata": {},
   "source": [
    "Implement Geldsetzer Method"
   ]
  },
  {
   "cell_type": "code",
   "execution_count": null,
   "id": "6756c38c",
   "metadata": {},
   "outputs": [
    {
     "ename": "TypeError",
     "evalue": "tuple indices must be integers or slices, not str",
     "output_type": "error",
     "traceback": [
      "\u001b[31m---------------------------------------------------------------------------\u001b[39m",
      "\u001b[31mTypeError\u001b[39m                                 Traceback (most recent call last)",
      "\u001b[36mCell\u001b[39m\u001b[36m \u001b[39m\u001b[32mIn[16]\u001b[39m\u001b[32m, line 17\u001b[39m\n\u001b[32m     14\u001b[39m         \u001b[38;5;28;01mreturn\u001b[39;00m layer.grain_form_primary.basic_grain_class_code \n\u001b[32m     16\u001b[39m \u001b[38;5;28;01mfor\u001b[39;00m layer \u001b[38;5;129;01min\u001b[39;00m layers_with_data.iterrows():\n\u001b[32m---> \u001b[39m\u001b[32m17\u001b[39m     layer[\u001b[33m'\u001b[39m\u001b[33mgeldsetzer_grain_form\u001b[39m\u001b[33m'\u001b[39m] = convert_grain_form(\u001b[43mlayer\u001b[49m\u001b[43m[\u001b[49m\u001b[33;43m'\u001b[39;49m\u001b[33;43mgrain_form_primary\u001b[39;49m\u001b[33;43m'\u001b[39;49m\u001b[43m]\u001b[49m)\n\u001b[32m     19\u001b[39m \u001b[38;5;66;03m# Calculate density using Geldsetzer method for each layer\u001b[39;00m\n",
      "\u001b[31mTypeError\u001b[39m: tuple indices must be integers or slices, not str"
     ]
    }
   ],
   "source": [
    "def convert_grain_form(grain_form_str):\n",
    "    \"\"\"\n",
    "    Convert grain form string to code needed for Geldsetzer table.\n",
    "    \n",
    "    Parameters:\n",
    "    grain_form_str: String representing grain form from CAAML data\n",
    "    \n",
    "    Returns:\n",
    "    str: Grain form code for Geldsetzer table lookup, or None if not mappable\n",
    "    \"\"\"\n",
    "    # Direct mappings for exact matches\n",
    "    direct_mappings = {\n",
    "        'PP': 'PP',\n",
    "        'PPgp': 'PPgp', \n",
    "        'DF': 'DF',\n",
    "        'RG': 'RG',\n",
    "        'RGmx': 'RGmx',\n",
    "        'FC': 'FC',\n",
    "        'FCmx': 'FCmx',\n",
    "        'DH': 'DH'\n",
    "    }\n",
    "    \n",
    "    # First check for direct matches\n",
    "    if grain_form_str in direct_mappings:\n",
    "        return direct_mappings[grain_form_str]\n",
    "    \n",
    "    # Handle common variations and mappings\n",
    "    grain_form_upper = grain_form_str.upper() if isinstance(grain_form_str, str) else str(grain_form_str).upper()\n",
    "    \n",
    "    # Common mappings based on CAAML standards\n",
    "    if 'PP' in grain_form_upper or 'PRECIP' in grain_form_upper:\n",
    "        return 'PP'\n",
    "    elif 'DF' in grain_form_upper or 'DECOMP' in grain_form_upper:\n",
    "        return 'DF'\n",
    "    elif 'RG' in grain_form_upper or 'ROUND' in grain_form_upper:\n",
    "        return 'RG'\n",
    "    elif 'FC' in grain_form_upper or 'FACET' in grain_form_upper:\n",
    "        return 'FC'\n",
    "    elif 'DH' in grain_form_upper or 'DEPTH' in grain_form_upper or 'HOAR' in grain_form_upper:\n",
    "        return 'DH'\n",
    "    else:\n",
    "        return None  # Cannot map to Geldsetzer table\n",
    "\n",
    "# Apply grain form conversion\n",
    "layers_with_data = layers_with_data.copy()\n",
    "layers_with_data['geldsetzer_grain_form'] = layers_with_data['grain_form_primary'].apply(convert_grain_form)\n",
    "\n",
    "# Show conversion results\n",
    "print(\"=== Grain Form Conversion Results ===\")\n",
    "conversion_success = layers_with_data['geldsetzer_grain_form'].notna().sum()\n",
    "print(f\"Layers with mappable grain forms: {conversion_success}\")\n",
    "print(f\"Layers with unmappable grain forms: {len(layers_with_data) - conversion_success}\")\n",
    "print(f\"Conversion success rate: {conversion_success/len(layers_with_data)*100:.1f}%\")\n",
    "\n",
    "print(\"\\nMapped grain form distribution:\")\n",
    "print(layers_with_data['geldsetzer_grain_form'].value_counts().dropna())\n",
    "\n",
    "# Calculate density using Geldsetzer method for each layer\n"
   ]
  },
  {
   "cell_type": "code",
   "execution_count": null,
   "id": "8acdacd4",
   "metadata": {},
   "outputs": [
    {
     "name": "stdout",
     "output_type": "stream",
     "text": [
      "=== Density Calculation Results ===\n",
      "Layers with calculated density: 0\n",
      "Layers where density could not be calculated: 266199\n",
      "Success rate: 0.0%\n"
     ]
    }
   ],
   "source": [
    "# Calculate density using Geldsetzer method for each layer\n",
    "def calculate_layer_density(row):\n",
    "    try:\n",
    "        # Only calculate if we have a mapped grain form\n",
    "        if pd.isna(row['geldsetzer_grain_form']):\n",
    "            return np.nan\n",
    "            \n",
    "        return density.calculate_density(\n",
    "            method='geldsetzer',\n",
    "            hand_hardness=row['hand_hardness'],\n",
    "            grain_form=row['geldsetzer_grain_form']\n",
    "        )\n",
    "    except ValueError as e:\n",
    "        # Return NaN for cases where density cannot be calculated\n",
    "        return np.nan\n",
    "\n",
    "# Add density column to the dataframe\n",
    "layers_with_data = layers_with_data.copy()  # Avoid SettingWithCopyWarning\n",
    "layers_with_data['density'] = layers_with_data.apply(calculate_layer_density, axis=1)\n",
    "\n",
    "# Show summary of calculated densities\n",
    "print(\"=== Density Calculation Results ===\")\n",
    "print(f\"Layers with calculated density: {layers_with_data['density'].notna().sum()}\")\n",
    "print(f\"Layers where density could not be calculated: {layers_with_data['density'].isna().sum()}\")\n",
    "print(f\"Success rate: {layers_with_data['density'].notna().sum()/len(layers_with_data)*100:.1f}%\")\n"
   ]
  }
 ],
 "metadata": {
  "kernelspec": {
   "display_name": ".venv",
   "language": "python",
   "name": "python3"
  },
  "language_info": {
   "codemirror_mode": {
    "name": "ipython",
    "version": 3
   },
   "file_extension": ".py",
   "mimetype": "text/x-python",
   "name": "python",
   "nbconvert_exporter": "python",
   "pygments_lexer": "ipython3",
   "version": "3.13.2"
  }
 },
 "nbformat": 4,
 "nbformat_minor": 5
}
