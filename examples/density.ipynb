{
 "cells": [
  {
   "cell_type": "markdown",
   "id": "f13e3e51",
   "metadata": {},
   "source": [
    "# Snow Density Calculations\n",
    "\n",
    "This notebook demonstrates methods for calculating density from common snow pit measurements (hand hardness and grain form) using both the local snowpyt_mechparams package and snowpylot for CAAML parsing.\n"
   ]
  },
  {
   "cell_type": "code",
   "execution_count": 1,
   "id": "0de34f47",
   "metadata": {},
   "outputs": [],
   "source": [
    "# Import Libraries\n",
    "import os\n",
    "import xml.etree.ElementTree as ET\n",
    "import sys\n",
    "import pandas as pd\n",
    "import numpy as np\n",
    "import matplotlib.pyplot as plt\n",
    "import seaborn as sns\n",
    "from matplotlib.patches import Patch\n",
    "import glob\n",
    "\n",
    "# Import snowpylot for CAAML parsing\n",
    "from snowpylot import caaml_parser\n",
    "\n",
    "# Add the src directory to the path to import snowpyt_mechparams\n",
    "sys.path.append('../src')\n",
    "from snowpyt_mechparams import density\n"
   ]
  },
  {
   "cell_type": "markdown",
   "id": "b079c80a",
   "metadata": {},
   "source": [
    "Parse Snowpit Files"
   ]
  },
  {
   "cell_type": "code",
   "execution_count": 2,
   "id": "9b5046f0",
   "metadata": {},
   "outputs": [
    {
     "ename": "ParseError",
     "evalue": "not well-formed (invalid token): line 1, column 0 (<string>)",
     "output_type": "error",
     "traceback": [
      "Traceback \u001b[36m(most recent call last)\u001b[39m:\n",
      "  File \u001b[92m~/Desktop/SnowPyt-MechParams/.venv/lib/python3.13/site-packages/IPython/core/interactiveshell.py:3699\u001b[39m in \u001b[95mrun_code\u001b[39m\n    exec(code_obj, self.user_global_ns, self.user_ns)\n",
      "  Cell \u001b[92mIn[2]\u001b[39m\u001b[92m, line 7\u001b[39m\n    all_pits.append(caaml_parser(file_path))\n",
      "  File \u001b[92m~/Desktop/SnowPyt-MechParams/.venv/lib/python3.13/site-packages/snowpylot/caaml_parser.py:25\u001b[39m in \u001b[95mcaaml_parser\u001b[39m\n    root = ET.parse(file_path).getroot()\n",
      "  File \u001b[92m/opt/homebrew/Cellar/python@3.13/3.13.2/Frameworks/Python.framework/Versions/3.13/lib/python3.13/xml/etree/ElementTree.py:1204\u001b[39m in \u001b[95mparse\u001b[39m\n    tree.parse(source, parser)\n",
      "\u001b[36m  \u001b[39m\u001b[36mFile \u001b[39m\u001b[32m/opt/homebrew/Cellar/python@3.13/3.13.2/Frameworks/Python.framework/Versions/3.13/lib/python3.13/xml/etree/ElementTree.py:569\u001b[39m\u001b[36m in \u001b[39m\u001b[35mparse\u001b[39m\n\u001b[31m    \u001b[39m\u001b[31mself._root = parser._parse_whole(source)\u001b[39m\n",
      "  \u001b[36mFile \u001b[39m\u001b[32m<string>\u001b[39m\n\u001b[31mParseError\u001b[39m\u001b[31m:\u001b[39m not well-formed (invalid token): line 1, column 0\n"
     ]
    }
   ],
   "source": [
    "all_pits = []\n",
    "\n",
    "folder_path = 'data'\n",
    "\n",
    "for file in os.listdir(folder_path):\n",
    "    file_path = folder_path + \"/\" + file  # create the file path\n",
    "    all_pits.append(caaml_parser(file_path))\n"
   ]
  },
  {
   "cell_type": "code",
   "execution_count": null,
   "id": "9dfca19f",
   "metadata": {},
   "outputs": [],
   "source": [
    "# Collect relevant data from each snowpit\n",
    "\n",
    "pit_info = []\n",
    "layer_info = []\n",
    "\n",
    "for pit in all_pits:\n",
    "    pit_dict = {\n",
    "        'pit_id': pit.core_info.pit_id,\n",
    "        'layer_count': len(pit.snow_profile.layers),\n",
    "    }\n",
    "    pit_info.append(pit_dict)\n",
    "\n",
    "    for layer in pit.snow_profile.layers:\n",
    "        layer_dict = {\n",
    "            'pit_id': pit.core_info.pit_id,\n",
    "            'depth_top': layer.depth_top,\n",
    "            'thickness': layer.thickness,\n",
    "            'hand_hardness': layer.hardness,\n",
    "            'wetness': layer.wetness,\n",
    "            'layer_of_concern': layer.layer_of_concern,\n",
    "            'grain_form_primary': layer.grain_form_primary,\n",
    "            'grain_form_secondary': layer.grain_form_secondary,\n",
    "        }\n",
    "        layer_info.append(layer_dict)\n",
    "\n",
    "# Create a dataframe from the pit and layer info\n",
    "pit_df = pd.DataFrame(pit_info)\n",
    "layer_df = pd.DataFrame(layer_info)\n"
   ]
  },
  {
   "cell_type": "code",
   "execution_count": null,
   "id": "049ee3da",
   "metadata": {},
   "outputs": [],
   "source": [
    "# Dataset Summary\n",
    "print(\"=== Dataset Summary ===\")\n",
    "print(f\"Total number of snowpits: {len(all_pits)}\")\n",
    "print(f\"Total number of layers: {len(layer_df)}\")\n",
    "\n",
    "# Filter layers with both hand hardness and grain form data\n",
    "layers_with_data = layer_df[layer_df['hand_hardness'].notna() & layer_df['grain_form_primary'].notna()]\n",
    "print(f\"Layers with both hand hardness and grain form data: {len(layers_with_data)}\")\n",
    "print(f\"Percentage of layers with complete data: {len(layers_with_data)/len(layer_df)*100:.1f}%\")\n"
   ]
  },
  {
   "cell_type": "markdown",
   "id": "484d66ed",
   "metadata": {},
   "source": [
    "Implement Geldsetzer Method"
   ]
  },
  {
   "cell_type": "code",
   "execution_count": null,
   "id": "6756c38c",
   "metadata": {},
   "outputs": [],
   "source": [
    "def convert_grain_form(grain_form_str):\n",
    "    \"\"\"\n",
    "    Convert grain form string to code needed for Geldsetzer table.\n",
    "    \n",
    "    Parameters:\n",
    "    grain_form_str: String representing grain form from CAAML data\n",
    "    \n",
    "    Returns:\n",
    "    str: Grain form code for Geldsetzer table lookup, or None if not mappable\n",
    "    \"\"\"\n",
    "    if layer.grain_form_primary.sub_grain_class_code in [\"PPgp\",\"RGmx\",\"FCmx\"]:\n",
    "        return layer.grain_form_primary.sub_grain_class_code\n",
    "    else:\n",
    "        return layer.grain_form_primary.basic_grain_class_code \n",
    "\n",
    "\n",
    "# Apply grain form conversion\n",
    "layers_with_data = layers_with_data.copy()\n",
    "layers_with_data['geldsetzer_grain_form'] = layers_with_data['grain_form_primary'].apply(convert_grain_form)\n",
    "\n",
    "# Show conversion results\n",
    "print(\"=== Grain Form Conversion Results ===\")\n",
    "conversion_success = layers_with_data['geldsetzer_grain_form'].notna().sum()\n",
    "print(f\"Layers with mappable grain forms: {conversion_success}\")\n",
    "print(f\"Layers with unmappable grain forms: {len(layers_with_data) - conversion_success}\")\n",
    "print(f\"Conversion success rate: {conversion_success/len(layers_with_data)*100:.1f}%\")\n",
    "\n",
    "print(\"\\nMapped grain form distribution:\")\n",
    "print(layers_with_data['geldsetzer_grain_form'].value_counts().dropna())\n",
    "\n",
    "# Calculate density using Geldsetzer method for each layer\n"
   ]
  },
  {
   "cell_type": "code",
   "execution_count": null,
   "id": "8acdacd4",
   "metadata": {},
   "outputs": [],
   "source": [
    "# Calculate density using Geldsetzer method for each layer\n",
    "def calculate_layer_density(row):\n",
    "    try:\n",
    "        # Only calculate if we have a mapped grain form\n",
    "        if pd.isna(row['geldsetzer_grain_form']):\n",
    "            return np.nan\n",
    "            \n",
    "        return density.calculate_density(\n",
    "            method='geldsetzer',\n",
    "            hand_hardness=row['hand_hardness'],\n",
    "            grain_form=row['geldsetzer_grain_form']\n",
    "        )\n",
    "    except ValueError as e:\n",
    "        # Return NaN for cases where density cannot be calculated\n",
    "        return np.nan\n",
    "\n",
    "# Add density column to the dataframe\n",
    "layers_with_data = layers_with_data.copy()  # Avoid SettingWithCopyWarning\n",
    "layers_with_data['density'] = layers_with_data.apply(calculate_layer_density, axis=1)\n",
    "\n",
    "# Show summary of calculated densities\n",
    "print(\"=== Density Calculation Results ===\")\n",
    "print(f\"Layers with calculated density: {layers_with_data['density'].notna().sum()}\")\n",
    "print(f\"Layers where density could not be calculated: {layers_with_data['density'].isna().sum()}\")\n",
    "print(f\"Success rate: {layers_with_data['density'].notna().sum()/len(layers_with_data)*100:.1f}%\")\n"
   ]
  }
 ],
 "metadata": {
  "kernelspec": {
   "display_name": ".venv",
   "language": "python",
   "name": "python3"
  },
  "language_info": {
   "codemirror_mode": {
    "name": "ipython",
    "version": 3
   },
   "file_extension": ".py",
   "mimetype": "text/x-python",
   "name": "python",
   "nbconvert_exporter": "python",
   "pygments_lexer": "ipython3",
   "version": "3.13.2"
  }
 },
 "nbformat": 4,
 "nbformat_minor": 5
}
