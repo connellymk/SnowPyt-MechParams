{
 "cells": [
  {
   "cell_type": "markdown",
   "id": "e5927d8f",
   "metadata": {},
   "source": [
    "# Snow Density Direct Measurements\n",
    "\n",
    "This notebook calculates the % of layers in the sample dataset that have direct density measurements"
   ]
  },
  {
   "cell_type": "code",
   "execution_count": null,
   "id": "2fc30a7a",
   "metadata": {},
   "outputs": [],
   "source": [
    "# Import Libraries\n",
    "import os\n",
    "import sys\n",
    "\n",
    "import matplotlib.pyplot as plt\n",
    "import numpy as np\n",
    "import pandas as pd\n",
    "import seaborn as sns\n",
    "\n",
    "# Add the src directory to the path to import snowpyt_mechparams\n",
    "sys.path.append('../src')\n"
   ]
  },
  {
   "cell_type": "markdown",
   "id": "00b6ca3b",
   "metadata": {},
   "source": [
    "Parse all snowpit files"
   ]
  },
  {
   "cell_type": "code",
   "execution_count": 2,
   "id": "787dac61",
   "metadata": {},
   "outputs": [
    {
     "name": "stdout",
     "output_type": "stream",
     "text": [
      "Successfully parsed 50278 files\n",
      "Failed to parse 0 files\n"
     ]
    }
   ],
   "source": [
    "# Parse all snowpit files from the data folder\n",
    "all_pits = parse_sample_pits('data')\n"
   ]
  },
  {
   "cell_type": "code",
   "execution_count": null,
   "id": "5ff88ff8",
   "metadata": {},
   "outputs": [],
   "source": [
    "# create a dataframe of the pit info\n",
    "pit_info = []\n",
    "layer_info = []\n",
    "density_info = []\n",
    "layer_density_info = []\n",
    "\n",
    "\n",
    "for pit in all_pits:\n",
    "    pit_dict = {\n",
    "        'pit_id': pit.core_info.pit_id,\n",
    "        'layer_count': len(pit.snow_profile.layers),\n",
    "        'density_count': len(pit.snow_profile.density_profile)\n",
    "    }\n",
    "    pit_info.append(pit_dict)\n",
    "\n",
    "    for density_obs in pit.snow_profile.density_profile:\n",
    "        density_dict = {\n",
    "            'pit_id': pit.core_info.pit_id,\n",
    "            'depth_top': density_obs.depth_top,\n",
    "            'thickness': density_obs.thickness,\n",
    "            'density': density_obs.density,\n",
    "        }\n",
    "        density_info.append(density_dict)\n",
    "\n",
    "    for layer in pit.snow_profile.layers:\n",
    "        layer_dict = {\n",
    "            'pit_id': pit.core_info.pit_id,\n",
    "            'depth_top': layer.depth_top,\n",
    "            'thickness': layer.thickness,\n",
    "            'hand_hardness': layer.hardness,\n",
    "            'wetness': layer.wetness,\n",
    "            'layer_of_concern': layer.layer_of_concern,\n",
    "            'grain_form_primary': layer.grain_form_primary,\n",
    "            'grain_form_secondary': layer.grain_form_secondary,\n",
    "        }\n",
    "        layer_info.append(layer_dict)\n",
    "\n",
    "    for density_obs in pit.snow_profile.density_profile:\n",
    "        for layer in pit.snow_profile.layers:\n",
    "            if density_obs.depth_top == layer.depth_top and density_obs.thickness == layer.thickness: #same layer\n",
    "                layer_dict = {\n",
    "                    'pit_id': pit.core_info.pit_id,\n",
    "                    'depth_top': layer.depth_top,\n",
    "                    'thickness': layer.thickness,\n",
    "                    'density': density_obs.density,\n",
    "                }\n",
    "                layer_density_info.append(layer_dict)\n"
   ]
  },
  {
   "cell_type": "code",
   "execution_count": 4,
   "id": "0448ae05",
   "metadata": {},
   "outputs": [
    {
     "name": "stdout",
     "output_type": "stream",
     "text": [
      "Total Pits: 50,278\n",
      "Total Layers: 371,429\n",
      "Total Density Observations: 19,118\n",
      "Total Layers with Direct Density Measurements: 10,468, 2.8%\n"
     ]
    }
   ],
   "source": [
    "## Summary Stats\n",
    "\n",
    "# Total Pits\n",
    "total_pits = len(pit_info)\n",
    "print(f\"Total Pits: {total_pits:,}\")\n",
    "\n",
    "# Total Layers\n",
    "total_layers = len(layer_info)\n",
    "print(f\"Total Layers: {total_layers:,}\")\n",
    "\n",
    "\n",
    "# Total Density Observations\n",
    "total_density_obs = len(density_info)\n",
    "print(f\"Total Density Observations: {total_density_obs:,}\")\n",
    "\n",
    "# Total Layers with Direct Density Measurements\n",
    "total_layers_with_density = len(layer_density_info)\n",
    "print(f\"Total Layers with Direct Density Measurements: {total_layers_with_density:,}, \"\n",
    "      f\"{total_layers_with_density/total_layers*100:.1f}%\")\n"
   ]
  }
 ],
 "metadata": {
  "kernelspec": {
   "display_name": "test_env",
   "language": "python",
   "name": "python3"
  },
  "language_info": {
   "codemirror_mode": {
    "name": "ipython",
    "version": 3
   },
   "file_extension": ".py",
   "mimetype": "text/x-python",
   "name": "python",
   "nbconvert_exporter": "python",
   "pygments_lexer": "ipython3",
   "version": "3.13.2"
  }
 },
 "nbformat": 4,
 "nbformat_minor": 5
}
