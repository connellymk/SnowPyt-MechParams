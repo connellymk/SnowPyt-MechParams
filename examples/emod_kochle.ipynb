{
 "cells": [
  {
   "cell_type": "markdown",
   "id": "630e1ae3",
   "metadata": {},
   "source": [
    "Environment Check\n",
    "\n",
    "Verify that we're using the correct Python environment and that all packages are available.\n"
   ]
  },
  {
   "cell_type": "markdown",
   "id": "bededb57",
   "metadata": {},
   "source": [
    "# Snow Elastic Modulus Calculations - Köchle and Schneebeli (2014) Method\n",
    "\n",
    "This notebook demonstrates the application of the Köchle and Schneebeli (2014) elastic modulus parameterization to snowpit data. The Köchle method calculates Young's modulus from snow density using exponential relationships fitted from X-ray microcomputer tomography (m-CT) and finite-element (FE) simulations.\n",
    "\n",
    "The analysis uses the local snowpyt_mechparams package and snowpylot for CAAML parsing.\n"
   ]
  },
  {
   "cell_type": "code",
   "execution_count": 1,
   "id": "44d98f88",
   "metadata": {},
   "outputs": [],
   "source": [
    "# Import Libraries\n",
    "import os\n",
    "import sys\n",
    "\n",
    "import matplotlib.pyplot as plt\n",
    "import numpy as np\n",
    "import pandas as pd\n",
    "import seaborn as sns\n",
    "from uncertainties import ufloat\n",
    "import warnings\n",
    "\n",
    "\n",
    "# Add the src directory to the path to import snowpyt_mechparams\n",
    "sys.path.append('../src')\n",
    "from snowpilot_utils import convert_grain_form, parse_sample_pits\n",
    "from snowpyt_mechparams import density, elastic_modulus\n"
   ]
  },
  {
   "cell_type": "markdown",
   "id": "d4a001c4",
   "metadata": {},
   "source": [
    "Parse Snowpit Files\n"
   ]
  },
  {
   "cell_type": "code",
   "execution_count": 2,
   "id": "2c14f4c9",
   "metadata": {},
   "outputs": [
    {
     "name": "stdout",
     "output_type": "stream",
     "text": [
      "Successfully parsed 50278 files\n",
      "Failed to parse 0 files\n"
     ]
    }
   ],
   "source": [
    "# Parse all snowpit files from the data folder\n",
    "all_pits = parse_sample_pits('data')\n"
   ]
  },
  {
   "cell_type": "markdown",
   "id": "9553a70d",
   "metadata": {},
   "source": [
    "Apply Köchle parameterization using density and associated uncertainty from:\n",
    "1. Direct Measurement\n",
    "2. Kim_geldsetzer"
   ]
  },
  {
   "cell_type": "code",
   "execution_count": 3,
   "id": "7d736469",
   "metadata": {},
   "outputs": [],
   "source": [
    "# Collect relevant data from each snowpit\n",
    "pit_info = []\n",
    "layer_info = []\n",
    "density_info = []  # New list for density observations\n",
    "\n",
    "for pit in all_pits:\n",
    "    pit_dict = {\n",
    "        'pit_id': pit.core_info.pit_id,\n",
    "        'layer_count': len(pit.snow_profile.layers),\n",
    "    }\n",
    "    pit_info.append(pit_dict)\n",
    "\n",
    "    for layer in pit.snow_profile.layers:\n",
    "        # Create base layer dictionary\n",
    "        layer_depth_top = layer.depth_top[0] if layer.depth_top else None\n",
    "        layer_thickness = layer.thickness[0] if layer.thickness else None\n",
    "        \n",
    "        layer_dict = {\n",
    "            'pit_id': pit.core_info.pit_id,\n",
    "            'hand_hardness': layer.hardness,\n",
    "            'depth_top': layer_depth_top,      # Add for merging (scalar)\n",
    "            'thickness': layer_thickness,      # Add for merging (scalar)\n",
    "        }\n",
    "\n",
    "        # Add kim_jamieson_table2 grain form conversion if grain form data exists\n",
    "        if layer.grain_form_primary:\n",
    "            layer_dict['kim_jamieson_table2_grain_form'] = convert_grain_form(layer.grain_form_primary, 'kim_jamieson_table2')\n",
    "            try: \n",
    "                # Calculate density using kim_jamieson_table2 method - only if we have valid inputs\n",
    "                if layer.hardness and layer_dict['kim_jamieson_table2_grain_form']:\n",
    "                    density_ufloat = density.calculate_density( \n",
    "                        method='kim_jamieson_table2',\n",
    "                        hand_hardness=layer.hardness,\n",
    "                        grain_form=layer_dict['kim_jamieson_table2_grain_form']\n",
    "                    )\n",
    "                    layer_dict['density_kim_jamieson_table2'] = density_ufloat.nominal_value\n",
    "                    layer_dict['density_kim_jamieson_table2_uncertainty'] = density_ufloat.std_dev\n",
    "                else:\n",
    "                    layer_dict['density_kim_jamieson_table2'] = None\n",
    "                    layer_dict['density_kim_jamieson_table2_uncertainty'] = None\n",
    "            except Exception:\n",
    "                layer_dict['density_kim_jamieson_table2'] = None\n",
    "                layer_dict['density_kim_jamieson_table2_uncertainty'] = None\n",
    "        else:\n",
    "            layer_dict['kim_jamieson_table2_grain_form'] = None\n",
    "            layer_dict['density_kim_jamieson_table2'] = None\n",
    "            layer_dict['density_kim_jamieson_table2_uncertainty'] = None\n",
    "\n",
    "        layer_info.append(layer_dict)\n",
    "\n",
    "    # Collect density observations separately\n",
    "    for density_obs in pit.snow_profile.density_profile:\n",
    "        # Extract scalar density value\n",
    "        density_value = density_obs.density\n",
    "        if hasattr(density_value, '__len__') and len(density_value) > 0:\n",
    "            density_value = density_value[0]  # Take first element if it's an array\n",
    "        if hasattr(density_value, 'nominal_value'):\n",
    "            density_value = density_value.nominal_value  # Extract nominal value if it's a ufloat\n",
    "        \n",
    "        obs_depth_top = density_obs.depth_top[0] if density_obs.depth_top else None\n",
    "        obs_thickness = density_obs.thickness[0] if density_obs.thickness else None\n",
    "        \n",
    "        density_dict = {\n",
    "            'pit_id': pit.core_info.pit_id,\n",
    "            'depth_top': obs_depth_top,\n",
    "            'thickness': obs_thickness,\n",
    "            'density_measured': float(density_value) if density_value is not None else None\n",
    "        }\n",
    "        density_info.append(density_dict)\n",
    "\n",
    "# Create dataframes\n",
    "pit_df = pd.DataFrame(pit_info)\n",
    "layer_df = pd.DataFrame(layer_info)\n",
    "density_df = pd.DataFrame(density_info)\n",
    "\n",
    "# Merge density_measured into layer_df using pandas merge (efficient matching)\n",
    "layer_df = layer_df.merge(\n",
    "    density_df[['pit_id', 'depth_top', 'thickness', 'density_measured']],\n",
    "    on=['pit_id', 'depth_top', 'thickness'],\n",
    "    how='left'\n",
    ").drop(columns=['depth_top', 'thickness'])  # Drop temporary columns after merge\n"
   ]
  },
  {
   "cell_type": "markdown",
   "id": "0adb0a42",
   "metadata": {},
   "source": [
    "Apply Köchle Elastic Modulus Parameterization\n",
    "\n",
    "Now we'll apply the Köchle and Schneebeli (2014) method to calculate elastic modulus for all layers that have density values.\n"
   ]
  },
  {
   "cell_type": "code",
   "execution_count": null,
   "id": "14ee1941",
   "metadata": {},
   "outputs": [
    {
     "name": "stdout",
     "output_type": "stream",
     "text": [
      "Processing kim_jamieson_table2 density method...\n"
     ]
    }
   ],
   "source": [
    "# Apply Köchle Elastic Modulus Parameterization to both density methods\n",
    "\n",
    "# Initialize results storage\n",
    "results = {\n",
    "    'kim_jamieson_table2': {\n",
    "        'elastic_modulus_values': [],\n",
    "        'successful_count': 0\n",
    "    },\n",
    "    'measured': {\n",
    "        'elastic_modulus_values': [],\n",
    "        'successful_count': 0\n",
    "    }\n",
    "}\n",
    "\n",
    "# Process kim_jamieson_table2 density method (with uncertainty)\n",
    "print(\"Processing kim_jamieson_table2 density method...\")\n",
    "for idx, row in layer_df.iterrows():\n",
    "    if pd.notna(row['density_kim_jamieson_table2']) and pd.notna(row['density_kim_jamieson_table2_uncertainty']) and pd.notna(row['kim_jamieson_table2_grain_form']):\n",
    "        # Create ufloat with density and uncertainty\n",
    "        density_ufloat = ufloat(row['density_kim_jamieson_table2'], row['density_kim_jamieson_table2_uncertainty'])\n",
    "        grain_form = row['kim_jamieson_table2_grain_form']\n",
    "        \n",
    "        # Calculate elastic modulus using Köchle method\n",
    "        try:\n",
    "            E_modulus = elastic_modulus.calculate_elastic_modulus(method='kochle', density=density_ufloat, grain_form=grain_form)\n",
    "            \n",
    "            # Check if result is valid (not NaN)\n",
    "            if not np.isnan(E_modulus.nominal_value):\n",
    "                results['kim_jamieson_table2']['elastic_modulus_values'].append(E_modulus)\n",
    "                results['kim_jamieson_table2']['successful_count'] += 1\n",
    "                \n",
    "                # Store results back in dataframe\n",
    "                layer_df.at[idx, 'elastic_modulus_kochle_kim_jamieson_table2'] = E_modulus.nominal_value\n",
    "                layer_df.at[idx, 'elastic_modulus_kochle_kim_jamieson_table2_uncertainty'] = E_modulus.std_dev\n",
    "                layer_df.at[idx, 'elastic_modulus_kochle_kim_jamieson_table2_relative_uncertainty'] = E_modulus.std_dev / E_modulus.nominal_value\n",
    "            else:\n",
    "                layer_df.at[idx, 'elastic_modulus_kochle_kim_jamieson_table2'] = np.nan\n",
    "                layer_df.at[idx, 'elastic_modulus_kochle_kim_jamieson_table2_uncertainty'] = np.nan\n",
    "                layer_df.at[idx, 'elastic_modulus_kochle_kim_jamieson_table2_relative_uncertainty'] = np.nan\n",
    "                \n",
    "        except Exception as e:\n",
    "            layer_df.at[idx, 'elastic_modulus_kochle_kim_jamieson_table2'] = np.nan\n",
    "            layer_df.at[idx, 'elastic_modulus_kochle_kim_jamieson_table2_uncertainty'] = np.nan\n",
    "            layer_df.at[idx, 'elastic_modulus_kochle_kim_jamieson_table2_relative_uncertainty'] = np.nan\n",
    "# Process measured density method (without uncertainty)\n",
    "print(\"Processing measured density method...\")\n",
    "for idx, row in layer_df.iterrows():\n",
    "    density_measured = row['density_measured']\n",
    "    \n",
    "    # Handle the case where density_measured might be an array or have multiple values\n",
    "    if density_measured is not None:\n",
    "        # Convert to scalar if it's an array\n",
    "        if hasattr(density_measured, '__len__') and not isinstance(density_measured, str):\n",
    "            if len(density_measured) > 0:\n",
    "                density_measured = density_measured[0]\n",
    "            else:\n",
    "                density_measured = None\n",
    "        \n",
    "        # Check if we have a valid scalar value and grain form\n",
    "        if density_measured is not None and pd.notna(density_measured) and pd.notna(row['kim_jamieson_table2_grain_form']):\n",
    "            # Create ufloat with density but no uncertainty (std_dev = 0)\n",
    "            density_ufloat = ufloat(float(density_measured), 0.0)\n",
    "            grain_form = row['kim_jamieson_table2_grain_form']\n",
    "        \n",
    "            # Calculate elastic modulus using Köchle method\n",
    "            try:\n",
    "                E_modulus = elastic_modulus.calculate_elastic_modulus(method='kochle', density=density_ufloat, grain_form=grain_form)\n",
    "                \n",
    "                # Check if result is valid (not NaN)\n",
    "                if not np.isnan(E_modulus.nominal_value):\n",
    "                    results['measured']['elastic_modulus_values'].append(E_modulus)\n",
    "                    results['measured']['successful_count'] += 1\n",
    "                    \n",
    "                    # Store results back in dataframe\n",
    "                    layer_df.at[idx, 'elastic_modulus_kochle_measured'] = E_modulus.nominal_value\n",
    "                    layer_df.at[idx, 'elastic_modulus_kochle_measured_uncertainty'] = E_modulus.std_dev\n",
    "                    layer_df.at[idx, 'elastic_modulus_kochle_measured_relative_uncertainty'] = E_modulus.std_dev / E_modulus.nominal_value\n",
    "                else:\n",
    "                    layer_df.at[idx, 'elastic_modulus_kochle_measured'] = np.nan\n",
    "                    layer_df.at[idx, 'elastic_modulus_kochle_measured_uncertainty'] = np.nan\n",
    "                    \n",
    "            except Exception as e:\n",
    "                layer_df.at[idx, 'elastic_modulus_kochle_measured'] = np.nan\n",
    "                layer_df.at[idx, 'elastic_modulus_kochle_measured_uncertainty'] = np.nan\n"
   ]
  },
  {
   "cell_type": "markdown",
   "id": "0d54f05b",
   "metadata": {},
   "source": [
    "Reload Module\n",
    "\n",
    "Ensure we have the latest version of the elastic_modulus module with the umath.exp fix.\n"
   ]
  },
  {
   "cell_type": "markdown",
   "id": "07eabde7",
   "metadata": {},
   "source": [
    "Test Köchle Method Implementation\n",
    "\n",
    "First, let's verify the Köchle method works correctly with a test density value in the valid range.\n"
   ]
  },
  {
   "cell_type": "code",
   "execution_count": null,
   "id": "98a39413",
   "metadata": {},
   "outputs": [],
   "source": [
    "# Test the Köchle method with a sample density value\n",
    "test_density = ufloat(200, 10)  # kg/m³, within valid range\n",
    "test_grain_form = 'RG'  # Supported grain form for Köchle\n",
    "test_E = elastic_modulus.calculate_elastic_modulus(method='kochle', density=test_density, grain_form=test_grain_form)\n",
    "print(f\"Test calculation: density = {test_density} kg/m³, grain_form = {test_grain_form}\")\n",
    "print(f\"Elastic modulus = {test_E} MPa\")\n",
    "print(f\"Is valid (not NaN): {not np.isnan(test_E.nominal_value)}\")\n"
   ]
  },
  {
   "cell_type": "code",
   "execution_count": null,
   "id": "7591a4a7",
   "metadata": {},
   "outputs": [],
   "source": [
    "\n",
    "# Print summary statistics\n",
    "print(\"\\n=== KÖCHLE ELASTIC MODULUS CALCULATION RESULTS ===\")\n",
    "print(\"Kim-Jamieson Table 2 method:\")\n",
    "print(f\"  - Total layers with kim_jamieson_table2 density: {layer_df['density_kim_jamieson_table2'].notna().sum()}\")\n",
    "print(f\"  - Successful calculations: {results['kim_jamieson_table2']['successful_count']} ({(results['kim_jamieson_table2']['successful_count'] / layer_df['density_kim_jamieson_table2'].notna().sum()) * 100:.2f}%)\")\n",
    "if 'elastic_modulus_kochle_kim_jamieson_table2_relative_uncertainty' in layer_df.columns:\n",
    "    print(f\"  - Average relative uncertainty: {layer_df['elastic_modulus_kochle_kim_jamieson_table2_relative_uncertainty'].mean():.2f}%\")\n",
    "else:\n",
    "    print(f\"  - Average relative uncertainty: N/A (no successful calculations)\")\n",
    "\n",
    "print(\"\\nMeasured density method:\")\n",
    "print(f\"  - Total layers with measured density: {layer_df['density_measured'].notna().sum()}\")\n",
    "print(f\"  - Successful calculations: {results['measured']['successful_count']} ({(results['measured']['successful_count'] / layer_df['density_measured'].notna().sum()) * 100:.2f}%)\")\n",
    "if 'elastic_modulus_kochle_measured_relative_uncertainty' in layer_df.columns:\n",
    "    print(f\"  - Average relative uncertainty: {layer_df['elastic_modulus_kochle_measured_relative_uncertainty'].mean():.2f}%\")\n",
    "else:\n",
    "    print(f\"  - Average relative uncertainty: N/A (no successful calculations)\")\n",
    "\n",
    "# Print diagnostic information about density ranges\n",
    "print(\"\\n=== DENSITY RANGE ANALYSIS ===\")\n",
    "print(f\"Kim-Jamieson Table 2 density range: {layer_df['density_kim_jamieson_table2'].min():.1f} - {layer_df['density_kim_jamieson_table2'].max():.1f} kg/m³\")\n",
    "print(f\"Measured density range: {layer_df['density_measured'].min():.1f} - {layer_df['density_measured'].max():.1f} kg/m³\")\n",
    "print(f\"\\nKöchle method valid range: 150 - 450 kg/m³\")\n",
    "print(f\"Kim-Jamieson Table 2 layers in valid range: {((layer_df['density_kim_jamieson_table2'] >= 150) & (layer_df['density_kim_jamieson_table2'] <= 450)).sum()}\")\n",
    "print(f\"Measured layers in valid range: {((layer_df['density_measured'] >= 150) & (layer_df['density_measured'] <= 450)).sum()}\")\n",
    "\n",
    "# Save updated dataframe\n",
    "layer_df.to_csv('layer_df.csv', index=False)\n",
    "print(\"\\nUpdated layer data saved to layer_df.csv\")\n"
   ]
  }
 ],
 "metadata": {
  "kernelspec": {
   "display_name": "venv",
   "language": "python",
   "name": "python3"
  },
  "language_info": {
   "codemirror_mode": {
    "name": "ipython",
    "version": 3
   },
   "file_extension": ".py",
   "mimetype": "text/x-python",
   "name": "python",
   "nbconvert_exporter": "python",
   "pygments_lexer": "ipython3",
   "version": "3.13.2"
  }
 },
 "nbformat": 4,
 "nbformat_minor": 5
}
