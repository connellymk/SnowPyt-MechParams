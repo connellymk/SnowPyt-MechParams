{
 "cells": [
  {
   "cell_type": "markdown",
   "id": "001f24a2",
   "metadata": {},
   "source": [
    "# Static Load Calculations for Snow Slabs\n",
    "\n",
    "This notebook demonstrates methods for calculating the static load (weight per unit area) of layered snow slabs and their force components on slopes using the `snowpyt_mechparams` package.\n",
    "\n",
    "## Overview\n",
    "\n",
    "The static load calculations include:\n",
    "- **Gravitational load**: Total weight per unit area (vertical force)\n",
    "- **Shear load**: Force component parallel to the slope surface\n",
    "- **Normal load**: Force component perpendicular to the slope surface\n",
    "\n",
    "These calculations are essential for avalanche hazard assessment and snow stability analysis.\n"
   ]
  },
  {
   "cell_type": "code",
   "execution_count": 10,
   "id": "ade52389",
   "metadata": {},
   "outputs": [],
   "source": [
    "# Import Libraries\n",
    "import os\n",
    "import sys\n",
    "\n",
    "import pandas as pd\n",
    "\n",
    "# Import snowpylot for CAAML parsing\n",
    "from snowpylot import caaml_parser\n",
    "\n",
    "# Add the src directory to the path to import snowpyt_mechparams\n",
    "sys.path.append('../src')\n",
    "from snowpilot_utils import convert_grain_form\n",
    "from snowpyt_mechparams import density\n",
    "from snowpyt_mechparams.data_structures import Layer, Slab\n",
    "from snowpyt_mechparams.static_load import calculate_static_load\n"
   ]
  },
  {
   "cell_type": "markdown",
   "id": "da12b1ca",
   "metadata": {},
   "source": [
    "## Parse Snowpit Files\n",
    "\n",
    "Parse CAAML snowpit files to extract real layer data:\n"
   ]
  },
  {
   "cell_type": "code",
   "execution_count": 4,
   "id": "f5e7a6c5",
   "metadata": {},
   "outputs": [
    {
     "name": "stdout",
     "output_type": "stream",
     "text": [
      "Successfully parsed 50278 files\n",
      "Failed to parse 0 files\n"
     ]
    }
   ],
   "source": [
    "all_pits = []\n",
    "failed_files = []\n",
    "\n",
    "folder_path = 'data'\n",
    "\n",
    "xml_files = [f for f in os.listdir(folder_path) if f.endswith('.xml')]\n",
    "\n",
    "for file in xml_files:\n",
    "    try:\n",
    "        file_path = os.path.join(folder_path, file)\n",
    "        pit = caaml_parser(file_path)\n",
    "        all_pits.append(pit)\n",
    "    except Exception as e:\n",
    "        failed_files.append((file, str(e)))\n",
    "        print(f\"Warning: Failed to parse {file}: {e}\")\n",
    "\n",
    "print(f\"Successfully parsed {len(all_pits)} files\")\n",
    "print(f\"Failed to parse {len(failed_files)} files\")\n"
   ]
  },
  {
   "cell_type": "markdown",
   "id": "926fd3ca",
   "metadata": {},
   "source": [
    "## Construct Slab"
   ]
  },
  {
   "cell_type": "code",
   "execution_count": 14,
   "id": "9124965c",
   "metadata": {},
   "outputs": [
    {
     "ename": "ValueError",
     "evalue": "Slab must contain at least one layer",
     "output_type": "error",
     "traceback": [
      "\u001b[31m---------------------------------------------------------------------------\u001b[39m",
      "\u001b[31mValueError\u001b[39m                                Traceback (most recent call last)",
      "\u001b[36mCell\u001b[39m\u001b[36m \u001b[39m\u001b[32mIn[14]\u001b[39m\u001b[32m, line 25\u001b[39m\n\u001b[32m     23\u001b[39m             layer_obj = Layer(thickness=layer.thickness, density=layer_density)\n\u001b[32m     24\u001b[39m             slab_layers.append(layer_obj)\n\u001b[32m---> \u001b[39m\u001b[32m25\u001b[39m         slab = \u001b[43mSlab\u001b[49m\u001b[43m(\u001b[49m\u001b[43mlayers\u001b[49m\u001b[43m=\u001b[49m\u001b[43mslab_layers\u001b[49m\u001b[43m,\u001b[49m\u001b[43m \u001b[49m\u001b[43mangle\u001b[49m\u001b[43m=\u001b[49m\u001b[43mpit\u001b[49m\u001b[43m.\u001b[49m\u001b[43mcore_info\u001b[49m\u001b[43m.\u001b[49m\u001b[43mlocation\u001b[49m\u001b[43m.\u001b[49m\u001b[43mslope_angle\u001b[49m\u001b[43m)\u001b[49m\n\u001b[32m     28\u001b[39m \u001b[38;5;28mprint\u001b[39m(\u001b[33mf\u001b[39m\u001b[33m\"\u001b[39m\u001b[33mFound \u001b[39m\u001b[38;5;132;01m{\u001b[39;00m\u001b[38;5;28mlen\u001b[39m(slabs)\u001b[38;5;132;01m}\u001b[39;00m\u001b[33m pits with slope angle and layer of concern\u001b[39m\u001b[33m\"\u001b[39m)\n",
      "\u001b[36mFile \u001b[39m\u001b[32m<string>:5\u001b[39m, in \u001b[36m__init__\u001b[39m\u001b[34m(self, layers, angle)\u001b[39m\n",
      "\u001b[36mFile \u001b[39m\u001b[32m~/Desktop/snowpylot/snowpylot-applications/SnowPyt-MechParams/src/snowpyt_mechparams/data_structures.py:41\u001b[39m, in \u001b[36mSlab.__post_init__\u001b[39m\u001b[34m(self)\u001b[39m\n\u001b[32m     39\u001b[39m \u001b[38;5;250m\u001b[39m\u001b[33;03m\"\"\"Validate that the slab contains at least one layer.\"\"\"\u001b[39;00m\n\u001b[32m     40\u001b[39m \u001b[38;5;28;01mif\u001b[39;00m \u001b[38;5;129;01mnot\u001b[39;00m \u001b[38;5;28mself\u001b[39m.layers:\n\u001b[32m---> \u001b[39m\u001b[32m41\u001b[39m     \u001b[38;5;28;01mraise\u001b[39;00m \u001b[38;5;167;01mValueError\u001b[39;00m(\u001b[33m\"\u001b[39m\u001b[33mSlab must contain at least one layer\u001b[39m\u001b[33m\"\u001b[39m)\n\u001b[32m     43\u001b[39m \u001b[38;5;66;03m# Validate that all items are Layer objects\u001b[39;00m\n\u001b[32m     44\u001b[39m \u001b[38;5;28;01mfor\u001b[39;00m i, layer \u001b[38;5;129;01min\u001b[39;00m \u001b[38;5;28menumerate\u001b[39m(\u001b[38;5;28mself\u001b[39m.layers):\n",
      "\u001b[31mValueError\u001b[39m: Slab must contain at least one layer"
     ]
    }
   ],
   "source": [
    "# For pits with indicated layer of concern\n",
    "\n",
    "slabs = []\n",
    "\n",
    "for pit in all_pits:\n",
    "    layers = pit.snow_profile.layers\n",
    "    if pit.core_info.location.slope_angle is not None and any(getattr(layer, 'layer_of_concern', False) for layer in layers): # if slope angle exists and any layer of concern is indicated\n",
    "        slab_layers = []\n",
    "        for layer in layers:\n",
    "            if layer.layer_of_concern:\n",
    "                break\n",
    "            layer_hardness = layer.hardness\n",
    "            layer_geldsetzer_grain_form = convert_grain_form(layer.grain_form_primary)\n",
    "            try:\n",
    "                layer_density = density.calculate_density(\n",
    "                    method='geldsetzer',\n",
    "                    hand_hardness=layer_hardness,\n",
    "                    grain_form=layer_geldsetzer_grain_form\n",
    "                )\n",
    "            except Exception as e:\n",
    "                layer_density = None\n",
    "                continue \n",
    "            layer_obj = Layer(thickness=layer.thickness, density=layer_density)\n",
    "            slab_layers.append(layer_obj)\n",
    "        slab = Slab(layers=slab_layers, angle=pit.core_info.location.slope_angle)\n",
    "\n",
    "\n",
    "print(f\"Found {len(slabs)} pits with slope angle and layer of concern\")\n",
    "\n"
   ]
  },
  {
   "cell_type": "markdown",
   "id": "da2864e3",
   "metadata": {},
   "source": [
    "## Static Load Calculations\n",
    "\n"
   ]
  }
 ],
 "metadata": {
  "kernelspec": {
   "display_name": "test_env",
   "language": "python",
   "name": "python3"
  },
  "language_info": {
   "codemirror_mode": {
    "name": "ipython",
    "version": 3
   },
   "file_extension": ".py",
   "mimetype": "text/x-python",
   "name": "python",
   "nbconvert_exporter": "python",
   "pygments_lexer": "ipython3",
   "version": "3.13.2"
  }
 },
 "nbformat": 4,
 "nbformat_minor": 5
}
