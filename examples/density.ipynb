{
 "cells": [
  {
   "cell_type": "markdown",
   "id": "f13e3e51",
   "metadata": {},
   "source": [
    "# Snow Density Calculations\n",
    "\n",
    "This notebook demonstrates methods for calculating density from common snow pit measurements (hand hardness and grain form) using both the local snowpyt_mechparams package and snowpylot for CAAML parsing.\n"
   ]
  },
  {
   "cell_type": "code",
   "execution_count": 4,
   "id": "0de34f47",
   "metadata": {},
   "outputs": [],
   "source": [
    "# Import Libraries\n",
    "import os\n",
    "import xml.etree.ElementTree as ET\n",
    "import sys\n",
    "import pandas as pd\n",
    "import numpy as np\n",
    "import matplotlib.pyplot as plt\n",
    "import seaborn as sns\n",
    "from matplotlib.patches import Patch\n",
    "import glob\n",
    "\n",
    "# Import snowpylot for CAAML parsing\n",
    "from snowpylot import caaml_parser\n",
    "\n",
    "# Add the src directory to the path to import snowpyt_mechparams\n",
    "sys.path.append('../src')\n",
    "from snowpyt_mechparams import density\n"
   ]
  },
  {
   "cell_type": "markdown",
   "id": "b079c80a",
   "metadata": {},
   "source": [
    "Parse Snowpit Files"
   ]
  },
  {
   "cell_type": "code",
   "execution_count": 9,
   "id": "9b5046f0",
   "metadata": {},
   "outputs": [],
   "source": [
    "all_pits = []\n",
    "\n",
    "folder_path = 'data'\n",
    "\n",
    "for file in os.listdir(folder_path):\n",
    "    file_path = folder_path + \"/\" + file  # create the file path\n",
    "    all_pits.append(caaml_parser(file_path))\n"
   ]
  },
  {
   "cell_type": "code",
   "execution_count": null,
   "id": "9dfca19f",
   "metadata": {},
   "outputs": [],
   "source": [
    "# Collect relevant data from each snowpit\n",
    "\n",
    "pit_info = []\n",
    "layer_info = []\n",
    "\n",
    "for pit in all_pits:\n",
    "    pit_dict = {\n",
    "        'pit_id': pit.core_info.pit_id,\n",
    "        'layer_count': len(pit.snow_profile.layers),\n",
    "    }\n",
    "    pit_info.append(pit_dict)\n",
    "\n",
    "    for layer in pit.snow_profile.layers:\n",
    "        layer_dict = {\n",
    "            'pit_id': pit.core_info.pit_id,\n",
    "            'depth_top': layer.depth_top,\n",
    "            'thickness': layer.thickness,\n",
    "            'hand_hardness': layer.hardness,\n",
    "            'wetness': layer.wetness,\n",
    "            'layer_of_concern': layer.layer_of_concern,\n",
    "            'grain_form_primary': layer.grain_form_primary,\n",
    "            'grain_form_secondary': layer.grain_form_secondary,\n",
    "        }\n",
    "        layer_info.append(layer_dict)\n",
    "\n",
    "# Create a dataframe from the pit and layer info\n",
    "pit_df = pd.DataFrame(pit_info)\n",
    "layer_df = pd.DataFrame(layer_info)\n"
   ]
  },
  {
   "cell_type": "code",
   "execution_count": null,
   "id": "049ee3da",
   "metadata": {},
   "outputs": [
    {
     "data": {
      "text/plain": [
       "43829"
      ]
     },
     "execution_count": 12,
     "metadata": {},
     "output_type": "execute_result"
    }
   ],
   "source": [
    "# total number of snowpits\n",
    "len(all_pits)\n"
   ]
  },
  {
   "cell_type": "markdown",
   "id": "484d66ed",
   "metadata": {},
   "source": [
    "Implement Geldsetzer Method"
   ]
  }
 ],
 "metadata": {
  "kernelspec": {
   "display_name": ".venv",
   "language": "python",
   "name": "python3"
  },
  "language_info": {
   "codemirror_mode": {
    "name": "ipython",
    "version": 3
   },
   "file_extension": ".py",
   "mimetype": "text/x-python",
   "name": "python",
   "nbconvert_exporter": "python",
   "pygments_lexer": "ipython3",
   "version": "3.13.2"
  }
 },
 "nbformat": 4,
 "nbformat_minor": 5
}
