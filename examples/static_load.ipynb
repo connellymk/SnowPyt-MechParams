{
 "cells": [
  {
   "cell_type": "markdown",
   "id": "001f24a2",
   "metadata": {},
   "source": [
    "# Static Load Calculations for Snow Slabs\n",
    "\n",
    "This notebook demonstrates methods for calculating the static load (weight per unit area) of layered snow slabs and their force components on slopes using the `snowpyt_mechparams` package.\n",
    "\n",
    "## Overview\n",
    "\n",
    "The static load calculations include:\n",
    "- **Gravitational load**: Total weight per unit area (vertical force)\n",
    "- **Shear load**: Force component parallel to the slope surface\n",
    "- **Normal load**: Force component perpendicular to the slope surface\n"
   ]
  },
  {
   "cell_type": "code",
   "execution_count": 1,
   "id": "ade52389",
   "metadata": {},
   "outputs": [],
   "source": [
    "# Import Libraries\n",
    "import os\n",
    "import sys\n",
    "\n",
    "import pandas as pd\n",
    "\n",
    "# Import snowpylot for CAAML parsing\n",
    "from snowpylot import caaml_parser\n",
    "\n",
    "# Add the src directory to the path to import snowpyt_mechparams\n",
    "sys.path.append('../src')\n",
    "from snowpilot_utils import convert_grain_form\n",
    "from snowpyt_mechparams import density\n",
    "from snowpyt_mechparams.data_structures import Layer, Slab\n",
    "from snowpyt_mechparams.static_load import calculate_static_load\n"
   ]
  },
  {
   "cell_type": "markdown",
   "id": "da12b1ca",
   "metadata": {},
   "source": [
    "## Parse Snowpit Files\n",
    "\n",
    "Parse CAAML snowpit files to extract real layer data:\n"
   ]
  },
  {
   "cell_type": "code",
   "execution_count": 2,
   "id": "f5e7a6c5",
   "metadata": {},
   "outputs": [
    {
     "name": "stdout",
     "output_type": "stream",
     "text": [
      "Successfully parsed 50278 files\n",
      "Failed to parse 0 files\n"
     ]
    }
   ],
   "source": [
    "all_pits = []\n",
    "failed_files = []\n",
    "\n",
    "folder_path = 'data'\n",
    "\n",
    "xml_files = [f for f in os.listdir(folder_path) if f.endswith('.xml')]\n",
    "\n",
    "for file in xml_files:\n",
    "    try:\n",
    "        file_path = os.path.join(folder_path, file)\n",
    "        pit = caaml_parser(file_path)\n",
    "        all_pits.append(pit)\n",
    "    except Exception as e:\n",
    "        failed_files.append((file, str(e)))\n",
    "        print(f\"Warning: Failed to parse {file}: {e}\")\n",
    "\n",
    "print(f\"Successfully parsed {len(all_pits)} files\")\n",
    "print(f\"Failed to parse {len(failed_files)} files\")\n"
   ]
  },
  {
   "cell_type": "markdown",
   "id": "926fd3ca",
   "metadata": {},
   "source": [
    "## Construct Slab"
   ]
  },
  {
   "cell_type": "code",
   "execution_count": 3,
   "id": "0ed1fe43",
   "metadata": {},
   "outputs": [],
   "source": [
    "# C slab if ALL layers above layer of concern have successful density calculations\n",
    "# Returns dictionary with pit_id -> slab mapping\n",
    "\n",
    "slabs = {}  # Changed to dictionary to store pit_id -> slab mapping\n",
    "\n",
    "# Track elimination steps for detailed data funnel analysis\n",
    "total_pits = len(all_pits)\n",
    "pits_w_slope_angle = 0\n",
    "pits_w_layer_of_concern = 0\n",
    "pits_w_angle_and_layer_of_concern = 0\n",
    "pits_w_missing_layer_data = 0\n",
    "pits_w_density_calc_failures = 0\n",
    "density_calc_failures = 0  # Count individual layer failures\n",
    "valid_slabs = 0\n",
    "\n",
    "for pit in all_pits:\n",
    "    pit_id = pit.core_info.pit_id\n",
    "    layers = pit.snow_profile.layers\n",
    "\n",
    "    # Track pits with individual characteristics  \n",
    "    has_slope_angle = pit.core_info.location.slope_angle is not None\n",
    "    has_layer_of_concern = any(getattr(layer, 'layer_of_concern', False) for layer in layers)\n",
    "\n",
    "    if has_slope_angle:\n",
    "        pits_w_slope_angle += 1\n",
    "    if has_layer_of_concern:\n",
    "        pits_w_layer_of_concern += 1\n",
    "\n",
    "    # Only proceed if pit has BOTH slope angle and layer of concern\n",
    "    if has_slope_angle and has_layer_of_concern:\n",
    "        pits_w_angle_and_layer_of_concern += 1\n",
    "        slab_layers = []\n",
    "        all_layers_valid = True  # Track if all layers are successfully processed\n",
    "\n",
    "        for layer in layers:\n",
    "            if layer.layer_of_concern:\n",
    "                break # Stop at layer of concern\n",
    "\n",
    "            layer_hardness = layer.hardness\n",
    "            layer_geldsetzer_grain_form = convert_grain_form(layer.grain_form_primary)\n",
    "\n",
    "            # Reject entire pit if any layer has missing required data\n",
    "            if layer_hardness is None or layer_geldsetzer_grain_form is None:\n",
    "                all_layers_valid = False\n",
    "                break # Stop processing this pit\n",
    "\n",
    "            try:\n",
    "                layer_density = density.calculate_density(\n",
    "                    method='geldsetzer',\n",
    "                    hand_hardness=layer_hardness,\n",
    "                    grain_form=layer_geldsetzer_grain_form\n",
    "                )\n",
    "                # Handle thickness - extract value and convert from string to float\n",
    "                layer_thickness = layer.thickness\n",
    "                if isinstance(layer_thickness, list):\n",
    "                    # First element is thickness as string, second is units\n",
    "                    layer_thickness = float(layer_thickness[0]) if layer_thickness and layer_thickness[0] else 0.0\n",
    "                else:\n",
    "                    layer_thickness = float(layer_thickness) if layer_thickness else 0.0\n",
    "\n",
    "                # Create layer object if density calculation succeeded\n",
    "                layer_obj = Layer(thickness=layer_thickness, density=layer_density)\n",
    "                slab_layers.append(layer_obj)\n",
    "            except Exception as e:\n",
    "                density_calc_failures += 1\n",
    "                all_layers_valid = False\n",
    "                break # Reject entire pit if any density calculation fails\n",
    "\n",
    "        # Only create slab if ALL layers above layer of concern were successfully processed\n",
    "        if all_layers_valid and slab_layers:\n",
    "            # Handle slope angle - extract value and convert from string to float if needed\n",
    "            slope_angle_raw = pit.core_info.location.slope_angle\n",
    "            if isinstance(slope_angle_raw, list):\n",
    "                # First element is the value (possibly as string), handle conversion\n",
    "                slope_angle = float(slope_angle_raw[0]) if slope_angle_raw and slope_angle_raw[0] else 0.0\n",
    "            else:\n",
    "                slope_angle = float(slope_angle_raw) if slope_angle_raw else 0.0\n",
    "\n",
    "            slab = Slab(layers=slab_layers, angle=slope_angle)\n",
    "            slabs[pit_id] = slab  # Store slab with pit_id as key\n",
    "            valid_slabs += 1\n",
    "        else:\n",
    "            # Track different types of failures\n",
    "            if not slab_layers:\n",
    "                pits_w_missing_layer_data += 1\n",
    "            else:\n",
    "                pits_w_density_calc_failures += 1\n"
   ]
  },
  {
   "cell_type": "markdown",
   "id": "da2864e3",
   "metadata": {},
   "source": [
    "## Static Load Calculations\n",
    "\n"
   ]
  },
  {
   "cell_type": "code",
   "execution_count": 4,
   "id": "6e16aea6",
   "metadata": {},
   "outputs": [
    {
     "name": "stdout",
     "output_type": "stream",
     "text": [
      "Calculated static loads for 10584 slabs\n"
     ]
    }
   ],
   "source": [
    "# Implement load calculation for valid slabs\n",
    "import math\n",
    "\n",
    "# Store results for analysis\n",
    "static_load_results = {}\n",
    "\n",
    "for pit_id, slab in slabs.items():\n",
    "    # Convert slope angle from degrees to radians\n",
    "    slope_angle_rad = math.radians(slab.angle)\n",
    "    slab_thickness = slab.total_thickness\n",
    "\n",
    "    # Calculate static load components\n",
    "    gravitational_load, shear_load, normal_load = calculate_static_load(slab, slope_angle_rad)\n",
    "\n",
    "    # Store results\n",
    "    static_load_results[pit_id] = {\n",
    "        'number_of_slab_layers': len(slab.layers),\n",
    "        'slab_thickness': slab_thickness,\n",
    "        'gravitational_load': gravitational_load,  # N/m²\n",
    "        'shear_load': shear_load,                  # N/m²\n",
    "        'normal_load': normal_load,                # N/m²\n",
    "        'slope_angle': slab.angle,                 # degrees\n",
    "        'num_layers': len(slab.layers)\n",
    "    }\n",
    "\n",
    "print(f\"Calculated static loads for {len(static_load_results)} slabs\")\n",
    "\n",
    "satic_load_results_df = pd.DataFrame(static_load_results)\n"
   ]
  },
  {
   "cell_type": "code",
   "execution_count": 5,
   "id": "01833d7c",
   "metadata": {},
   "outputs": [
    {
     "name": "stdout",
     "output_type": "stream",
     "text": [
      "============================================================\n",
      "DATA FUNNEL: Pit Elimination Steps\n",
      "============================================================\n",
      "1. Total pits processed: 50,278\n",
      "2. Pits with slope angle: 45,515 (90.5%)\n",
      "   └─ Eliminated (no slope angle): 4,763\n",
      "3. Pits with layer of concern: 36,408 (72.4%)\n",
      "   └─ Eliminated (no layer of concern): 13,870\n",
      "4. Pits with BOTH slope angle AND layer of concern: 33,279 (66.2%)\n",
      "   └─ Eliminated (missing slope angle OR layer of concern): 16,999\n",
      "5. Pits rejected due to missing layer data: 12,193\n",
      "6. Pits rejected due to density calculation failures (Grain Form not supported by Geldsetzer): 10,502\n",
      "7. FINAL: Valid slabs for analysis: 10,584 (21.1%)\n",
      "\n",
      "SUMMARY:\n",
      "• Started with 50,278 snowpit observations\n",
      "• Final dataset: 10,584 valid slabs (21.1%)\n"
     ]
    }
   ],
   "source": [
    "# Detailed Data Funnel - Pit Elimination Steps\n",
    "\n",
    "print(\"=\" * 60)\n",
    "print(\"DATA FUNNEL: Pit Elimination Steps\")\n",
    "print(\"=\" * 60)\n",
    "\n",
    "print(f\"1. Total pits processed: {total_pits:,}\")\n",
    "\n",
    "print(f\"2. Pits with slope angle: {pits_w_slope_angle:,} ({(pits_w_slope_angle/total_pits*100):.1f}%)\")\n",
    "pits_no_slope = total_pits - pits_w_slope_angle\n",
    "print(f\"   └─ Eliminated (no slope angle): {pits_no_slope:,}\")\n",
    "\n",
    "print(f\"3. Pits with layer of concern: {pits_w_layer_of_concern:,} ({(pits_w_layer_of_concern/total_pits*100):.1f}%)\")\n",
    "pits_no_layer_concern = total_pits - pits_w_layer_of_concern  \n",
    "print(f\"   └─ Eliminated (no layer of concern): {pits_no_layer_concern:,}\")\n",
    "\n",
    "print(f\"4. Pits with BOTH slope angle AND layer of concern: {pits_w_angle_and_layer_of_concern:,} ({(pits_w_angle_and_layer_of_concern/total_pits*100):.1f}%)\")\n",
    "pits_missing_both = total_pits - pits_w_angle_and_layer_of_concern\n",
    "print(f\"   └─ Eliminated (missing slope angle OR layer of concern): {pits_missing_both:,}\")\n",
    "\n",
    "print(f\"5. Pits rejected due to missing layer data: {pits_w_missing_layer_data:,}\")\n",
    "\n",
    "print(f\"6. Pits rejected due to density calculation failures (Grain Form not supported by Geldsetzer): {pits_w_density_calc_failures:,}\")  \n",
    "\n",
    "print(f\"7. FINAL: Valid slabs for analysis: {len(slabs):,} ({(len(slabs)/total_pits*100):.1f}%)\")\n",
    "\n",
    "print(\"\\nSUMMARY:\")\n",
    "print(f\"• Started with {total_pits:,} snowpit observations\")\n",
    "print(f\"• Final dataset: {len(slabs):,} valid slabs ({(len(slabs)/total_pits*100):.1f}%)\")\n",
    "# Summary Stats\n"
   ]
  },
  {
   "cell_type": "code",
   "execution_count": 6,
   "metadata": {},
   "outputs": [
    {
     "data": {
      "application/vnd.plotly.v1+json": {
       "config": {
        "plotlyServerURL": "https://plot.ly"
       },
       "data": [
        {
         "link": {
          "color": [
           "rgba(255,127,14,0.5)",
           "rgba(44,160,44,0.5)",
           "rgba(214,39,40,0.3)",
           "rgba(214,39,40,0.3)",
           "rgba(214,39,40,0.3)",
           "rgba(148,103,189,0.5)",
           "rgba(44,160,44,0.6)",
           "rgba(214,39,40,0.4)",
           "rgba(214,39,40,0.4)"
          ],
          "source": [
           0,
           0,
           0,
           1,
           2,
           3,
           4,
           4,
           4
          ],
          "target": [
           1,
           2,
           8,
           6,
           7,
           4,
           5,
           9,
           10
          ],
          "value": [
           45515,
           36408,
           16999,
           4763,
           13870,
           33279,
           10482,
           12274,
           10523
          ]
         },
         "node": {
          "color": [
           "#1f77b4",
           "#ff7f0e",
           "#2ca02c",
           "#9467bd",
           "#9467bd",
           "#2ca02c",
           "#d62728",
           "#d62728",
           "#d62728",
           "#d62728",
           "#d62728"
          ],
          "label": [
           "Total Snowpit<br>Observations<br><b>50,278</b>",
           "Has Slope Angle<br><b>45,515</b><br>(90.5%)",
           "Has Layer of Concern<br><b>36,408</b><br>(72.4%)",
           "Both Criteria Met<br><b>33,279</b><br>(66.2%)",
           "Processing Layers<br><b>33,279</b>",
           "Valid Slabs<br><b>10,482</b><br>(20.8%)",
           "❌ No Slope Angle<br><b>4,763</b><br>(9.5%)",
           "❌ No Layer of Concern<br><b>13,870</b><br>(27.6%)",
           "❌ Missing Both<br><b>16,999</b><br>(33.8%)",
           "❌ Missing Layer Data<br><b>12,274</b><br>(24.4%)",
           "❌ Density Calc Failed<br><b>10,523</b><br>(20.9%)"
          ],
          "line": {
           "color": "black",
           "width": 0.8
          },
          "pad": 20,
          "thickness": 25,
          "x": [
           0.1,
           0.3,
           0.3,
           0.5,
           0.7,
           0.9,
           0.5,
           0.5,
           0.5,
           0.9,
           0.9
          ],
          "y": [
           0.5,
           0.7,
           0.3,
           0.5,
           0.5,
           0.5,
           0.9,
           0.1,
           0.05,
           0.7,
           0.3
          ]
         },
         "type": "sankey"
        }
       ],
       "layout": {
        "annotations": [
         {
          "bgcolor": "lightyellow",
          "bordercolor": "orange",
          "borderwidth": 1,
          "font": {
           "color": "black",
           "size": 12
          },
          "showarrow": false,
          "text": "<b>Data Retention Rate: 20.8%</b><br>79.2% eliminated through quality control",
          "x": 0.02,
          "xref": "paper",
          "y": 0.02,
          "yref": "paper"
         }
        ],
        "font": {
         "size": 11
        },
        "height": 700,
        "margin": {
         "b": 80,
         "l": 100,
         "r": 100,
         "t": 120
        },
        "paper_bgcolor": "white",
        "plot_bgcolor": "white",
        "template": {
         "data": {
          "bar": [
           {
            "error_x": {
             "color": "#2a3f5f"
            },
            "error_y": {
             "color": "#2a3f5f"
            },
            "marker": {
             "line": {
              "color": "#E5ECF6",
              "width": 0.5
             },
             "pattern": {
              "fillmode": "overlay",
              "size": 10,
              "solidity": 0.2
             }
            },
            "type": "bar"
           }
          ],
          "barpolar": [
           {
            "marker": {
             "line": {
              "color": "#E5ECF6",
              "width": 0.5
             },
             "pattern": {
              "fillmode": "overlay",
              "size": 10,
              "solidity": 0.2
             }
            },
            "type": "barpolar"
           }
          ],
          "carpet": [
           {
            "aaxis": {
             "endlinecolor": "#2a3f5f",
             "gridcolor": "white",
             "linecolor": "white",
             "minorgridcolor": "white",
             "startlinecolor": "#2a3f5f"
            },
            "baxis": {
             "endlinecolor": "#2a3f5f",
             "gridcolor": "white",
             "linecolor": "white",
             "minorgridcolor": "white",
             "startlinecolor": "#2a3f5f"
            },
            "type": "carpet"
           }
          ],
          "choropleth": [
           {
            "colorbar": {
             "outlinewidth": 0,
             "ticks": ""
            },
            "type": "choropleth"
           }
          ],
          "contour": [
           {
            "colorbar": {
             "outlinewidth": 0,
             "ticks": ""
            },
            "colorscale": [
             [
              0,
              "#0d0887"
             ],
             [
              0.1111111111111111,
              "#46039f"
             ],
             [
              0.2222222222222222,
              "#7201a8"
             ],
             [
              0.3333333333333333,
              "#9c179e"
             ],
             [
              0.4444444444444444,
              "#bd3786"
             ],
             [
              0.5555555555555556,
              "#d8576b"
             ],
             [
              0.6666666666666666,
              "#ed7953"
             ],
             [
              0.7777777777777778,
              "#fb9f3a"
             ],
             [
              0.8888888888888888,
              "#fdca26"
             ],
             [
              1,
              "#f0f921"
             ]
            ],
            "type": "contour"
           }
          ],
          "contourcarpet": [
           {
            "colorbar": {
             "outlinewidth": 0,
             "ticks": ""
            },
            "type": "contourcarpet"
           }
          ],
          "heatmap": [
           {
            "colorbar": {
             "outlinewidth": 0,
             "ticks": ""
            },
            "colorscale": [
             [
              0,
              "#0d0887"
             ],
             [
              0.1111111111111111,
              "#46039f"
             ],
             [
              0.2222222222222222,
              "#7201a8"
             ],
             [
              0.3333333333333333,
              "#9c179e"
             ],
             [
              0.4444444444444444,
              "#bd3786"
             ],
             [
              0.5555555555555556,
              "#d8576b"
             ],
             [
              0.6666666666666666,
              "#ed7953"
             ],
             [
              0.7777777777777778,
              "#fb9f3a"
             ],
             [
              0.8888888888888888,
              "#fdca26"
             ],
             [
              1,
              "#f0f921"
             ]
            ],
            "type": "heatmap"
           }
          ],
          "histogram": [
           {
            "marker": {
             "pattern": {
              "fillmode": "overlay",
              "size": 10,
              "solidity": 0.2
             }
            },
            "type": "histogram"
           }
          ],
          "histogram2d": [
           {
            "colorbar": {
             "outlinewidth": 0,
             "ticks": ""
            },
            "colorscale": [
             [
              0,
              "#0d0887"
             ],
             [
              0.1111111111111111,
              "#46039f"
             ],
             [
              0.2222222222222222,
              "#7201a8"
             ],
             [
              0.3333333333333333,
              "#9c179e"
             ],
             [
              0.4444444444444444,
              "#bd3786"
             ],
             [
              0.5555555555555556,
              "#d8576b"
             ],
             [
              0.6666666666666666,
              "#ed7953"
             ],
             [
              0.7777777777777778,
              "#fb9f3a"
             ],
             [
              0.8888888888888888,
              "#fdca26"
             ],
             [
              1,
              "#f0f921"
             ]
            ],
            "type": "histogram2d"
           }
          ],
          "histogram2dcontour": [
           {
            "colorbar": {
             "outlinewidth": 0,
             "ticks": ""
            },
            "colorscale": [
             [
              0,
              "#0d0887"
             ],
             [
              0.1111111111111111,
              "#46039f"
             ],
             [
              0.2222222222222222,
              "#7201a8"
             ],
             [
              0.3333333333333333,
              "#9c179e"
             ],
             [
              0.4444444444444444,
              "#bd3786"
             ],
             [
              0.5555555555555556,
              "#d8576b"
             ],
             [
              0.6666666666666666,
              "#ed7953"
             ],
             [
              0.7777777777777778,
              "#fb9f3a"
             ],
             [
              0.8888888888888888,
              "#fdca26"
             ],
             [
              1,
              "#f0f921"
             ]
            ],
            "type": "histogram2dcontour"
           }
          ],
          "mesh3d": [
           {
            "colorbar": {
             "outlinewidth": 0,
             "ticks": ""
            },
            "type": "mesh3d"
           }
          ],
          "parcoords": [
           {
            "line": {
             "colorbar": {
              "outlinewidth": 0,
              "ticks": ""
             }
            },
            "type": "parcoords"
           }
          ],
          "pie": [
           {
            "automargin": true,
            "type": "pie"
           }
          ],
          "scatter": [
           {
            "fillpattern": {
             "fillmode": "overlay",
             "size": 10,
             "solidity": 0.2
            },
            "type": "scatter"
           }
          ],
          "scatter3d": [
           {
            "line": {
             "colorbar": {
              "outlinewidth": 0,
              "ticks": ""
             }
            },
            "marker": {
             "colorbar": {
              "outlinewidth": 0,
              "ticks": ""
             }
            },
            "type": "scatter3d"
           }
          ],
          "scattercarpet": [
           {
            "marker": {
             "colorbar": {
              "outlinewidth": 0,
              "ticks": ""
             }
            },
            "type": "scattercarpet"
           }
          ],
          "scattergeo": [
           {
            "marker": {
             "colorbar": {
              "outlinewidth": 0,
              "ticks": ""
             }
            },
            "type": "scattergeo"
           }
          ],
          "scattergl": [
           {
            "marker": {
             "colorbar": {
              "outlinewidth": 0,
              "ticks": ""
             }
            },
            "type": "scattergl"
           }
          ],
          "scattermap": [
           {
            "marker": {
             "colorbar": {
              "outlinewidth": 0,
              "ticks": ""
             }
            },
            "type": "scattermap"
           }
          ],
          "scattermapbox": [
           {
            "marker": {
             "colorbar": {
              "outlinewidth": 0,
              "ticks": ""
             }
            },
            "type": "scattermapbox"
           }
          ],
          "scatterpolar": [
           {
            "marker": {
             "colorbar": {
              "outlinewidth": 0,
              "ticks": ""
             }
            },
            "type": "scatterpolar"
           }
          ],
          "scatterpolargl": [
           {
            "marker": {
             "colorbar": {
              "outlinewidth": 0,
              "ticks": ""
             }
            },
            "type": "scatterpolargl"
           }
          ],
          "scatterternary": [
           {
            "marker": {
             "colorbar": {
              "outlinewidth": 0,
              "ticks": ""
             }
            },
            "type": "scatterternary"
           }
          ],
          "surface": [
           {
            "colorbar": {
             "outlinewidth": 0,
             "ticks": ""
            },
            "colorscale": [
             [
              0,
              "#0d0887"
             ],
             [
              0.1111111111111111,
              "#46039f"
             ],
             [
              0.2222222222222222,
              "#7201a8"
             ],
             [
              0.3333333333333333,
              "#9c179e"
             ],
             [
              0.4444444444444444,
              "#bd3786"
             ],
             [
              0.5555555555555556,
              "#d8576b"
             ],
             [
              0.6666666666666666,
              "#ed7953"
             ],
             [
              0.7777777777777778,
              "#fb9f3a"
             ],
             [
              0.8888888888888888,
              "#fdca26"
             ],
             [
              1,
              "#f0f921"
             ]
            ],
            "type": "surface"
           }
          ],
          "table": [
           {
            "cells": {
             "fill": {
              "color": "#EBF0F8"
             },
             "line": {
              "color": "white"
             }
            },
            "header": {
             "fill": {
              "color": "#C8D4E3"
             },
             "line": {
              "color": "white"
             }
            },
            "type": "table"
           }
          ]
         },
         "layout": {
          "annotationdefaults": {
           "arrowcolor": "#2a3f5f",
           "arrowhead": 0,
           "arrowwidth": 1
          },
          "autotypenumbers": "strict",
          "coloraxis": {
           "colorbar": {
            "outlinewidth": 0,
            "ticks": ""
           }
          },
          "colorscale": {
           "diverging": [
            [
             0,
             "#8e0152"
            ],
            [
             0.1,
             "#c51b7d"
            ],
            [
             0.2,
             "#de77ae"
            ],
            [
             0.3,
             "#f1b6da"
            ],
            [
             0.4,
             "#fde0ef"
            ],
            [
             0.5,
             "#f7f7f7"
            ],
            [
             0.6,
             "#e6f5d0"
            ],
            [
             0.7,
             "#b8e186"
            ],
            [
             0.8,
             "#7fbc41"
            ],
            [
             0.9,
             "#4d9221"
            ],
            [
             1,
             "#276419"
            ]
           ],
           "sequential": [
            [
             0,
             "#0d0887"
            ],
            [
             0.1111111111111111,
             "#46039f"
            ],
            [
             0.2222222222222222,
             "#7201a8"
            ],
            [
             0.3333333333333333,
             "#9c179e"
            ],
            [
             0.4444444444444444,
             "#bd3786"
            ],
            [
             0.5555555555555556,
             "#d8576b"
            ],
            [
             0.6666666666666666,
             "#ed7953"
            ],
            [
             0.7777777777777778,
             "#fb9f3a"
            ],
            [
             0.8888888888888888,
             "#fdca26"
            ],
            [
             1,
             "#f0f921"
            ]
           ],
           "sequentialminus": [
            [
             0,
             "#0d0887"
            ],
            [
             0.1111111111111111,
             "#46039f"
            ],
            [
             0.2222222222222222,
             "#7201a8"
            ],
            [
             0.3333333333333333,
             "#9c179e"
            ],
            [
             0.4444444444444444,
             "#bd3786"
            ],
            [
             0.5555555555555556,
             "#d8576b"
            ],
            [
             0.6666666666666666,
             "#ed7953"
            ],
            [
             0.7777777777777778,
             "#fb9f3a"
            ],
            [
             0.8888888888888888,
             "#fdca26"
            ],
            [
             1,
             "#f0f921"
            ]
           ]
          },
          "colorway": [
           "#636efa",
           "#EF553B",
           "#00cc96",
           "#ab63fa",
           "#FFA15A",
           "#19d3f3",
           "#FF6692",
           "#B6E880",
           "#FF97FF",
           "#FECB52"
          ],
          "font": {
           "color": "#2a3f5f"
          },
          "geo": {
           "bgcolor": "white",
           "lakecolor": "white",
           "landcolor": "#E5ECF6",
           "showlakes": true,
           "showland": true,
           "subunitcolor": "white"
          },
          "hoverlabel": {
           "align": "left"
          },
          "hovermode": "closest",
          "mapbox": {
           "style": "light"
          },
          "paper_bgcolor": "white",
          "plot_bgcolor": "#E5ECF6",
          "polar": {
           "angularaxis": {
            "gridcolor": "white",
            "linecolor": "white",
            "ticks": ""
           },
           "bgcolor": "#E5ECF6",
           "radialaxis": {
            "gridcolor": "white",
            "linecolor": "white",
            "ticks": ""
           }
          },
          "scene": {
           "xaxis": {
            "backgroundcolor": "#E5ECF6",
            "gridcolor": "white",
            "gridwidth": 2,
            "linecolor": "white",
            "showbackground": true,
            "ticks": "",
            "zerolinecolor": "white"
           },
           "yaxis": {
            "backgroundcolor": "#E5ECF6",
            "gridcolor": "white",
            "gridwidth": 2,
            "linecolor": "white",
            "showbackground": true,
            "ticks": "",
            "zerolinecolor": "white"
           },
           "zaxis": {
            "backgroundcolor": "#E5ECF6",
            "gridcolor": "white",
            "gridwidth": 2,
            "linecolor": "white",
            "showbackground": true,
            "ticks": "",
            "zerolinecolor": "white"
           }
          },
          "shapedefaults": {
           "line": {
            "color": "#2a3f5f"
           }
          },
          "ternary": {
           "aaxis": {
            "gridcolor": "white",
            "linecolor": "white",
            "ticks": ""
           },
           "baxis": {
            "gridcolor": "white",
            "linecolor": "white",
            "ticks": ""
           },
           "bgcolor": "#E5ECF6",
           "caxis": {
            "gridcolor": "white",
            "linecolor": "white",
            "ticks": ""
           }
          },
          "title": {
           "x": 0.05
          },
          "xaxis": {
           "automargin": true,
           "gridcolor": "white",
           "linecolor": "white",
           "ticks": "",
           "title": {
            "standoff": 15
           },
           "zerolinecolor": "white",
           "zerolinewidth": 2
          },
          "yaxis": {
           "automargin": true,
           "gridcolor": "white",
           "linecolor": "white",
           "ticks": "",
           "title": {
            "standoff": 15
           },
           "zerolinecolor": "white",
           "zerolinewidth": 2
          }
         }
        },
        "title": {
         "text": "Snow Pit Data Processing Funnel: Quality Control & Filtering Pipeline<br><sub>From 50,278 raw observations to 10,482 valid mechanical parameter datasets</sub>",
         "x": 0.5
        },
        "width": 1200
       }
      }
     },
     "metadata": {},
     "output_type": "display_data"
    },
    {
     "name": "stdout",
     "output_type": "stream",
     "text": [
      "\n",
      "================================================================================\n",
      "DATA PROCESSING PIPELINE SUMMARY\n",
      "================================================================================\n",
      "                 Stage  Count  Percentage  Cumulative_Loss\n",
      "       Initial Dataset  50278       100.0                0\n",
      "       Has Slope Angle  45515        90.5             4763\n",
      "  Has Layer of Concern  36408        72.4            13870\n",
      "     Both Criteria Met  33279        66.2            16999\n",
      "After Layer Processing  21005        41.8            29273\n",
      "     Final Valid Slabs  10482        20.8            39796\n",
      "\n",
      "Final Success Rate: 10,482 / 50,278 = 20.8%\n"
     ]
    }
   ],
   "source": [
    "# Create an improved Sankey Diagram that better reflects the actual filtering logic\n",
    "import plotly.graph_objects as go\n",
    "\n",
    "# Define the data flow values (from the notebook output)\n",
    "total_pits = 50278\n",
    "pits_w_slope_angle = 45515\n",
    "pits_w_layer_of_concern = 36408\n",
    "pits_w_both = 33279  # Those with BOTH slope angle AND layer of concern\n",
    "pits_rejected_missing_data = 12274\n",
    "pits_rejected_density_calc = 10523\n",
    "valid_slabs = 10482\n",
    "\n",
    "# Calculate eliminations at each step\n",
    "eliminated_no_slope = total_pits - pits_w_slope_angle  # 4,763\n",
    "eliminated_no_layer_concern = total_pits - pits_w_layer_of_concern  # 13,870\n",
    "eliminated_missing_both = total_pits - pits_w_both  # 16,999 (those eliminated for not having both criteria)\n",
    "\n",
    "# Create a more accurate Sankey diagram\n",
    "fig = go.Figure(data=[go.Sankey(\n",
    "    node = dict(\n",
    "        pad = 20,\n",
    "        thickness = 25,\n",
    "        line = dict(color = \"black\", width = 0.8),\n",
    "        label = [\n",
    "            \"Total Snowpit<br>Observations<br><b>50,278</b>\",                    # 0\n",
    "            \"Has Slope Angle<br><b>45,515</b><br>(90.5%)\",                      # 1\n",
    "            \"Has Layer of Concern<br><b>36,408</b><br>(72.4%)\",                 # 2\n",
    "            \"Both Criteria Met<br><b>33,279</b><br>(66.2%)\",                    # 3\n",
    "            \"Processing Layers<br><b>33,279</b>\",                               # 4\n",
    "            \"Valid Slabs<br><b>10,482</b><br>(20.8%)\",                         # 5\n",
    "            \"❌ No Slope Angle<br><b>4,763</b><br>(9.5%)\",                     # 6\n",
    "            \"❌ No Layer of Concern<br><b>13,870</b><br>(27.6%)\",              # 7\n",
    "            \"❌ Missing Both<br><b>16,999</b><br>(33.8%)\",                     # 8\n",
    "            \"❌ Missing Layer Data<br><b>12,274</b><br>(24.4%)\",               # 9\n",
    "            \"❌ Density Calc Failed<br><b>10,523</b><br>(20.9%)\"               # 10\n",
    "        ],\n",
    "        x = [0.1, 0.3, 0.3, 0.5, 0.7, 0.9, 0.5, 0.5, 0.5, 0.9, 0.9],\n",
    "        y = [0.5, 0.7, 0.3, 0.5, 0.5, 0.5, 0.9, 0.1, 0.05, 0.7, 0.3],\n",
    "        color = [\n",
    "            \"#1f77b4\",  # Total Pits - blue\n",
    "            \"#ff7f0e\",  # With Slope Angle - orange  \n",
    "            \"#2ca02c\",  # With Layer of Concern - green\n",
    "            \"#9467bd\",  # Both Criteria Met - purple\n",
    "            \"#9467bd\",  # Processing - purple\n",
    "            \"#2ca02c\",  # Valid Slabs - green\n",
    "            \"#d62728\",  # Eliminated - red\n",
    "            \"#d62728\",  # Eliminated - red\n",
    "            \"#d62728\",  # Eliminated - red\n",
    "            \"#d62728\",  # Eliminated - red\n",
    "            \"#d62728\"   # Eliminated - red\n",
    "        ]\n",
    "    ),\n",
    "    link = dict(\n",
    "        source = [0, 0, 0, 1, 2, 3, 4, 4, 4],  # From nodes\n",
    "        target = [1, 2, 8, 6, 7, 4, 5, 9, 10], # To nodes  \n",
    "        value = [\n",
    "            pits_w_slope_angle,                    # Total -> Has Slope Angle\n",
    "            pits_w_layer_of_concern,              # Total -> Has Layer of Concern\n",
    "            eliminated_missing_both,               # Total -> Missing Both (eliminated)\n",
    "            eliminated_no_slope,                   # Has Slope Angle -> No Slope Angle (eliminated)\n",
    "            eliminated_no_layer_concern,           # Has Layer of Concern -> No Layer of Concern (eliminated)\n",
    "            pits_w_both,                          # Both Criteria -> Processing Layers\n",
    "            valid_slabs,                          # Processing -> Valid Slabs\n",
    "            pits_rejected_missing_data,           # Processing -> Missing Layer Data (eliminated)\n",
    "            pits_rejected_density_calc            # Processing -> Density Calc Failed (eliminated)\n",
    "        ],\n",
    "        color = [\n",
    "            \"rgba(255,127,14,0.5)\",   # orange with transparency\n",
    "            \"rgba(44,160,44,0.5)\",    # green with transparency  \n",
    "            \"rgba(214,39,40,0.3)\",    # red with transparency (eliminated)\n",
    "            \"rgba(214,39,40,0.3)\",    # red with transparency (eliminated)\n",
    "            \"rgba(214,39,40,0.3)\",    # red with transparency (eliminated)\n",
    "            \"rgba(148,103,189,0.5)\",  # purple with transparency\n",
    "            \"rgba(44,160,44,0.6)\",    # green with transparency (success)\n",
    "            \"rgba(214,39,40,0.4)\",    # red with transparency (eliminated)\n",
    "            \"rgba(214,39,40,0.4)\"     # red with transparency (eliminated)\n",
    "        ]\n",
    "    ))])\n",
    "\n",
    "# Update layout\n",
    "fig.update_layout(\n",
    "    title_text=\"Snow Pit Data Processing Funnel: Quality Control & Filtering Pipeline<br><sub>From 50,278 raw observations to 10,482 valid mechanical parameter datasets</sub>\",\n",
    "    title_x=0.5,\n",
    "    font_size=11,\n",
    "    height=700,\n",
    "    width=1200,\n",
    "    margin=dict(t=120, b=80, l=100, r=100),\n",
    "    paper_bgcolor='white',\n",
    "    plot_bgcolor='white'\n",
    ")\n",
    "\n",
    "# Add annotation\n",
    "fig.add_annotation(\n",
    "    text=\"<b>Data Retention Rate: 20.8%</b><br>79.2% eliminated through quality control\",\n",
    "    xref=\"paper\", yref=\"paper\",\n",
    "    x=0.02, y=0.02,\n",
    "    showarrow=False,\n",
    "    font=dict(size=12, color=\"black\"),\n",
    "    bgcolor=\"lightyellow\",\n",
    "    bordercolor=\"orange\",\n",
    "    borderwidth=1\n",
    ")\n",
    "\n",
    "# Display the figure\n",
    "fig.show()\n",
    "\n",
    "# Create summary table\n",
    "import pandas as pd\n",
    "summary_data = {\n",
    "    'Stage': [\n",
    "        'Initial Dataset',\n",
    "        'Has Slope Angle', \n",
    "        'Has Layer of Concern',\n",
    "        'Both Criteria Met',\n",
    "        'After Layer Processing',\n",
    "        'Final Valid Slabs'\n",
    "    ],\n",
    "    'Count': [\n",
    "        total_pits,\n",
    "        pits_w_slope_angle,\n",
    "        pits_w_layer_of_concern,\n",
    "        pits_w_both,\n",
    "        pits_w_both - pits_rejected_missing_data,\n",
    "        valid_slabs\n",
    "    ],\n",
    "    'Percentage': [\n",
    "        100.0,\n",
    "        round(pits_w_slope_angle/total_pits*100, 1),\n",
    "        round(pits_w_layer_of_concern/total_pits*100, 1),\n",
    "        round(pits_w_both/total_pits*100, 1),\n",
    "        round((pits_w_both - pits_rejected_missing_data)/total_pits*100, 1),\n",
    "        round(valid_slabs/total_pits*100, 1)\n",
    "    ],\n",
    "    'Cumulative_Loss': [\n",
    "        0,\n",
    "        eliminated_no_slope,\n",
    "        eliminated_no_layer_concern,\n",
    "        eliminated_missing_both,\n",
    "        eliminated_missing_both + pits_rejected_missing_data,\n",
    "        total_pits - valid_slabs\n",
    "    ]\n",
    "}\n",
    "\n",
    "summary_df = pd.DataFrame(summary_data)\n",
    "print(\"\\n\" + \"=\"*80)\n",
    "print(\"DATA PROCESSING PIPELINE SUMMARY\")\n",
    "print(\"=\"*80)\n",
    "print(summary_df.to_string(index=False))\n",
    "print(f\"\\nFinal Success Rate: {valid_slabs:,} / {total_pits:,} = {(valid_slabs/total_pits*100):.1f}%\")\n"
   ]
  }
 ],
 "metadata": {
  "kernelspec": {
   "display_name": "test_env",
   "language": "python",
   "name": "python3"
  },
  "language_info": {
   "codemirror_mode": {
    "name": "ipython",
    "version": 3
   },
   "file_extension": ".py",
   "mimetype": "text/x-python",
   "name": "python",
   "nbconvert_exporter": "python",
   "pygments_lexer": "ipython3",
   "version": "3.13.2"
  }
 },
 "nbformat": 4,
 "nbformat_minor": 5
}
