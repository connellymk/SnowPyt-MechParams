{
 "cells": [
  {
   "cell_type": "code",
   "execution_count": 2,
   "id": "afbe2b7b",
   "metadata": {},
   "outputs": [],
   "source": [
    "%load_ext autoreload\n",
    "%autoreload 2\n"
   ]
  },
  {
   "cell_type": "code",
   "execution_count": 3,
   "id": "766c0155",
   "metadata": {},
   "outputs": [],
   "source": [
    "# Import Libraries\n",
    "import os\n",
    "import sys\n",
    "\n",
    "import matplotlib.pyplot as plt\n",
    "import numpy as np\n",
    "import pandas as pd\n",
    "import seaborn as sns\n",
    "from uncertainties import ufloat\n",
    "import warnings\n",
    "\n",
    "\n",
    "# Add the src directory to the path to import snowpyt_mechparams\n",
    "sys.path.append('../src')\n",
    "from snowpilot_utils import convert_grain_form, parse_sample_pits\n",
    "from snowpyt_mechparams import density, elastic_modulus\n"
   ]
  },
  {
   "cell_type": "code",
   "execution_count": 4,
   "id": "f003f9dc",
   "metadata": {},
   "outputs": [
    {
     "name": "stdout",
     "output_type": "stream",
     "text": [
      "Successfully parsed 50278 files\n",
      "Failed to parse 0 files\n"
     ]
    }
   ],
   "source": [
    "# Parse all snowpit files from the data folder\n",
    "all_pits = parse_sample_pits('data')\n"
   ]
  },
  {
   "cell_type": "markdown",
   "id": "fc3b6af2",
   "metadata": {},
   "source": [
    "Kim_geldsetzer densities"
   ]
  },
  {
   "cell_type": "code",
   "execution_count": 5,
   "id": "e2cf87bf",
   "metadata": {},
   "outputs": [],
   "source": [
    "# Collect relevant data from each snowpit\n",
    "layer_info = []\n",
    "\n",
    "for pit in all_pits:\n",
    "\n",
    "    for layer in pit.snow_profile.layers:\n",
    "        layer_dict = {\n",
    "            'pit_id': pit.core_info.pit_id,\n",
    "            'hand_hardness': layer.hardness,\n",
    "            'depth_top': layer.depth_top[0] if layer.depth_top else None,  \n",
    "            'thickness': layer.thickness[0] if layer.thickness else None,\n",
    "        }\n",
    "\n",
    "        # Add kim_geldsetzer grain form conversion if grain form data exists\n",
    "        if layer.grain_form_primary:\n",
    "            layer_dict['kim_geldsetzer_grain_form'] = convert_grain_form(layer.grain_form_primary, 'kim_geldsetzer')\n",
    "            try: \n",
    "                # Calculate density using kim_geldsetzer method - only if we have valid inputs\n",
    "                if layer.hardness and layer_dict['kim_geldsetzer_grain_form']:\n",
    "                    density_ufloat = density.calculate_density( \n",
    "                        method='kim_geldsetzer',\n",
    "                        hand_hardness=layer.hardness,\n",
    "                        grain_form=layer_dict['kim_geldsetzer_grain_form']\n",
    "                    )\n",
    "                    layer_dict['density_kim_geldsetzer'] = density_ufloat.nominal_value\n",
    "                    layer_dict['density_kim_geldsetzer_uncertainty'] = density_ufloat.std_dev\n",
    "                else:\n",
    "                    layer_dict['density_kim_geldsetzer'] = None\n",
    "                    layer_dict['density_kim_geldsetzer_uncertainty'] = None\n",
    "            except Exception:\n",
    "                layer_dict['density_kim_geldsetzer'] = None\n",
    "                layer_dict['density_kim_geldsetzer_uncertainty'] = None\n",
    "        else:\n",
    "            layer_dict['kim_geldsetzer_grain_form'] = None\n",
    "            layer_dict['density_kim_geldsetzer'] = None\n",
    "            layer_dict['density_kim_geldsetzer_uncertainty'] = None\n",
    "\n",
    "        layer_info.append(layer_dict)\n",
    "\n",
    "# Create dataframes\n",
    "layer_df = pd.DataFrame(layer_info)\n"
   ]
  },
  {
   "cell_type": "code",
   "execution_count": 6,
   "id": "6dcb2e51",
   "metadata": {},
   "outputs": [],
   "source": [
    "# Implement the elastic modulus calculations\n",
    "\n",
    "for idx, row in layer_df.iterrows():\n",
    "    if row['kim_geldsetzer_grain_form'] is not None:\n",
    "        try:\n",
    "            # Calculate elastic modulus using Bergfeld method\n",
    "            E_mod_bergfeld = elastic_modulus.calculate_elastic_modulus(\n",
    "                method='bergfeld',\n",
    "                density=ufloat(row['density_kim_geldsetzer'], row['density_kim_geldsetzer_uncertainty'])\n",
    "            )\n",
    "            layer_df.at[idx, 'e_mod_bergfeld'] = E_mod_bergfeld.nominal_value\n",
    "            E_mod_kochle = elastic_modulus.calculate_elastic_modulus(\n",
    "                method='kochle',\n",
    "                density=ufloat(row['density_kim_geldsetzer'], row['density_kim_geldsetzer_uncertainty']),\n",
    "                grain_form=row['kim_geldsetzer_grain_form']\n",
    "            )\n",
    "            layer_df.at[idx, 'e_mod_kochle'] = E_mod_kochle.nominal_value\n",
    "            E_mod_wautier = elastic_modulus.calculate_elastic_modulus(\n",
    "                method='wautier',\n",
    "                density=ufloat(row['density_kim_geldsetzer'], row['density_kim_geldsetzer_uncertainty']),\n",
    "                grain_form=row['kim_geldsetzer_grain_form']\n",
    "            )\n",
    "            layer_df.at[idx, 'e_mod_wautier'] = E_mod_wautier.nominal_value\n",
    "        except Exception:\n",
    "            layer_df.at[idx, 'e_mod_bergfeld'] = np.nan\n",
    "            layer_df.at[idx, 'e_mod_kochle'] = np.nan\n",
    "            layer_df.at[idx, 'e_mod_wautier'] = np.nan\n"
   ]
  }
 ],
 "metadata": {
  "kernelspec": {
   "display_name": "venv",
   "language": "python",
   "name": "python3"
  },
  "language_info": {
   "codemirror_mode": {
    "name": "ipython",
    "version": 3
   },
   "file_extension": ".py",
   "mimetype": "text/x-python",
   "name": "python",
   "nbconvert_exporter": "python",
   "pygments_lexer": "ipython3",
   "version": "3.13.2"
  }
 },
 "nbformat": 4,
 "nbformat_minor": 5
}
