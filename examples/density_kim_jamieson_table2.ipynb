{
 "cells": [
  {
   "cell_type": "markdown",
   "id": "f13e3e51",
   "metadata": {},
   "source": [
    "# Snow Density Calculations - Kim & Jamieson (2014) Table 2 Method\n",
    "\n",
    "This notebook demonstrates methods for calculating density from common snow pit measurements (hand hardness and grain form) using the \"kim_table2\" method. This method uses the Kim & Jamieson (2014) updated formulas based on Geldsetzer et al. (2000) for calculating density from hand hardness and grain form. The analysis uses the local snowpyt_mechparams package and snowpylot for CAAML parsing.\n"
   ]
  },
  {
   "cell_type": "code",
   "execution_count": 1,
   "id": "0de34f47",
   "metadata": {},
   "outputs": [],
   "source": [
    "# Import Libraries\n",
    "import os\n",
    "import sys\n",
    "\n",
    "import matplotlib.pyplot as plt\n",
    "import numpy as np\n",
    "import pandas as pd\n",
    "import seaborn as sns\n",
    "\n",
    "# Add the src directory to the path to import snowpyt_mechparams\n",
    "sys.path.append('../src')\n",
    "from snowpilot_utils import convert_grain_form, parse_sample_pits\n",
    "from snowpyt_mechparams import density\n"
   ]
  },
  {
   "cell_type": "markdown",
   "id": "b079c80a",
   "metadata": {},
   "source": [
    "Parse Snowpit Files"
   ]
  },
  {
   "cell_type": "code",
   "execution_count": 2,
   "id": "4501043c",
   "metadata": {},
   "outputs": [
    {
     "name": "stdout",
     "output_type": "stream",
     "text": [
      "Successfully parsed 50278 files\n",
      "Failed to parse 0 files\n"
     ]
    }
   ],
   "source": [
    "# Parse all snowpit files from the data folder\n",
    "all_pits = parse_sample_pits('data')\n"
   ]
  },
  {
   "cell_type": "markdown",
   "id": "165239f2",
   "metadata": {},
   "source": [
    "Collect relevant data for each pit and convert to form needed to implement Kim_Geldsetzer"
   ]
  },
  {
   "cell_type": "code",
   "execution_count": 3,
   "id": "ef09d7d2",
   "metadata": {},
   "outputs": [],
   "source": [
    "# Collect relevant data from each snowpit\n",
    "pit_info = []\n",
    "layer_info = []\n",
    "\n",
    "for pit in all_pits:\n",
    "    pit_dict = {\n",
    "        'pit_id': pit.core_info.pit_id,\n",
    "        'layer_count': len(pit.snow_profile.layers),\n",
    "    }\n",
    "    pit_info.append(pit_dict)\n",
    "\n",
    "    for layer in pit.snow_profile.layers:\n",
    "        # Create base layer dictionary\n",
    "        layer_dict = {\n",
    "            'pit_id': pit.core_info.pit_id,\n",
    "            'hand_hardness': layer.hardness,\n",
    "            'grain_form_primary': layer.grain_form_primary,\n",
    "        }\n",
    "\n",
    "        # Add geldsetzer grain form conversion if grain form data exists\n",
    "        if layer.grain_form_primary:\n",
    "            layer_dict['kim_jamieson_table2_grain_form'] = convert_grain_form(layer.grain_form_primary, 'kim_jamieson_table2')\n",
    "        else:\n",
    "            layer_dict['kim_jamieson_table2_grain_form'] = None\n",
    "\n",
    "        layer_info.append(layer_dict)\n",
    "\n",
    "# Create a dataframe from the pit and layer info\n",
    "pit_df = pd.DataFrame(pit_info)\n",
    "layer_df = pd.DataFrame(layer_info)\n"
   ]
  },
  {
   "cell_type": "markdown",
   "id": "484d66ed",
   "metadata": {},
   "source": [
    "Calculate Density using Kim & Jamieson (2014) Table 2 Method"
   ]
  },
  {
   "cell_type": "code",
   "execution_count": 4,
   "id": "8acdacd4",
   "metadata": {},
   "outputs": [],
   "source": [
    "# Calculate density using Kim_Geldsetzer method for each layer\n",
    "def calculate_layer_density(row):\n",
    "    try:\n",
    "        # Only calculate if we have a mapped grain form and hand hardness\n",
    "        if pd.isna(row['kim_jamieson_table2_grain_form']) or pd.isna(row['hand_hardness']):\n",
    "            return pd.Series([np.nan, np.nan])\n",
    "\n",
    "        # The density function returns a ufloat object with nominal value and uncertainty\n",
    "        density_ufloat = density.calculate_density(\n",
    "            method='kim_jamieson_table2',\n",
    "            hand_hardness=row['hand_hardness'],\n",
    "            grain_form=row['kim_jamieson_table2_grain_form']\n",
    "        )\n",
    "\n",
    "        # Extract nominal value and standard deviation from ufloat object\n",
    "        density_val = density_ufloat.nominal_value  # or density_ufloat.n\n",
    "        density_unc = density_ufloat.std_dev        # or density_ufloat.s\n",
    "\n",
    "        return pd.Series([density_val, density_unc])\n",
    "    except Exception as e:\n",
    "        print(f\"Error calculating density for layer {row['pit_id']}: {e}\")\n",
    "        return pd.Series([np.nan, np.nan])\n",
    "\n",
    "# Add density and uncertainty columns to the dataframe using apply method\n",
    "# Calculate density for all rows - the function handles missing data internally\n",
    "layer_df[['density', 'total_uncertainty']] = layer_df.apply(calculate_layer_density, axis=1)\n",
    "\n",
    "# Calculate relative uncertainty\n",
    "layer_df['relative_uncertainty'] = (layer_df['total_uncertainty'] / layer_df['density']) * 100\n"
   ]
  },
  {
   "cell_type": "code",
   "execution_count": 5,
   "id": "b9b81f35",
   "metadata": {},
   "outputs": [],
   "source": [
    "#layer_df.to_csv('geldsetzer_density_results.csv', index=False)\n"
   ]
  },
  {
   "cell_type": "code",
   "execution_count": 6,
   "id": "d455c634",
   "metadata": {},
   "outputs": [
    {
     "name": "stdout",
     "output_type": "stream",
     "text": [
      "=== Kim & Jamieson (2014) Table 2 APPLICATION SUMMARY ===\n",
      "\n",
      "Total Pits with layers: 50,147\n",
      "Total Layers: 371,429\n",
      "Total Layers with Hand Hardness and Grain Form Info: 279,331, 75.2%\n",
      "Total Layers with Successfully Calculated Density: 235,522, 63.4%\n",
      "Average Relative Uncertainty: 18.07%\n"
     ]
    }
   ],
   "source": [
    "## Summary Stats\n",
    "\n",
    "# Calculate and display summary statistics\n",
    "print(\"=== Kim & Jamieson (2014) Table 2 APPLICATION SUMMARY ===\")\n",
    "print()\n",
    "\n",
    "# Total Pits\n",
    "total_pits = layer_df['pit_id'].nunique()\n",
    "print(f\"Total Pits with layers: {total_pits:,}\")\n",
    "\n",
    "# Total Layers\n",
    "total_layers = len(layer_df)\n",
    "print(f\"Total Layers: {total_layers:,}\")\n",
    "\n",
    "# Total Layers with Hand Hardness and Grain Form Info\n",
    "# Check for layers that have both hand hardness and grain form data\n",
    "layers_with_data = layer_df[(layer_df['hand_hardness'].notna()) & \n",
    "                           (layer_df['grain_form_primary'].notna())]\n",
    "total_layers_with_data = len(layers_with_data)\n",
    "print(f\"Total Layers with Hand Hardness and Grain Form Info: {total_layers_with_data:,}, \"\n",
    "      f\"{total_layers_with_data/total_layers*100:.1f}%\")\n",
    "\n",
    "# Total Layers with Successfully Calculated Density\n",
    "layers_with_density = layer_df[layer_df['density'].notna()]\n",
    "total_successful_density = len(layers_with_density)\n",
    "print(f\"Total Layers with Successfully Calculated Density: {total_successful_density:,}, \"\n",
    "      f\"{total_successful_density/total_layers*100:.1f}%\")\n",
    "\n",
    "# Average Relative Uncertainty\n",
    "avg_relative_uncertainty = layer_df['relative_uncertainty'].mean()\n",
    "print(f\"Average Relative Uncertainty: {avg_relative_uncertainty:.2f}%\")\n"
   ]
  }
 ],
 "metadata": {
  "kernelspec": {
   "display_name": "venv",
   "language": "python",
   "name": "python3"
  },
  "language_info": {
   "codemirror_mode": {
    "name": "ipython",
    "version": 3
   },
   "file_extension": ".py",
   "mimetype": "text/x-python",
   "name": "python",
   "nbconvert_exporter": "python",
   "pygments_lexer": "ipython3",
   "version": "3.13.2"
  }
 },
 "nbformat": 4,
 "nbformat_minor": 5
}
