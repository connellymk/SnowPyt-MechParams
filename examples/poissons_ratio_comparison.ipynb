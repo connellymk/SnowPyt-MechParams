{
 "cells": [
  {
   "cell_type": "code",
   "execution_count": 19,
   "id": "1318f91f",
   "metadata": {},
   "outputs": [
    {
     "name": "stdout",
     "output_type": "stream",
     "text": [
      "The autoreload extension is already loaded. To reload it, use:\n",
      "  %reload_ext autoreload\n"
     ]
    }
   ],
   "source": [
    "# Setup and Imports\n",
    "%load_ext autoreload\n",
    "%autoreload 2\n",
    "\n",
    "import sys\n",
    "import matplotlib.pyplot as plt\n",
    "import numpy as np\n",
    "import pandas as pd\n",
    "from uncertainties import ufloat\n",
    "from matplotlib.lines import Line2D\n",
    "from matplotlib.patches import Patch\n",
    "\n",
    "# Add the src directory to import snowpyt_mechparams\n",
    "sys.path.append('../src')\n",
    "from snowpilot_utils import convert_grain_form, parse_sample_pits\n",
    "from snowpyt_mechparams import density, elastic_modulus, shear_modulus, poissons_ratio\n"
   ]
  },
  {
   "cell_type": "code",
   "execution_count": 20,
   "id": "f3bc7015",
   "metadata": {},
   "outputs": [
    {
     "name": "stdout",
     "output_type": "stream",
     "text": [
      "Successfully parsed 50278 files\n",
      "Failed to parse 0 files\n"
     ]
    }
   ],
   "source": [
    "# Parse all snowpit files from the data folder\n",
    "all_pits = parse_sample_pits('data')\n"
   ]
  },
  {
   "cell_type": "code",
   "execution_count": 21,
   "id": "41a94ad8",
   "metadata": {},
   "outputs": [],
   "source": [
    "# Calculate densities for all layers using kim_geldsetzer method\n",
    "layer_info = []\n",
    "\n",
    "for pit in all_pits:\n",
    "    for layer in pit.snow_profile.layers:\n",
    "        layer_dict = {\n",
    "            'pit_id': pit.core_info.pit_id,\n",
    "            'hand_hardness': layer.hardness,\n",
    "            'depth_top': layer.depth_top[0] if layer.depth_top else None,  \n",
    "            'thickness': layer.thickness[0] if layer.thickness else None,\n",
    "        }\n",
    "\n",
    "        # Convert grain form and calculate density\n",
    "        grain_form = convert_grain_form(layer.grain_form_primary, 'kim_geldsetzer') if layer.grain_form_primary else None\n",
    "        layer_dict['kim_geldsetzer_grain_form'] = grain_form\n",
    "        layer_dict['main_grain_form'] = layer.grain_form_primary.basic_grain_class_code if layer.grain_form_primary else None\n",
    "        \n",
    "        # Calculate density if we have valid inputs\n",
    "        if layer.hardness and grain_form:\n",
    "            try:\n",
    "                density_ufloat = density.calculate_density( \n",
    "                    method='kim_geldsetzer',\n",
    "                    hand_hardness=layer.hardness,\n",
    "                    grain_form=grain_form\n",
    "                )\n",
    "                layer_dict['density_kim_geldsetzer'] = density_ufloat.nominal_value\n",
    "                layer_dict['density_kim_geldsetzer_uncertainty'] = density_ufloat.std_dev\n",
    "            except Exception:\n",
    "                layer_dict['density_kim_geldsetzer'] = None\n",
    "                layer_dict['density_kim_geldsetzer_uncertainty'] = None\n",
    "        else:\n",
    "            layer_dict['density_kim_geldsetzer'] = None\n",
    "            layer_dict['density_kim_geldsetzer_uncertainty'] = None\n",
    "\n",
    "        layer_info.append(layer_dict)\n",
    "\n",
    "# Create dataframe\n",
    "layer_df = pd.DataFrame(layer_info)\n"
   ]
  },
  {
   "cell_type": "code",
   "execution_count": 22,
   "id": "74a8f87b",
   "metadata": {},
   "outputs": [
    {
     "name": "stderr",
     "output_type": "stream",
     "text": [
      "/Users/marykateconnelly/Desktop/F25/SnowPyt-MechParams/venv/lib/python3.13/site-packages/uncertainties/core.py:1024: UserWarning: Using UFloat objects with std_dev==0 may give unexpected results.\n",
      "  warn(\"Using UFloat objects with std_dev==0 may give unexpected results.\")\n"
     ]
    }
   ],
   "source": [
    "# Calculate elastic modulus and shear modulus using wautier method\n",
    "\n",
    "# Function to calculate elastic modulus and shear modulus for a single row\n",
    "def calculate_modulii_row(row):\n",
    "    result = {'e_mod_wautier': None, 's_mod_wautier': None}\n",
    "    \n",
    "    # Skip if no grain form or density data\n",
    "    if pd.isna(row['kim_geldsetzer_grain_form']) or pd.isna(row['density_kim_geldsetzer']):\n",
    "        return pd.Series(result)\n",
    "    \n",
    "    try:\n",
    "        # Create density ufloat once\n",
    "        density_ufloat = ufloat(row['density_kim_geldsetzer'], row['density_kim_geldsetzer_uncertainty'])\n",
    "        grain_form = row['kim_geldsetzer_grain_form']\n",
    "        \n",
    "        # Calculate elastic modulus using wautier method\n",
    "        try:\n",
    "            e_mod = elastic_modulus.calculate_elastic_modulus(\n",
    "                method='wautier',\n",
    "                density=density_ufloat,\n",
    "                grain_form=grain_form\n",
    "            )\n",
    "            result['e_mod_wautier'] = e_mod.nominal_value\n",
    "        except Exception:\n",
    "            pass\n",
    "        \n",
    "        # Calculate shear modulus using wautier method\n",
    "        try:\n",
    "            s_mod = shear_modulus.calculate_shear_modulus(\n",
    "                method='wautier',\n",
    "                density=density_ufloat,\n",
    "                grain_form=grain_form\n",
    "            )\n",
    "            result['s_mod_wautier'] = s_mod.nominal_value\n",
    "        except Exception:\n",
    "            pass\n",
    "    except Exception:\n",
    "        pass\n",
    "    \n",
    "    return pd.Series(result)\n",
    "\n",
    "# Apply the function to all rows at once\n",
    "layer_df[['e_mod_wautier', 's_mod_wautier']] = layer_df.apply(calculate_modulii_row, axis=1)\n"
   ]
  },
  {
   "cell_type": "code",
   "execution_count": 23,
   "id": "0a92f9ce",
   "metadata": {},
   "outputs": [
    {
     "name": "stderr",
     "output_type": "stream",
     "text": [
      "/Users/marykateconnelly/Desktop/F25/SnowPyt-MechParams/venv/lib/python3.13/site-packages/uncertainties/core.py:1024: UserWarning: Using UFloat objects with std_dev==0 may give unexpected results.\n",
      "  warn(\"Using UFloat objects with std_dev==0 may give unexpected results.\")\n"
     ]
    }
   ],
   "source": [
    "# Function to calculate poissons ratio for a single row using multiple methods\n",
    "def calculate_poissons_ratio_row(row):\n",
    "    \"\"\"Calculate poissons ratio for a single row using multiple methods.\"\"\"\n",
    "    result = {\n",
    "        'nu_kochle': np.nan,\n",
    "        'nu_kochle_uncertainty': np.nan,\n",
    "        'nu_srivastava': np.nan,\n",
    "        'nu_srivastava_uncertainty': np.nan,\n",
    "        'nu_from_elastic_and_shear_modulus': np.nan,\n",
    "        'nu_from_elastic_and_shear_modulus_uncertainty': np.nan\n",
    "    }\n",
    "    \n",
    "    # Skip if no grain form or density data\n",
    "    if pd.isna(row['main_grain_form']) or pd.isna(row['density_kim_geldsetzer']):\n",
    "        return pd.Series(result)\n",
    "    \n",
    "    try:\n",
    "        # Create density ufloat once\n",
    "        density_ufloat = ufloat(row['density_kim_geldsetzer'], row['density_kim_geldsetzer_uncertainty'])\n",
    "        grain_form = row['main_grain_form']\n",
    "        \n",
    "        # Calculate Poisson's ratio using Kochle method\n",
    "        try:\n",
    "            nu_kochle = poissons_ratio.calculate_poissons_ratio(\n",
    "                method='kochle',\n",
    "                grain_form=grain_form\n",
    "            )\n",
    "            result['nu_kochle'] = nu_kochle.nominal_value\n",
    "            result['nu_kochle_uncertainty'] = nu_kochle.std_dev\n",
    "        except Exception:\n",
    "            pass\n",
    "        \n",
    "        # Calculate Poisson's ratio using Srivastava method\n",
    "        try:\n",
    "            nu_srivastava = poissons_ratio.calculate_poissons_ratio(\n",
    "                method='srivastava',\n",
    "                density=density_ufloat,\n",
    "                grain_form=grain_form\n",
    "            )\n",
    "            result['nu_srivastava'] = nu_srivastava.nominal_value\n",
    "            result['nu_srivastava_uncertainty'] = nu_srivastava.std_dev\n",
    "        except Exception:\n",
    "            pass\n",
    "        \n",
    "        # Calculate Poisson's ratio from modulii (using wautier E and G)\n",
    "        # Only calculate if both e_mod_wautier and s_mod_wautier are available\n",
    "        if not pd.isna(row['e_mod_wautier']) and not pd.isna(row['s_mod_wautier']):\n",
    "            try:\n",
    "                # Create ufloats for the moduli (assuming no uncertainty stored)\n",
    "                e_mod_ufloat = ufloat(row['e_mod_wautier'], 0)\n",
    "                s_mod_ufloat = ufloat(row['s_mod_wautier'], 0)\n",
    "                \n",
    "                nu_from_elastic_and_shear_modulus = poissons_ratio.calculate_poissons_ratio(\n",
    "                    method='from_elastic_and_shear_modulus',\n",
    "                    elastic_modulus=e_mod_ufloat,\n",
    "                    shear_modulus=s_mod_ufloat\n",
    "                )\n",
    "                result['nu_from_elastic_and_shear_modulus'] = nu_from_elastic_and_shear_modulus.nominal_value\n",
    "                result['nu_from_elastic_and_shear_modulus_uncertainty'] = nu_from_elastic_and_shear_modulus.std_dev\n",
    "            except Exception:\n",
    "                pass\n",
    "        \n",
    "    except Exception:\n",
    "        pass\n",
    "    \n",
    "    return pd.Series(result)\n",
    "\n",
    "# Apply the function to all rows at once\n",
    "layer_df[['nu_kochle', 'nu_kochle_uncertainty', 'nu_srivastava', 'nu_srivastava_uncertainty', 'nu_from_elastic_and_shear_modulus', 'nu_from_elastic_and_shear_modulus_uncertainty']] = layer_df.apply(calculate_poissons_ratio_row, axis=1)\n"
   ]
  },
  {
   "cell_type": "code",
   "execution_count": 24,
   "id": "611e54fb",
   "metadata": {},
   "outputs": [],
   "source": [
    "layer_df.to_csv('poissons_ratio_comparison.csv', index=False)\n"
   ]
  },
  {
   "cell_type": "code",
   "execution_count": 30,
   "id": "afe179b2",
   "metadata": {},
   "outputs": [],
   "source": [
    "# Create df and filter out NaN values for each method\n",
    "df_kochle = layer_df[~layer_df['nu_kochle'].isna()]\n",
    "df_srivastava = layer_df[~layer_df['nu_srivastava'].isna()]\n",
    "df_from_elastic_and_shear_modulus = layer_df[~layer_df['nu_from_elastic_and_shear_modulus'].isna()]\n",
    "\n"
   ]
  },
  {
   "cell_type": "code",
   "execution_count": 31,
   "id": "2e271b30",
   "metadata": {},
   "outputs": [
    {
     "name": "stdout",
     "output_type": "stream",
     "text": [
      "\n",
      "================================================================================\n",
      "POISSON'S RATIO COMPARISON SUMMARY STATISTICS\n",
      "================================================================================\n",
      "\n",
      "Total number of layers:\n",
      "  Count: 371429\n",
      "\n",
      "KÖCHLE METHOD:\n",
      "Successfully calculated: 142163\n",
      "Percent of layers with successful calculation: 38.27%\n",
      "Average uncertainty: 0.0361\n",
      "Average relative uncertainty: 25.22%\n",
      "\n",
      "SRIVASTAVA METHOD:\n",
      "Successfully calculated: 103557\n",
      "Percent of layers with successful calculation: 27.88%\n",
      "Average uncertainty: 0.0157\n",
      "Average relative uncertainty: 8.84%\n",
      "\n",
      "FROM WAUTIER ELASTIC AND SHEAR MODULUS METHOD:\n",
      "Successfully calculated: 203401\n",
      "Percent of layers with successful calculation: 54.76%\n",
      "Average uncertainty: 0.0000\n",
      "Average relative uncertainty: 0.00%\n"
     ]
    }
   ],
   "source": [
    "# Print summary statistics\n",
    "print(\"\\n\" + \"=\"*80)\n",
    "print(\"POISSON'S RATIO COMPARISON SUMMARY STATISTICS\")\n",
    "print(\"=\"*80)\n",
    "\n",
    "print(\"\\nTotal number of layers:\")\n",
    "print(f\"  Count: {len(layer_df)}\")\n",
    "\n",
    "print(\"\\nKÖCHLE METHOD:\")\n",
    "print(f\"Successfully calculated: {len(df_kochle)}\")\n",
    "print(f\"Percent of layers with successful calculation: {len(df_kochle) / len(layer_df) * 100:.2f}%\")\n",
    "print(f\"Average uncertainty: {df_kochle['nu_kochle_uncertainty'].mean():.4f}\")\n",
    "print(f\"Average relative uncertainty: {df_kochle['nu_kochle_uncertainty'].mean() / df_kochle['nu_kochle'].mean() * 100:.2f}%\")\n",
    "\n",
    "print(\"\\nSRIVASTAVA METHOD:\")\n",
    "print(f\"Successfully calculated: {len(df_srivastava)}\")\n",
    "print(f\"Percent of layers with successful calculation: {len(df_srivastava) / len(layer_df) * 100:.2f}%\")\n",
    "print(f\"Average uncertainty: {df_srivastava['nu_srivastava_uncertainty'].mean():.4f}\")\n",
    "print(f\"Average relative uncertainty: {df_srivastava['nu_srivastava_uncertainty'].mean() / df_srivastava['nu_srivastava'].mean() * 100:.2f}%\")\n",
    "\n",
    "print(\"\\nFROM WAUTIER ELASTIC AND SHEAR MODULUS METHOD:\")\n",
    "print(f\"Successfully calculated: {len(df_from_elastic_and_shear_modulus)}\")\n",
    "print(f\"Percent of layers with successful calculation: {len(df_from_elastic_and_shear_modulus) / len(layer_df) * 100:.2f}%\")\n",
    "print(f\"Average uncertainty: {df_from_elastic_and_shear_modulus['nu_from_elastic_and_shear_modulus_uncertainty'].mean():.4f}\")\n",
    "print(f\"Average relative uncertainty: {df_from_elastic_and_shear_modulus['nu_from_elastic_and_shear_modulus_uncertainty'].mean() / df_from_elastic_and_shear_modulus['nu_from_elastic_and_shear_modulus'].mean() * 100:.2f}%\")\n",
    "\n"
   ]
  },
  {
   "cell_type": "code",
   "execution_count": 32,
   "id": "aab9da82",
   "metadata": {},
   "outputs": [
    {
     "name": "stdout",
     "output_type": "stream",
     "text": [
      "\n",
      "POISSON'S RATIO BY GRAIN TYPE:\n",
      "--------------------------------------------------------------------------------\n",
      "\n",
      "KÖCHLE:\n",
      "  DH: mean=0.0870, std=0.0000, n=11325\n",
      "  FC: mean=0.1300, std=0.0000, n=72974\n",
      "  RG: mean=0.1710, std=0.0000, n=57864\n",
      "\n",
      "SRIVASTAVA:\n",
      "  DF: mean=0.1320, std=0.0000, n=1796\n",
      "  DH: mean=0.1700, std=0.0000, n=11325\n",
      "  FC: mean=0.1700, std=0.0000, n=45623\n",
      "  PP: mean=0.1320, std=0.0000, n=811\n",
      "  RG: mean=0.1910, std=0.0000, n=44002\n",
      "\n",
      "FROM MODULI:\n",
      "  DF: mean=0.4991, std=0.0433, n=26392\n",
      "  DH: mean=0.3771, std=0.0157, n=11325\n",
      "  FC: mean=0.4197, std=0.0574, n=72974\n",
      "  MF: mean=0.3345, std=0.0097, n=34846\n",
      "  RG: mean=0.4082, std=0.0567, n=57864\n",
      "\n",
      "================================================================================\n"
     ]
    }
   ],
   "source": [
    "# Print statistics by grain type\n",
    "print(\"\\nPOISSON'S RATIO BY GRAIN TYPE:\")\n",
    "print(\"-\" * 80)\n",
    "for method_name, col_name in [('Köchle', 'nu_kochle'), ('Srivastava', 'nu_srivastava'), ('From Moduli', 'nu_from_elastic_and_shear_modulus')]:\n",
    "    print(f\"\\n{method_name.upper()}:\")\n",
    "    df_method = layer_df[~layer_df[col_name].isna()]\n",
    "    for gt in sorted(df_method['main_grain_form'].unique()):\n",
    "        data = df_method[df_method['main_grain_form'] == gt][col_name]\n",
    "        print(f\"  {gt}: mean={data.mean():.4f}, std={data.std():.4f}, n={len(data)}\")\n",
    "\n",
    "print(\"\\n\" + \"=\"*80)\n"
   ]
  }
 ],
 "metadata": {
  "kernelspec": {
   "display_name": "venv",
   "language": "python",
   "name": "python3"
  },
  "language_info": {
   "codemirror_mode": {
    "name": "ipython",
    "version": 3
   },
   "file_extension": ".py",
   "mimetype": "text/x-python",
   "name": "python",
   "nbconvert_exporter": "python",
   "pygments_lexer": "ipython3",
   "version": "3.13.2"
  }
 },
 "nbformat": 4,
 "nbformat_minor": 5
}
