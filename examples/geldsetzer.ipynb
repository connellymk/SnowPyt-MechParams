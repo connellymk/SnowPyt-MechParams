{
 "cells": [
  {
   "cell_type": "markdown",
   "id": "f13e3e51",
   "metadata": {},
   "source": [
    "# Snow Density Calculations\n",
    "\n",
    "This notebook demonstrates methods for calculating density from common snow pit measurements (hand hardness and grain form) using the \"Geldsetzer\" method for calculating density. The analysis the local snowpyt_mechparams package and snowpylot for CAAML parsing.\n"
   ]
  },
  {
   "cell_type": "code",
   "execution_count": 1,
   "id": "0de34f47",
   "metadata": {},
   "outputs": [],
   "source": [
    "# Import Libraries\n",
    "import os\n",
    "import sys\n",
    "\n",
    "import numpy as np\n",
    "import pandas as pd\n",
    "\n",
    "# Import snowpylot for CAAML parsing\n",
    "from snowpylot import caaml_parser\n",
    "\n",
    "# Add the src directory to the path to import snowpyt_mechparams\n",
    "sys.path.append('../src')\n",
    "from snowpilot_utils import convert_grain_form\n",
    "from snowpyt_mechparams import density\n"
   ]
  },
  {
   "cell_type": "markdown",
   "id": "b079c80a",
   "metadata": {},
   "source": [
    "Parse Snowpit Files"
   ]
  },
  {
   "cell_type": "code",
   "execution_count": 2,
   "id": "c864a00e",
   "metadata": {},
   "outputs": [
    {
     "name": "stdout",
     "output_type": "stream",
     "text": [
      "Successfully parsed 50278 files\n",
      "Failed to parse 0 files\n"
     ]
    }
   ],
   "source": [
    "all_pits = []\n",
    "failed_files = []\n",
    "\n",
    "folder_path = 'data'\n",
    "\n",
    "xml_files = [f for f in os.listdir(folder_path) if f.endswith('.xml')]\n",
    "\n",
    "for file in xml_files:\n",
    "    try:\n",
    "        file_path = os.path.join(folder_path, file)\n",
    "        pit = caaml_parser(file_path)\n",
    "        all_pits.append(pit)\n",
    "    except Exception as e:\n",
    "        failed_files.append((file, str(e)))\n",
    "        print(f\"Warning: Failed to parse {file}: {e}\")\n",
    "\n",
    "print(f\"Successfully parsed {len(all_pits)} files\")\n",
    "print(f\"Failed to parse {len(failed_files)} files\")\n"
   ]
  },
  {
   "cell_type": "markdown",
   "id": "165239f2",
   "metadata": {},
   "source": [
    "Collect relevant data for each pit and convert to form needed to implement Geldsetzer"
   ]
  },
  {
   "cell_type": "code",
   "execution_count": 3,
   "id": "ef09d7d2",
   "metadata": {},
   "outputs": [],
   "source": [
    "# Collect relevant data from each snowpit\n",
    "pit_info = []\n",
    "layer_info = []\n",
    "\n",
    "for pit in all_pits:\n",
    "    pit_dict = {\n",
    "        'pit_id': pit.core_info.pit_id,\n",
    "        'layer_count': len(pit.snow_profile.layers),\n",
    "    }\n",
    "    pit_info.append(pit_dict)\n",
    "\n",
    "    for layer in pit.snow_profile.layers:\n",
    "        # Create base layer dictionary\n",
    "        layer_dict = {\n",
    "            'pit_id': pit.core_info.pit_id,\n",
    "            'hand_hardness': layer.hardness,\n",
    "            'grain_form_primary': layer.grain_form_primary,\n",
    "        }\n",
    "\n",
    "        # Add geldsetzer grain form conversion if grain form data exists\n",
    "        if layer.grain_form_primary:\n",
    "            layer_dict['geldsetzer_grain_form'] = convert_grain_form(layer.grain_form_primary, 'geldsetzer')\n",
    "        else:\n",
    "            layer_dict['geldsetzer_grain_form'] = None\n",
    "\n",
    "        layer_info.append(layer_dict)\n",
    "\n",
    "# Create a dataframe from the pit and layer info\n",
    "pit_df = pd.DataFrame(pit_info)\n",
    "layer_df = pd.DataFrame(layer_info)\n"
   ]
  },
  {
   "cell_type": "code",
   "execution_count": 4,
   "id": "049ee3da",
   "metadata": {},
   "outputs": [
    {
     "name": "stdout",
     "output_type": "stream",
     "text": [
      "=== Dataset Summary ===\n",
      "Total number of snowpits: 50278\n",
      "Total number of layers: 371429\n",
      "Layers with both hand hardness and grain form data: 279331, 75.2%\n",
      "Layers with Geldsetzer grain forms: 221734, 59.7%\n"
     ]
    }
   ],
   "source": [
    "# Dataset Summary\n",
    "print(\"=== Dataset Summary ===\")\n",
    "print(f\"Total number of snowpits: {len(all_pits)}\")\n",
    "print(f\"Total number of layers: {len(layer_df)}\")\n",
    "\n",
    "# Calculate statistics directly from layer_df\n",
    "layers_with_data_count = len(layer_df[layer_df['hand_hardness'].notna() & layer_df['grain_form_primary'].notna()])\n",
    "print(f\"Layers with both hand hardness and grain form data: {layers_with_data_count}, \"\n",
    "      f\"{layers_with_data_count/len(layer_df)*100:.1f}%\")\n",
    "\n",
    "geldsetzer_layers_count = len(layer_df[layer_df['geldsetzer_grain_form'].notna()])\n",
    "print(f\"Layers with Geldsetzer grain forms: {geldsetzer_layers_count}, \"\n",
    "      f\"{geldsetzer_layers_count/len(layer_df)*100:.1f}%\")\n"
   ]
  },
  {
   "cell_type": "markdown",
   "id": "484d66ed",
   "metadata": {},
   "source": [
    "Implement Geldsetzer Method"
   ]
  },
  {
   "cell_type": "code",
   "execution_count": 5,
   "id": "8acdacd4",
   "metadata": {},
   "outputs": [
    {
     "name": "stdout",
     "output_type": "stream",
     "text": [
      "=== Density Calculation Results ===\n",
      "Layers with data and calculated density: 200676\n",
      "Layers with data where density could not be calculated: 78655\n",
      "Success rate of layers with data: 71.8%\n"
     ]
    }
   ],
   "source": [
    "# Calculate density using Geldsetzer method for each layer\n",
    "def calculate_layer_density(row):\n",
    "    try:\n",
    "        # Only calculate if we have a mapped grain form\n",
    "        if pd.isna(row['geldsetzer_grain_form']):\n",
    "            return pd.Series([np.nan, np.nan])\n",
    "\n",
    "        # The density function returns a ufloat object with nominal value and uncertainty\n",
    "        density_ufloat = density.calculate_density(\n",
    "            method='geldsetzer',\n",
    "            hand_hardness=row['hand_hardness'],\n",
    "            grain_form=row['geldsetzer_grain_form']\n",
    "        )\n",
    "\n",
    "        # Extract nominal value and standard deviation from ufloat object\n",
    "        density_val = density_ufloat.nominal_value  # or density_ufloat.n\n",
    "        density_unc = density_ufloat.std_dev        # or density_ufloat.s\n",
    "\n",
    "        return pd.Series([density_val, density_unc])\n",
    "    except Exception as e:\n",
    "        print(f\"Error calculating density for layer {row['pit_id']}: {e}\")\n",
    "        return pd.Series([np.nan, np.nan])\n",
    "\n",
    "# Add density and uncertainty columns to the dataframe using apply method\n",
    "# Calculate density for all rows - the function handles missing data internally\n",
    "layer_df[['density', 'density_uncertainty']] = layer_df.apply(calculate_layer_density, axis=1)\n",
    "\n",
    "# Display results summary - filter for successfully calculated densities\n",
    "successful_layers = layer_df[(layer_df['hand_hardness'].notna() & layer_df['grain_form_primary'].notna()) & \n",
    "                            layer_df['density'].notna()]\n",
    "layers_with_data_count = len(layer_df[layer_df['hand_hardness'].notna() & layer_df['grain_form_primary'].notna()])\n",
    "print(\"=== Density Calculation Results ===\")\n",
    "print(f\"Layers with data and calculated density: {len(successful_layers)}\")\n",
    "print(f\"Layers with data where density could not be calculated: {layers_with_data_count - len(successful_layers)}\")\n",
    "print(f\"Success rate of layers with data: {len(successful_layers)/layers_with_data_count*100:.1f}%\")\n"
   ]
  },
  {
   "cell_type": "code",
   "execution_count": null,
   "id": "b9b81f35",
   "metadata": {},
   "outputs": [],
   "source": [
    "layer_df.to_csv('geldsetzer_density_results.csv', index=False)\n"
   ]
  },
  {
   "cell_type": "code",
   "execution_count": 7,
   "id": "504d51f1",
   "metadata": {},
   "outputs": [
    {
     "name": "stdout",
     "output_type": "stream",
     "text": [
      "=== Uncertainty Analysis by Grain Form ===\n",
      "Grain Form   Count    Mean Density Mean Uncert. Rel. Uncert.(%)\n",
      "----------------------------------------------------------------------\n",
      "DF           38824    135.4        30.0         22.2           \n",
      "DH           11325    229.8        41.0         17.8           \n",
      "FC           72974    216.6        43.0         19.9           \n",
      "PP           17223    89.2         27.0         30.3           \n",
      "PPgp         2466     151.3        42.0         27.8           \n",
      "RG           57864    226.2        46.0         20.3           \n",
      "\n",
      "Note: Uncertainty values represent the standard error from the Geldsetzer regression models\n"
     ]
    }
   ],
   "source": [
    "# Detailed uncertainty analysis by grain form\n",
    "print(\"=== Uncertainty Analysis by Grain Form ===\")\n",
    "successful_layers = layer_df.dropna(subset=['density', 'density_uncertainty'])\n",
    "\n",
    "# Group by grain form and calculate statistics\n",
    "grain_form_stats = successful_layers.groupby('geldsetzer_grain_form').agg({\n",
    "    'density': ['count', 'mean', 'std'],\n",
    "    'density_uncertainty': ['mean', 'std']\n",
    "}).round(1)\n",
    "\n",
    "# Flatten column names for easier reading\n",
    "grain_form_stats.columns = [f'{col[1]}_{col[0]}' if col[1] != '' else col[0] \n",
    "                           for col in grain_form_stats.columns]\n",
    "\n",
    "# Rename columns for clarity\n",
    "grain_form_stats.columns = ['count', 'mean_density', 'density_std', 'mean_uncertainty', 'uncertainty_std']\n",
    "\n",
    "print(f\"{'Grain Form':<12} {'Count':<8} {'Mean Density':<12} {'Mean Uncert.':<12} {'Rel. Uncert.(%)':<15}\")\n",
    "print(\"-\" * 70)\n",
    "\n",
    "for grain_form, row in grain_form_stats.iterrows():\n",
    "    relative_uncert = (row['mean_uncertainty'] / row['mean_density']) * 100\n",
    "    print(f\"{grain_form:<12} {row['count']:<8.0f} {row['mean_density']:<12.1f} \"\n",
    "          f\"{row['mean_uncertainty']:<12.1f} {relative_uncert:<15.1f}\")\n",
    "\n",
    "print(f\"\\nNote: Uncertainty values represent the standard error from the Geldsetzer regression models\")\n"
   ]
  },
  {
   "cell_type": "markdown",
   "id": "c09d6044",
   "metadata": {},
   "source": [
    "## Uncertainty Analysis Summary\n",
    "\n",
    "The uncertainty analysis above provides several key insights:\n",
    "\n",
    "### Uncertainty Sources\n",
    "- **Standard Error (SE)**: The uncertainty values represent the standard errors from the Geldsetzer regression models, as reported in Table 3 of Geldsetzer & Jamieson (2000)\n",
    "- **Grain Form Dependence**: Different grain forms have different inherent uncertainties based on how well the regression models fit the original data\n",
    "\n",
    "### Key Metrics\n",
    "- **Absolute Uncertainty**: Reported in kg/m³, representing the expected error in density estimates\n",
    "- **Relative Uncertainty**: Expressed as a percentage of the density value, showing which grain forms have proportionally higher uncertainty\n",
    "- **Grain Form Analysis**: Shows how uncertainty varies across different snow grain types, helping identify which estimates are most/least reliable\n",
    "\n",
    "### Interpretation\n",
    "- Lower relative uncertainty indicates more reliable density estimates for that grain form\n",
    "- The uncertainty represents the expected variability in density estimates for given hand hardness and grain form combinations\n",
    "- These uncertainties should be considered when using density estimates in avalanche hazard assessment or snow mechanics calculations\n"
   ]
  }
 ],
 "metadata": {
  "kernelspec": {
   "display_name": "test_env",
   "language": "python",
   "name": "python3"
  },
  "language_info": {
   "codemirror_mode": {
    "name": "ipython",
    "version": 3
   },
   "file_extension": ".py",
   "mimetype": "text/x-python",
   "name": "python",
   "nbconvert_exporter": "python",
   "pygments_lexer": "ipython3",
   "version": "3.13.2"
  }
 },
 "nbformat": 4,
 "nbformat_minor": 5
}
