{
 "cells": [
  {
   "cell_type": "code",
   "execution_count": 21,
   "id": "fa937fd3",
   "metadata": {},
   "outputs": [],
   "source": [
    "# Import Libraries\n",
    "import os\n",
    "import sys\n",
    "\n",
    "import matplotlib.pyplot as plt\n",
    "import numpy as np\n",
    "import pandas as pd\n",
    "import seaborn as sns\n",
    "from uncertainties import ufloat\n",
    "import warnings\n",
    "\n",
    "\n",
    "# Add the src directory to the path to import snowpyt_mechparams\n",
    "sys.path.append('../src')\n",
    "from snowpilot_utils import parse_sample_pits\n"
   ]
  },
  {
   "cell_type": "code",
   "execution_count": 22,
   "id": "71b83415",
   "metadata": {},
   "outputs": [
    {
     "name": "stdout",
     "output_type": "stream",
     "text": [
      "Successfully parsed 50278 files\n",
      "Failed to parse 0 files\n"
     ]
    }
   ],
   "source": [
    "# Parse all snowpit files from the data folder\n",
    "all_pits = parse_sample_pits('data')\n"
   ]
  },
  {
   "cell_type": "code",
   "execution_count": 28,
   "id": "8a3c8a15",
   "metadata": {},
   "outputs": [],
   "source": [
    "# Collect Data\n",
    "pit_info = []\n",
    "layer_info = []\n",
    "density_info = []\n",
    "stability_test_info = []\n",
    "\n",
    "for pit in all_pits:\n",
    "    pit_info_dict = {\n",
    "        # User info\n",
    "        'pit_id': pit.core_info.pit_id,\n",
    "        'user_id': pit.core_info.user.user_id,\n",
    "        # Location\n",
    "        'country': pit.core_info.location.country,\n",
    "        'slope_angle': pit.core_info.location.slope_angle,\n",
    "        'pit_near_avalanche': pit.core_info.location.pit_near_avalanche,\n",
    "        'pit_near_avalanche_location': pit.core_info.location.pit_near_avalanche_location,\n",
    "        # Stability tests\n",
    "        'num_ct': len(pit.stability_tests.CT) if pit.stability_tests.CT else 0,\n",
    "        'num_ect': len(pit.stability_tests.ECT) if pit.stability_tests.ECT else 0,\n",
    "        'num_pst': len(pit.stability_tests.PST) if pit.stability_tests.PST else 0\n",
    "    }\n",
    "    pit_info.append(pit_info_dict)\n",
    "\n",
    "    for layer in pit.snow_profile.layers:\n",
    "        # Safely get grain_form_primary attribute\n",
    "        grain_form_primary = getattr(layer, 'grain_form_primary', None)\n",
    "        primary_grain_form = getattr(grain_form_primary, 'grain_form', None) if grain_form_primary else None\n",
    "        \n",
    "        # Safely get grain_size_primary attribute\n",
    "        primary_grain_size = getattr(grain_form_primary, 'grain_size_avg', None) if grain_form_primary else None\n",
    "        \n",
    "        layer_info_dict = {\n",
    "            'pit_id': pit.core_info.pit_id,\n",
    "            'hardness': layer.hardness,\n",
    "            'primary_grain_form': primary_grain_form,\n",
    "            'primary_grain_size': primary_grain_size\n",
    "        }\n",
    "        layer_info.append(layer_info_dict)\n",
    "\n",
    "pit_df = pd.DataFrame(pit_info)\n",
    "layer_df = pd.DataFrame(layer_info)\n"
   ]
  },
  {
   "cell_type": "code",
   "execution_count": 29,
   "id": "c53717d7",
   "metadata": {},
   "outputs": [
    {
     "name": "stdout",
     "output_type": "stream",
     "text": [
      "Total pits: 50278\n",
      "Unique users: 5381\n",
      "Unique countries: 35\n",
      "Total CT results: 51599\n",
      "Total ECT results: 47684\n",
      "Total PST results: 6213\n",
      "Pits near avalanche: 1568 (3.12%)\n",
      "Pits at avalanche crown: 795 (1.58%)\n",
      "Pits at avalanche flank: 399 (0.79%)\n",
      "Pits with slope angle measurement: 45515 (90.53%)\n"
     ]
    }
   ],
   "source": [
    "## Pit Properties\n",
    "\n",
    "# Total pits\n",
    "total_pits = len(pit_df)\n",
    "print(f\"Total pits: {total_pits}\")\n",
    "\n",
    "# Unique users\n",
    "unique_users = pit_df['user_id'].nunique()\n",
    "print(f\"Unique users: {unique_users}\")\n",
    "\n",
    "# Unique Countries\n",
    "unique_countries = pit_df['country'].nunique()\n",
    "print(f\"Unique countries: {unique_countries}\")\n",
    "\n",
    "# Total CT results\n",
    "total_ct = pit_df['num_ct'].sum()\n",
    "print(f\"Total CT results: {total_ct}\")\n",
    "\n",
    "# Total ECT results\n",
    "total_ect = pit_df['num_ect'].sum()\n",
    "print(f\"Total ECT results: {total_ect}\")\n",
    "\n",
    "# Total PST results\n",
    "total_pst = pit_df['num_pst'].sum()\n",
    "print(f\"Total PST results: {total_pst}\")\n",
    "\n",
    "# Total count and % of pits with \"pit_near_avalanche\" = True\n",
    "pits_near_avalanche = pit_df['pit_near_avalanche'].sum()\n",
    "pct_near_avalanche = (pits_near_avalanche / total_pits) * 100\n",
    "print(f\"Pits near avalanche: {pits_near_avalanche} ({pct_near_avalanche:.2f}%)\")\n",
    "\n",
    "# Total count and % of pits with \"pit_near_avalanche_location\" = Crown\n",
    "pits_crown = (pit_df['pit_near_avalanche_location'] == 'crown').sum()\n",
    "pct_crown = (pits_crown / total_pits) * 100\n",
    "print(f\"Pits at avalanche crown: {pits_crown} ({pct_crown:.2f}%)\")\n",
    "\n",
    "# Total count and % of pits with \"pit_near_avalanche_location\" = Flank\n",
    "pits_flank = (pit_df['pit_near_avalanche_location'] == 'flank').sum()\n",
    "pct_flank = (pits_flank / total_pits) * 100\n",
    "print(f\"Pits at avalanche flank: {pits_flank} ({pct_flank:.2f}%)\")\n",
    "\n",
    "# Total count and % of pits with slope angle measurement\n",
    "pits_with_slope = pit_df['slope_angle'].notna().sum()\n",
    "pct_with_slope = (pits_with_slope / total_pits) * 100\n",
    "print(f\"Pits with slope angle measurement: {pits_with_slope} ({pct_with_slope:.2f}%)\")\n"
   ]
  },
  {
   "cell_type": "code",
   "execution_count": null,
   "id": "2e83099a",
   "metadata": {},
   "outputs": [
    {
     "name": "stdout",
     "output_type": "stream",
     "text": [
      "Total layers: 371429\n",
      "Layers with hand hardness: 336888 (90.70%)\n",
      "Layers with grain form: 303726 (81.77%)\n",
      "Layers with grain size: 176044 (47.40%)\n"
     ]
    }
   ],
   "source": [
    "## Layer Info\n",
    "\n",
    "# Total layers\n",
    "total_layers = len(layer_df)\n",
    "print(f\"Total layers: {total_layers}\")\n",
    "\n",
    "# Layers with hand hardness\n",
    "layers_with_hardness = layer_df['hardness'].notna().sum()\n",
    "pct_with_hardness = (layers_with_hardness / total_layers) * 100\n",
    "print(f\"Layers with hand hardness: {layers_with_hardness} ({pct_with_hardness:.2f}%)\")\n",
    "\n",
    "# Layers with grain form\n",
    "layers_with_grain_form = layer_df['primary_grain_form'].notna().sum()\n",
    "pct_with_grain_form = (layers_with_grain_form / total_layers) * 100\n",
    "print(f\"Layers with primary grain form: {layers_with_grain_form} ({pct_with_grain_form:.2f}%)\")\n",
    "\n",
    "# Layers with grain size\n",
    "layers_with_grain_size = layer_df['primary_grain_size'].notna().sum()\n",
    "pct_with_grain_size = (layers_with_grain_size / total_layers) * 100\n",
    "print(f\"Layers with primary grain size: {layers_with_grain_size} ({pct_with_grain_size:.2f}%)\")\n"
   ]
  }
 ],
 "metadata": {
  "kernelspec": {
   "display_name": "venv",
   "language": "python",
   "name": "python3"
  },
  "language_info": {
   "codemirror_mode": {
    "name": "ipython",
    "version": 3
   },
   "file_extension": ".py",
   "mimetype": "text/x-python",
   "name": "python",
   "nbconvert_exporter": "python",
   "pygments_lexer": "ipython3",
   "version": "3.13.2"
  }
 },
 "nbformat": 4,
 "nbformat_minor": 5
}
