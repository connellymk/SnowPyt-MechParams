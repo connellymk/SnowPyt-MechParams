{
 "cells": [
  {
   "cell_type": "markdown",
   "id": "69d937d9",
   "metadata": {},
   "source": [
    "# Elastic Modulus Comparison\n",
    "\n",
    "This notebook compares three different methods for calculating elastic modulus of snow layers:\n",
    "1. **Bergfeld et al. (2023)** - Power-law based on density\n",
    "2. **Köchle and Schneebeli (2014)** - Exponential relationships from μ-CT and FE simulations  \n",
    "3. **Wautier et al. (2015)** - Power-law with ice modulus parameter\n",
    "\n",
    "All three methods require both **density** and **grain form** as inputs.\n"
   ]
  },
  {
   "cell_type": "code",
   "execution_count": 13,
   "id": "afbe2b7b",
   "metadata": {},
   "outputs": [
    {
     "name": "stdout",
     "output_type": "stream",
     "text": [
      "The autoreload extension is already loaded. To reload it, use:\n",
      "  %reload_ext autoreload\n"
     ]
    }
   ],
   "source": [
    "%load_ext autoreload\n",
    "%autoreload 2\n"
   ]
  },
  {
   "cell_type": "code",
   "execution_count": 14,
   "id": "766c0155",
   "metadata": {},
   "outputs": [],
   "source": [
    "# Import Libraries\n",
    "import os\n",
    "import sys\n",
    "\n",
    "import matplotlib.pyplot as plt\n",
    "import numpy as np\n",
    "import pandas as pd\n",
    "import seaborn as sns\n",
    "from uncertainties import ufloat\n",
    "import warnings\n",
    "\n",
    "\n",
    "# Add the src directory to the path to import snowpyt_mechparams\n",
    "sys.path.append('../src')\n",
    "from snowpilot_utils import convert_grain_form, parse_sample_pits\n",
    "from snowpyt_mechparams import density, elastic_modulus\n"
   ]
  },
  {
   "cell_type": "code",
   "execution_count": 15,
   "id": "f003f9dc",
   "metadata": {},
   "outputs": [
    {
     "name": "stdout",
     "output_type": "stream",
     "text": [
      "Successfully parsed 50278 files\n",
      "Failed to parse 0 files\n"
     ]
    }
   ],
   "source": [
    "# Parse all snowpit files from the data folder\n",
    "all_pits = parse_sample_pits('data')\n"
   ]
  },
  {
   "cell_type": "markdown",
   "id": "fc3b6af2",
   "metadata": {},
   "source": [
    "Kim_geldsetzer densities"
   ]
  },
  {
   "cell_type": "code",
   "execution_count": 16,
   "id": "e2cf87bf",
   "metadata": {},
   "outputs": [],
   "source": [
    "# Collect relevant data from each snowpit\n",
    "layer_info = []\n",
    "\n",
    "for pit in all_pits:\n",
    "    for layer in pit.snow_profile.layers:\n",
    "        layer_dict = {\n",
    "            'pit_id': pit.core_info.pit_id,\n",
    "            'hand_hardness': layer.hardness,\n",
    "            'depth_top': layer.depth_top[0] if layer.depth_top else None,  \n",
    "            'thickness': layer.thickness[0] if layer.thickness else None,\n",
    "        }\n",
    "\n",
    "        # Convert grain form and calculate density\n",
    "        grain_form = convert_grain_form(layer.grain_form_primary, 'kim_geldsetzer') if layer.grain_form_primary else None\n",
    "        layer_dict['kim_geldsetzer_grain_form'] = grain_form\n",
    "        \n",
    "        # Calculate density if we have valid inputs\n",
    "        if layer.hardness and grain_form:\n",
    "            try:\n",
    "                density_ufloat = density.calculate_density( \n",
    "                    method='kim_geldsetzer',\n",
    "                    hand_hardness=layer.hardness,\n",
    "                    grain_form=grain_form\n",
    "                )\n",
    "                layer_dict['density_kim_geldsetzer'] = density_ufloat.nominal_value\n",
    "                layer_dict['density_kim_geldsetzer_uncertainty'] = density_ufloat.std_dev\n",
    "            except Exception:\n",
    "                layer_dict['density_kim_geldsetzer'] = None\n",
    "                layer_dict['density_kim_geldsetzer_uncertainty'] = None\n",
    "        else:\n",
    "            layer_dict['density_kim_geldsetzer'] = None\n",
    "            layer_dict['density_kim_geldsetzer_uncertainty'] = None\n",
    "\n",
    "        layer_info.append(layer_dict)\n",
    "\n",
    "# Create dataframes\n",
    "layer_df = pd.DataFrame(layer_info)\n"
   ]
  },
  {
   "cell_type": "code",
   "execution_count": 18,
   "id": "6dcb2e51",
   "metadata": {},
   "outputs": [
    {
     "name": "stderr",
     "output_type": "stream",
     "text": [
      "/Users/marykateconnelly/Desktop/F25/SnowPyt-MechParams/venv/lib/python3.13/site-packages/uncertainties/core.py:1024: UserWarning: Using UFloat objects with std_dev==0 may give unexpected results.\n",
      "  warn(\"Using UFloat objects with std_dev==0 may give unexpected results.\")\n"
     ]
    }
   ],
   "source": [
    "# Implement the elastic modulus calculations\n",
    "\n",
    "def calculate_emod_row(row):\n",
    "    \"\"\"Calculate elastic modulus for a single row using multiple methods.\"\"\"\n",
    "    result = {\n",
    "        'e_mod_bergfeld': np.nan,\n",
    "        'e_mod_kochle': np.nan,\n",
    "        'e_mod_wautier': np.nan\n",
    "    }\n",
    "    \n",
    "    # Skip if no grain form or density data\n",
    "    if pd.isna(row['kim_geldsetzer_grain_form']) or pd.isna(row['density_kim_geldsetzer']):\n",
    "        return pd.Series(result)\n",
    "    \n",
    "    try:\n",
    "        # Create density ufloat once\n",
    "        density_ufloat = ufloat(row['density_kim_geldsetzer'], row['density_kim_geldsetzer_uncertainty'])\n",
    "        grain_form = row['kim_geldsetzer_grain_form']\n",
    "        \n",
    "        # Calculate elastic modulus using Bergfeld method (needs grain_form!)\n",
    "        try:\n",
    "            E_mod_bergfeld = elastic_modulus.calculate_elastic_modulus(\n",
    "                method='bergfeld',\n",
    "                density=density_ufloat,\n",
    "                grain_form=grain_form\n",
    "            )\n",
    "            result['e_mod_bergfeld'] = E_mod_bergfeld.nominal_value\n",
    "        except Exception:\n",
    "            pass  # Keep as np.nan\n",
    "        \n",
    "        # Calculate elastic modulus using Kochle method\n",
    "        try:\n",
    "            E_mod_kochle = elastic_modulus.calculate_elastic_modulus(\n",
    "                method='kochle',\n",
    "                density=density_ufloat,\n",
    "                grain_form=grain_form\n",
    "            )\n",
    "            result['e_mod_kochle'] = E_mod_kochle.nominal_value\n",
    "        except Exception:\n",
    "            pass  # Keep as np.nan\n",
    "        \n",
    "        # Calculate elastic modulus using Wautier method\n",
    "        try:\n",
    "            E_mod_wautier = elastic_modulus.calculate_elastic_modulus(\n",
    "                method='wautier',\n",
    "                density=density_ufloat,\n",
    "                grain_form=grain_form\n",
    "            )\n",
    "            result['e_mod_wautier'] = E_mod_wautier.nominal_value\n",
    "        except Exception:\n",
    "            pass  # Keep as np.nan\n",
    "        \n",
    "    except Exception:\n",
    "        pass  # result already contains np.nan values\n",
    "    \n",
    "    return pd.Series(result)\n",
    "\n",
    "# Apply the function to all rows at once\n",
    "layer_df[['e_mod_bergfeld', 'e_mod_kochle', 'e_mod_wautier']] = layer_df.apply(calculate_emod_row, axis=1)\n"
   ]
  },
  {
   "cell_type": "code",
   "execution_count": null,
   "id": "3486c040",
   "metadata": {},
   "outputs": [
    {
     "name": "stdout",
     "output_type": "stream",
     "text": [
      "Elastic Modulus Calculation Summary:\n",
      "============================================================\n",
      "\n",
      "Total layers: 371429\n",
      "Layers with density data: 235522\n",
      "Layers with grain form data: 259731\n",
      "\n",
      "Successful calculations:\n",
      "  Bergfeld: 88319\n",
      "  Kochle:   101079\n",
      "  Wautier:  203401\n",
      "\n",
      "\n",
      "Sample of successful calculations (first 5):\n",
      "   pit_id hand_hardness kim_geldsetzer_grain_form  density_kim_geldsetzer  \\\n",
      "3   51686            F+                        DF                 112.242   \n",
      "5   51686            F+                      FCxr                 146.738   \n",
      "7    5847            4F                        DF                 137.300   \n",
      "9    5847             F                      FCxr                 127.400   \n",
      "12   9544             P                      MFcr                 295.400   \n",
      "\n",
      "    e_mod_bergfeld  e_mod_kochle  e_mod_wautier  \n",
      "3         0.629756           NaN       6.064847  \n",
      "5              NaN           NaN      11.354445  \n",
      "7         1.528406           NaN       9.718635  \n",
      "9              NaN           NaN       8.157417  \n",
      "12             NaN    155.827134      58.373639  \n"
     ]
    }
   ],
   "source": [
    "# Check the results\n",
    "print(\"Elastic Modulus Calculation Summary:\")\n",
    "print(\"=\" * 60)\n",
    "print(f\"\\nTotal layers: {len(layer_df)}\")\n",
    "print(f\"Layers with density data: {layer_df['density_kim_geldsetzer'].notna().sum()}\")\n",
    "print(f\"Layers with grain form data: {layer_df['kim_geldsetzer_grain_form'].notna().sum()}\")\n",
    "print(f\"\\nSuccessful calculations:\")\n",
    "print(f\"  Bergfeld: {layer_df['e_mod_bergfeld'].notna().sum()}\")\n",
    "print(f\"  Kochle:   {layer_df['e_mod_kochle'].notna().sum()}\")\n",
    "print(f\"  Wautier:  {layer_df['e_mod_wautier'].notna().sum()}\")\n",
    "\n",
    "# Show a sample of successful calculations\n",
    "successful = layer_df[layer_df['e_mod_bergfeld'].notna() | \n",
    "                      layer_df['e_mod_kochle'].notna() | \n",
    "                      layer_df['e_mod_wautier'].notna()]\n"
   ]
  },
  {
   "cell_type": "code",
   "execution_count": 20,
   "id": "79381e00",
   "metadata": {},
   "outputs": [],
   "source": [
    "#layer_df.to_csv('emod_layer_df.csv')\n"
   ]
  }
 ],
 "metadata": {
  "kernelspec": {
   "display_name": "venv",
   "language": "python",
   "name": "python3"
  },
  "language_info": {
   "codemirror_mode": {
    "name": "ipython",
    "version": 3
   },
   "file_extension": ".py",
   "mimetype": "text/x-python",
   "name": "python",
   "nbconvert_exporter": "python",
   "pygments_lexer": "ipython3",
   "version": "3.13.2"
  }
 },
 "nbformat": 4,
 "nbformat_minor": 5
}
