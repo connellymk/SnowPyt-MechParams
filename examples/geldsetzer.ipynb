{
 "cells": [
  {
   "cell_type": "markdown",
   "id": "f13e3e51",
   "metadata": {},
   "source": [
    "# Snow Density Calculations\n",
    "\n",
    "This notebook demonstrates methods for calculating density from common snow pit measurements (hand hardness and grain form) using the \"Geldsetzer\" method for calculating density. The analysis the local snowpyt_mechparams package and snowpylot for CAAML parsing.\n"
   ]
  },
  {
   "cell_type": "code",
   "execution_count": 1,
   "id": "0de34f47",
   "metadata": {},
   "outputs": [],
   "source": [
    "# Import Libraries\n",
    "import os\n",
    "import sys\n",
    "\n",
    "import numpy as np\n",
    "import pandas as pd\n",
    "\n",
    "# Import snowpylot for CAAML parsing\n",
    "from snowpylot import caaml_parser\n",
    "\n",
    "# Add the src directory to the path to import snowpyt_mechparams\n",
    "sys.path.append('../src')\n",
    "from snowpilot_utils import convert_grain_form\n",
    "from snowpyt_mechparams import density\n"
   ]
  },
  {
   "cell_type": "markdown",
   "id": "b079c80a",
   "metadata": {},
   "source": [
    "Parse Snowpit Files"
   ]
  },
  {
   "cell_type": "code",
   "execution_count": 2,
   "id": "c864a00e",
   "metadata": {},
   "outputs": [
    {
     "name": "stdout",
     "output_type": "stream",
     "text": [
      "Successfully parsed 50278 files\n",
      "Failed to parse 0 files\n"
     ]
    }
   ],
   "source": [
    "all_pits = []\n",
    "failed_files = []\n",
    "\n",
    "folder_path = 'data'\n",
    "\n",
    "xml_files = [f for f in os.listdir(folder_path) if f.endswith('.xml')]\n",
    "\n",
    "for file in xml_files:\n",
    "    try:\n",
    "        file_path = os.path.join(folder_path, file)\n",
    "        pit = caaml_parser(file_path)\n",
    "        all_pits.append(pit)\n",
    "    except Exception as e:\n",
    "        failed_files.append((file, str(e)))\n",
    "        print(f\"Warning: Failed to parse {file}: {e}\")\n",
    "\n",
    "print(f\"Successfully parsed {len(all_pits)} files\")\n",
    "print(f\"Failed to parse {len(failed_files)} files\")\n"
   ]
  },
  {
   "cell_type": "markdown",
   "id": "165239f2",
   "metadata": {},
   "source": [
    "Collect relevant data for each pit and convert to form needed to implement Geldsetzer"
   ]
  },
  {
   "cell_type": "code",
   "execution_count": null,
   "id": "ef09d7d2",
   "metadata": {},
   "outputs": [],
   "source": [
    "# Collect relevant data from each snowpit\n",
    "pit_info = []\n",
    "layer_info = []\n",
    "\n",
    "for pit in all_pits:\n",
    "    pit_dict = {\n",
    "        'pit_id': pit.core_info.pit_id,\n",
    "        'layer_count': len(pit.snow_profile.layers),\n",
    "    }\n",
    "    pit_info.append(pit_dict)\n",
    "\n",
    "    for layer in pit.snow_profile.layers:\n",
    "        # Create base layer dictionary\n",
    "        layer_dict = {\n",
    "            'pit_id': pit.core_info.pit_id,\n",
    "            'hand_hardness': layer.hardness,\n",
    "            'grain_form_primary': layer.grain_form_primary,\n",
    "        }\n",
    "\n",
    "        # Add geldsetzer grain form conversion if grain form data exists\n",
    "        if layer.grain_form_primary:\n",
    "            layer_dict['geldsetzer_grain_form'] = convert_grain_form(layer.grain_form_primary, 'geldsetzer')\n",
    "        else:\n",
    "            layer_dict['geldsetzer_grain_form'] = None\n",
    "\n",
    "        layer_info.append(layer_dict)\n",
    "\n",
    "# Create a dataframe from the pit and layer info\n",
    "pit_df = pd.DataFrame(pit_info)\n",
    "layer_df = pd.DataFrame(layer_info)\n"
   ]
  },
  {
   "cell_type": "code",
   "execution_count": 10,
   "id": "049ee3da",
   "metadata": {},
   "outputs": [
    {
     "name": "stdout",
     "output_type": "stream",
     "text": [
      "=== Dataset Summary ===\n",
      "Total number of snowpits: 50278\n",
      "Total number of layers: 371429\n",
      "Layers with both hand hardness and grain form data: 279331, 75.2%\n",
      "Layers with Geldsetzer grain forms: 221734, 59.7%\n"
     ]
    }
   ],
   "source": [
    "# Dataset Summary\n",
    "print(\"=== Dataset Summary ===\")\n",
    "print(f\"Total number of snowpits: {len(all_pits)}\")\n",
    "print(f\"Total number of layers: {len(layer_df)}\")\n",
    "\n",
    "# Filter layers with both hand hardness and grain form data\n",
    "layers_with_data = layer_df[layer_df['hand_hardness'].notna() & layer_df['grain_form_primary'].notna()]\n",
    "print(f\"Layers with both hand hardness and grain form data: {len(layers_with_data)}, \"\n",
    "      f\"{len(layers_with_data)/len(layer_df)*100:.1f}%\")\n",
    "geldsetzer_layers = layer_df[layer_df['geldsetzer_grain_form'].notna()]\n",
    "print(f\"Layers with Geldsetzer grain forms: {len(geldsetzer_layers)}, \"\n",
    "      f\"{len(geldsetzer_layers)/len(layer_df)*100:.1f}%\")\n"
   ]
  },
  {
   "cell_type": "markdown",
   "id": "484d66ed",
   "metadata": {},
   "source": [
    "Implement Geldsetzer Method"
   ]
  },
  {
   "cell_type": "code",
   "execution_count": 6,
   "id": "8acdacd4",
   "metadata": {},
   "outputs": [
    {
     "name": "stdout",
     "output_type": "stream",
     "text": [
      "=== Density Calculation Results ===\n",
      "Layers with data and calculated density: 200676\n",
      "Layers with data where density could not be calculated: 78655\n",
      "Success rate of layers with data: 71.8%\n",
      "Success rate of all layers: 54.0%\n"
     ]
    }
   ],
   "source": [
    "# Calculate density using Geldsetzer method for each layer\n",
    "def calculate_layer_density(row):\n",
    "    try:\n",
    "        # Only calculate if we have a mapped grain form\n",
    "        if pd.isna(row['geldsetzer_grain_form']):\n",
    "            return np.nan\n",
    "\n",
    "        return density.calculate_density(\n",
    "            method='geldsetzer',\n",
    "            hand_hardness=row['hand_hardness'],\n",
    "            grain_form=row['geldsetzer_grain_form']\n",
    "        )\n",
    "    except ValueError as e:\n",
    "        # Return NaN for cases where density cannot be calculated\n",
    "        return np.nan\n",
    "\n",
    "# Add density column to the dataframe\n",
    "layers_with_data = layers_with_data.copy()  # Avoid SettingWithCopyWarning\n",
    "layers_with_data['density'] = layers_with_data.apply(calculate_layer_density, axis=1)\n",
    "\n",
    "# Show summary of calculated densities\n",
    "print(\"=== Density Calculation Results ===\")\n",
    "print(f\"Layers with data and calculated density: {layers_with_data['density'].notna().sum()}\")\n",
    "print(f\"Layers with data where density could not be calculated: {layers_with_data['density'].isna().sum()}\")\n",
    "print(f\"Success rate of layers with data: {layers_with_data['density'].notna().sum()/len(layers_with_data)*100:.1f}%\")\n",
    "print(f\"Success rate of all layers: {layers_with_data['density'].notna().sum()/len(layer_df)*100:.1f}%\")\n"
   ]
  }
 ],
 "metadata": {
  "kernelspec": {
   "display_name": "test_env",
   "language": "python",
   "name": "python3"
  },
  "language_info": {
   "codemirror_mode": {
    "name": "ipython",
    "version": 3
   },
   "file_extension": ".py",
   "mimetype": "text/x-python",
   "name": "python",
   "nbconvert_exporter": "python",
   "pygments_lexer": "ipython3",
   "version": "3.13.2"
  }
 },
 "nbformat": 4,
 "nbformat_minor": 5
}
