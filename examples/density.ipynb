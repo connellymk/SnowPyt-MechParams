{
 "cells": [
  {
   "cell_type": "markdown",
   "id": "f13e3e51",
   "metadata": {},
   "source": [
    "# Snow Density Calculations\n",
    "\n",
    "This notebook demonstrates methods for calculating density from common snow pit measurements (hand hardness and grain form) using both the local snowpyt_mechparams package and snowpylot for CAAML parsing.\n"
   ]
  },
  {
   "cell_type": "code",
   "execution_count": 2,
   "id": "0de34f47",
   "metadata": {},
   "outputs": [],
   "source": [
    "# Import Libraries\n",
    "import os\n",
    "import xml.etree.ElementTree as ET\n",
    "import sys\n",
    "import pandas as pd\n",
    "import numpy as np\n",
    "import matplotlib.pyplot as plt\n",
    "import seaborn as sns\n",
    "from matplotlib.patches import Patch\n",
    "import glob\n",
    "\n",
    "# Import snowpylot for CAAML parsing\n",
    "from snowpylot import caaml_parser\n",
    "\n",
    "# Add the src directory to the path to import snowpyt_mechparams\n",
    "sys.path.append('../src')\n",
    "from snowpyt_mechparams import density\n"
   ]
  },
  {
   "cell_type": "markdown",
   "id": "b079c80a",
   "metadata": {},
   "source": [
    "Parse Snowpit Files"
   ]
  },
  {
   "cell_type": "code",
   "execution_count": 3,
   "id": "9b5046f0",
   "metadata": {},
   "outputs": [],
   "source": [
    "all_pits = []\n",
    "\n",
    "folder_path = 'data'\n",
    "\n",
    "for file in os.listdir(folder_path):\n",
    "    file_path = folder_path + \"/\" + file  # create the file path\n",
    "    all_pits.append(caaml_parser(file_path))\n"
   ]
  },
  {
   "cell_type": "code",
   "execution_count": 4,
   "id": "9dfca19f",
   "metadata": {},
   "outputs": [],
   "source": [
    "# Collect relevant data from each snowpit\n",
    "\n",
    "pit_info = []\n",
    "layer_info = []\n",
    "\n",
    "for pit in all_pits:\n",
    "    pit_dict = {\n",
    "        'pit_id': pit.core_info.pit_id,\n",
    "        'layer_count': len(pit.snow_profile.layers),\n",
    "    }\n",
    "    pit_info.append(pit_dict)\n",
    "\n",
    "    for layer in pit.snow_profile.layers:\n",
    "        layer_dict = {\n",
    "            'pit_id': pit.core_info.pit_id,\n",
    "            'depth_top': layer.depth_top,\n",
    "            'thickness': layer.thickness,\n",
    "            'hand_hardness': layer.hardness,\n",
    "            'wetness': layer.wetness,\n",
    "            'layer_of_concern': layer.layer_of_concern,\n",
    "            'grain_form_primary': layer.grain_form_primary,\n",
    "            'grain_form_secondary': layer.grain_form_secondary,\n",
    "        }\n",
    "        layer_info.append(layer_dict)\n",
    "\n",
    "# Create a dataframe from the pit and layer info\n",
    "pit_df = pd.DataFrame(pit_info)\n",
    "layer_df = pd.DataFrame(layer_info)\n"
   ]
  },
  {
   "cell_type": "code",
   "execution_count": null,
   "id": "049ee3da",
   "metadata": {},
   "outputs": [
    {
     "name": "stdout",
     "output_type": "stream",
     "text": [
      "=== Dataset Summary ===\n",
      "Total number of snowpits: 43829\n",
      "Total number of layers: 324054\n",
      "Layers with both hand hardness and grain form data: 244247\n",
      "Percentage of layers with complete data: 75.4%\n"
     ]
    }
   ],
   "source": [
    "# Dataset Summary\n",
    "print(\"=== Dataset Summary ===\")\n",
    "print(f\"Total number of snowpits: {len(all_pits)}\")\n",
    "print(f\"Total number of layers: {len(layer_df)}\")\n",
    "\n",
    "# Filter layers with both hand hardness and grain form data\n",
    "layers_with_data = layer_df[layer_df['hand_hardness'].notna() & layer_df['grain_form_primary'].notna()]\n",
    "print(f\"Layers with both hand hardness and grain form data: {len(layers_with_data)}\")\n",
    "print(f\"Percentage of layers with complete data: {len(layers_with_data)/len(layer_df)*100:.1f}%\")\n"
   ]
  },
  {
   "cell_type": "markdown",
   "id": "484d66ed",
   "metadata": {},
   "source": [
    "Implement Geldsetzer Method"
   ]
  },
  {
   "cell_type": "code",
   "execution_count": 9,
   "id": "8acdacd4",
   "metadata": {},
   "outputs": [
    {
     "name": "stdout",
     "output_type": "stream",
     "text": [
      "=== Density Calculation Results ===\n",
      "Layers with calculated density: 0\n",
      "Layers where density could not be calculated: 244247\n",
      "Success rate: 0.0%\n"
     ]
    },
    {
     "ename": "AttributeError",
     "evalue": "module 'snowpyt_mechparams.density' has no attribute 'geldsetzer'",
     "output_type": "error",
     "traceback": [
      "\u001b[31m---------------------------------------------------------------------------\u001b[39m",
      "\u001b[31mAttributeError\u001b[39m                            Traceback (most recent call last)",
      "\u001b[36mCell\u001b[39m\u001b[36m \u001b[39m\u001b[32mIn[9]\u001b[39m\u001b[32m, line 24\u001b[39m\n\u001b[32m     21\u001b[39m \u001b[38;5;28mprint\u001b[39m(\u001b[33mf\u001b[39m\u001b[33m\"\u001b[39m\u001b[33mSuccess rate: \u001b[39m\u001b[38;5;132;01m{\u001b[39;00mlayers_with_data[\u001b[33m'\u001b[39m\u001b[33mdensity\u001b[39m\u001b[33m'\u001b[39m].notna().sum()/\u001b[38;5;28mlen\u001b[39m(layers_with_data)*\u001b[32m100\u001b[39m\u001b[38;5;132;01m:\u001b[39;00m\u001b[33m.1f\u001b[39m\u001b[38;5;132;01m}\u001b[39;00m\u001b[33m%\u001b[39m\u001b[33m\"\u001b[39m)\n\u001b[32m     23\u001b[39m \u001b[38;5;66;03m# Add density to the dataframe\u001b[39;00m\n\u001b[32m---> \u001b[39m\u001b[32m24\u001b[39m layers_with_data[\u001b[33m'\u001b[39m\u001b[33mdensity\u001b[39m\u001b[33m'\u001b[39m] = layers_with_data[\u001b[33m'\u001b[39m\u001b[33mhand_hardness\u001b[39m\u001b[33m'\u001b[39m].apply(\u001b[43mdensity\u001b[49m\u001b[43m.\u001b[49m\u001b[43mgeldsetzer\u001b[49m)\n",
      "\u001b[31mAttributeError\u001b[39m: module 'snowpyt_mechparams.density' has no attribute 'geldsetzer'"
     ]
    }
   ],
   "source": [
    "# Calculate density using Geldsetzer method for each layer\n",
    "def calculate_layer_density(row):\n",
    "    try:\n",
    "        return density.calculate_density(\n",
    "            method='geldsetzer',\n",
    "            hand_hardness=row['hand_hardness'],\n",
    "            grain_form=row['grain_form_primary']\n",
    "        )\n",
    "    except ValueError as e:\n",
    "        # Return NaN for cases where density cannot be calculated\n",
    "        return np.nan\n",
    "\n",
    "# Add density column to the dataframe\n",
    "layers_with_data = layers_with_data.copy()  # Avoid SettingWithCopyWarning\n",
    "layers_with_data['density'] = layers_with_data.apply(calculate_layer_density, axis=1)\n",
    "\n",
    "# Show summary of calculated densities\n",
    "print(\"=== Density Calculation Results ===\")\n",
    "print(f\"Layers with calculated density: {layers_with_data['density'].notna().sum()}\")\n",
    "print(f\"Layers where density could not be calculated: {layers_with_data['density'].isna().sum()}\")\n",
    "print(f\"Success rate: {layers_with_data['density'].notna().sum()/len(layers_with_data)*100:.1f}%\")\n",
    "\n",
    "# Add density to the dataframe\n",
    "layers_with_data['density'] = layers_with_data['hand_hardness'].apply(density.geldsetzer)\n",
    "\n"
   ]
  }
 ],
 "metadata": {
  "kernelspec": {
   "display_name": ".venv",
   "language": "python",
   "name": "python3"
  },
  "language_info": {
   "codemirror_mode": {
    "name": "ipython",
    "version": 3
   },
   "file_extension": ".py",
   "mimetype": "text/x-python",
   "name": "python",
   "nbconvert_exporter": "python",
   "pygments_lexer": "ipython3",
   "version": "3.13.2"
  }
 },
 "nbformat": 4,
 "nbformat_minor": 5
}
