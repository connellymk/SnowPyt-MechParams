{
 "cells": [
  {
   "cell_type": "markdown",
   "id": "bededb57",
   "metadata": {},
   "source": [
    "# Snow Elastic Modulus Calculations - Bergfeld et al. (2023) Method\n",
    "\n",
    "This notebook demonstrates the application of the Bergfeld et al. (2023) elastic modulus parameterization to snowpit data. The Bergfeld method calculates elastic modulus from snow density using a power-law relationship optimized from Propagation Saw Test (PST) data.\n",
    "\n",
    "The analysis uses the local snowpyt_mechparams package and snowpylot for CAAML parsing.\n"
   ]
  },
  {
   "cell_type": "code",
   "execution_count": 4,
   "id": "44d98f88",
   "metadata": {},
   "outputs": [],
   "source": [
    "# Import Libraries\n",
    "import os\n",
    "import sys\n",
    "\n",
    "import matplotlib.pyplot as plt\n",
    "import numpy as np\n",
    "import pandas as pd\n",
    "import seaborn as sns\n",
    "\n",
    "# Add the src directory to the path to import snowpyt_mechparams\n",
    "sys.path.append('../src')\n",
    "from snowpilot_utils import convert_grain_form, parse_sample_pits\n",
    "from snowpyt_mechparams import density, elastic_modulus\n"
   ]
  },
  {
   "cell_type": "markdown",
   "id": "d4a001c4",
   "metadata": {},
   "source": [
    "Parse Snowpit Files\n"
   ]
  },
  {
   "cell_type": "code",
   "execution_count": 5,
   "id": "2c14f4c9",
   "metadata": {},
   "outputs": [
    {
     "name": "stdout",
     "output_type": "stream",
     "text": [
      "Successfully parsed 50278 files\n",
      "Failed to parse 0 files\n"
     ]
    }
   ],
   "source": [
    "# Parse all snowpit files from the data folder\n",
    "all_pits = parse_sample_pits('data')\n"
   ]
  },
  {
   "cell_type": "code",
   "execution_count": 8,
   "id": "74743f84",
   "metadata": {},
   "outputs": [
    {
     "name": "stdout",
     "output_type": "stream",
     "text": [
      "Total layers collected: 371,429\n"
     ]
    }
   ],
   "source": [
    "# Collect relevant data from each snowpit\n",
    "pit_info = []\n",
    "layer_info = []\n",
    "\n",
    "for pit in all_pits:\n",
    "    pit_dict = {\n",
    "        'pit_id': pit.core_info.pit_id,\n",
    "        'layer_count': len(pit.snow_profile.layers),\n",
    "        'density_count': len(pit.snow_profile.density_profile)\n",
    "    }\n",
    "    pit_info.append(pit_dict)\n",
    "\n",
    "    for layer in pit.snow_profile.layers:\n",
    "        # Create base layer dictionary\n",
    "        layer_dict = {\n",
    "            'pit_id': pit.core_info.pit_id,\n",
    "            'depth_top': layer.depth_top,\n",
    "            'thickness': layer.thickness,\n",
    "            'hand_hardness': layer.hardness,\n",
    "            'grain_form_primary': layer.grain_form_primary,\n",
    "            'grain_size': None,  # Initialize as None, set below if data exists\n",
    "            'direct_density': None  # Initialize as None, check for direct measurements\n",
    "        }\n",
    "\n",
    "        # Set grain_size if grain_form_primary exists and has grain_size_avg\n",
    "        if layer.grain_form_primary and hasattr(layer.grain_form_primary, 'grain_size_avg') and layer.grain_form_primary.grain_size_avg:\n",
    "            layer_dict['grain_size'] = layer.grain_form_primary.grain_size_avg[0]\n",
    "\n",
    "        # Add grain form conversions for different density methods\n",
    "        if layer.grain_form_primary:\n",
    "            layer_dict['geldsetzer_grain_form'] = convert_grain_form(layer.grain_form_primary, 'geldsetzer')\n",
    "            layer_dict['kim_geldsetzer_grain_form'] = convert_grain_form(layer.grain_form_primary, 'kim_geldsetzer')\n",
    "            layer_dict['kim_grain_form'] = convert_grain_form(layer.grain_form_primary, 'kim')\n",
    "        else:\n",
    "            layer_dict['geldsetzer_grain_form'] = None\n",
    "            layer_dict['kim_geldsetzer_grain_form'] = None\n",
    "            layer_dict['kim_grain_form'] = None\n",
    "\n",
    "        layer_info.append(layer_dict)\n",
    "\n",
    "    # Check for direct density measurements that match layers\n",
    "    for density_obs in pit.snow_profile.density_profile:\n",
    "        for layer_dict in layer_info:\n",
    "            if (layer_dict['pit_id'] == pit.core_info.pit_id and \n",
    "                density_obs.depth_top == layer_dict['depth_top'] and \n",
    "                density_obs.thickness == layer_dict['thickness']):\n",
    "                layer_dict['direct_density'] = density_obs.density\n",
    "\n",
    "# Create a dataframe from the layer info\n",
    "layer_df = pd.DataFrame(layer_info)\n",
    "print(f\"Total layers collected: {len(layer_df):,}\")\n"
   ]
  },
  {
   "cell_type": "markdown",
   "id": "4c97ce89",
   "metadata": {},
   "source": [
    "Collect Layer Data and Calculate Density\n",
    "\n",
    "Since the Bergfeld method requires density as input, we need to first calculate density for each layer using available methods. We'll try multiple density calculation methods to maximize coverage.\n"
   ]
  },
  {
   "cell_type": "code",
   "execution_count": 9,
   "id": "7d706512",
   "metadata": {},
   "outputs": [
    {
     "name": "stdout",
     "output_type": "stream",
     "text": [
      "Found layer_df with 371,429 layers\n",
      "Calculating density for all layers using fixed function...\n",
      "Density calculation complete.\n"
     ]
    }
   ],
   "source": [
    "# Fixed Function to calculate density using multiple methods with priority order\n",
    "def calculate_layer_density_multi_method_fixed(row):\n",
    "    \"\"\"\n",
    "    Calculate density using multiple methods in priority order:\n",
    "    1. Direct measurements (if available)\n",
    "    2. Kim & Geldsetzer method (best uncertainty)\n",
    "    3. Geldsetzer method\n",
    "    4. Kim method (requires grain size)\n",
    "    \"\"\"\n",
    "    \n",
    "    # Priority 1: Direct density measurements\n",
    "    direct_density = row['direct_density']\n",
    "    if direct_density is not None:\n",
    "        try:\n",
    "            # Handle case where direct_density might be an array or list\n",
    "            if hasattr(direct_density, '__len__') and not isinstance(direct_density, str):\n",
    "                # If it's an array/list, take the first element if it exists\n",
    "                if len(direct_density) > 0:\n",
    "                    density_val = float(direct_density[0])\n",
    "                else:\n",
    "                    density_val = None\n",
    "            else:\n",
    "                # It's a scalar value\n",
    "                density_val = float(direct_density)\n",
    "            \n",
    "            if density_val is not None and not np.isnan(density_val):\n",
    "                # Assume 10% uncertainty for direct measurements (typical for field measurements)\n",
    "                density_unc = density_val * 0.1  # 10% uncertainty\n",
    "                return pd.Series([density_val, density_unc, 'direct'])\n",
    "        except (ValueError, TypeError):\n",
    "            # If conversion fails, skip direct density\n",
    "            pass\n",
    "    \n",
    "    # Priority 2: Kim & Geldsetzer method (requires hand hardness and grain form)\n",
    "    if (row['kim_geldsetzer_grain_form'] is not None and \n",
    "        row['hand_hardness'] is not None and\n",
    "        str(row['kim_geldsetzer_grain_form']).lower() != 'none' and \n",
    "        str(row['hand_hardness']).lower() != 'none'):\n",
    "        try:\n",
    "            density_ufloat = density.calculate_density(\n",
    "                method='kim_geldsetzer',\n",
    "                hand_hardness=row['hand_hardness'],\n",
    "                grain_form=row['kim_geldsetzer_grain_form']\n",
    "            )\n",
    "            return pd.Series([density_ufloat.nominal_value, density_ufloat.std_dev, 'kim_geldsetzer'])\n",
    "        except Exception:\n",
    "            pass\n",
    "    \n",
    "    # Priority 3: Geldsetzer method (requires hand hardness and grain form)\n",
    "    if (row['geldsetzer_grain_form'] is not None and \n",
    "        row['hand_hardness'] is not None and\n",
    "        str(row['geldsetzer_grain_form']).lower() != 'none' and \n",
    "        str(row['hand_hardness']).lower() != 'none'):\n",
    "        try:\n",
    "            density_ufloat = density.calculate_density(\n",
    "                method='geldsetzer',\n",
    "                hand_hardness=row['hand_hardness'],\n",
    "                grain_form=row['geldsetzer_grain_form']\n",
    "            )\n",
    "            return pd.Series([density_ufloat.nominal_value, density_ufloat.std_dev, 'geldsetzer'])\n",
    "        except Exception:\n",
    "            pass\n",
    "    \n",
    "    # Priority 4: Kim method (requires hand hardness, grain form, and grain size)\n",
    "    if (row['kim_grain_form'] is not None and \n",
    "        row['hand_hardness'] is not None and \n",
    "        row['grain_size'] is not None and\n",
    "        str(row['kim_grain_form']).lower() != 'none' and \n",
    "        str(row['hand_hardness']).lower() != 'none' and \n",
    "        str(row['grain_size']).lower() != 'none'):\n",
    "        try:\n",
    "            density_ufloat = density.calculate_density(\n",
    "                method='kim',\n",
    "                hand_hardness=row['hand_hardness'],\n",
    "                grain_form=row['kim_grain_form'],\n",
    "                grain_size=row['grain_size']\n",
    "            )\n",
    "            return pd.Series([density_ufloat.nominal_value, density_ufloat.std_dev, 'kim'])\n",
    "        except Exception:\n",
    "            pass\n",
    "    \n",
    "    # No method available\n",
    "    return pd.Series([np.nan, np.nan, None])\n",
    "\n",
    "# Check if layer_df exists, if not provide guidance\n",
    "try:\n",
    "    if 'layer_df' not in locals():\n",
    "        raise NameError(\"layer_df not found\")\n",
    "    print(f\"Found layer_df with {len(layer_df):,} layers\")\n",
    "except NameError:\n",
    "    print(\"ERROR: layer_df is not defined!\")\n",
    "    print(\"Please run the earlier cells first:\")\n",
    "    print(\"1. Cell 1: Import libraries\")\n",
    "    print(\"2. Cell 2: Parse snowpit files\") \n",
    "    print(\"3. Cell 3: Collect layer data\")\n",
    "    print(\"Then come back to this cell.\")\n",
    "    raise NameError(\"layer_df not defined. Run earlier cells first.\")\n",
    "\n",
    "# Apply density calculation to all layers using the fixed function\n",
    "print(\"Calculating density for all layers using fixed function...\")\n",
    "layer_df[['density', 'density_uncertainty', 'density_method']] = layer_df.apply(calculate_layer_density_multi_method_fixed, axis=1)\n",
    "\n",
    "# Calculate relative uncertainty for density\n",
    "layer_df['density_relative_uncertainty'] = (layer_df['density_uncertainty'] / layer_df['density']) * 100\n",
    "\n",
    "print(\"Density calculation complete.\")\n"
   ]
  },
  {
   "cell_type": "markdown",
   "id": "d23e04ef",
   "metadata": {},
   "source": [
    "Calculate Density Using Multiple Methods\n",
    "\n",
    "We'll calculate density using multiple methods to maximize the number of layers we can analyze. Priority order: direct measurements, kim_geldsetzer, geldsetzer, kim.\n"
   ]
  },
  {
   "cell_type": "markdown",
   "id": "0adb0a42",
   "metadata": {},
   "source": [
    "Apply Bergfeld Elastic Modulus Parameterization\n",
    "\n",
    "Now we'll apply the Bergfeld et al. (2023) method to calculate elastic modulus for all layers that have density values.\n"
   ]
  },
  {
   "cell_type": "code",
   "execution_count": 10,
   "id": "220c321e",
   "metadata": {},
   "outputs": [
    {
     "name": "stdout",
     "output_type": "stream",
     "text": [
      "Calculating elastic modulus using Bergfeld method...\n"
     ]
    },
    {
     "name": "stderr",
     "output_type": "stream",
     "text": [
      "/Users/marykateconnelly/Desktop/snowpylot/snowpylot-applications/SnowPyt-MechParams/test_env/lib/python3.13/site-packages/uncertainties/core.py:1024: UserWarning: Using UFloat objects with std_dev==0 may give unexpected results.\n",
      "  warn(\"Using UFloat objects with std_dev==0 may give unexpected results.\")\n"
     ]
    },
    {
     "name": "stdout",
     "output_type": "stream",
     "text": [
      "Elastic modulus calculation complete.\n"
     ]
    }
   ],
   "source": [
    "# Function to calculate elastic modulus using Bergfeld method\n",
    "def calculate_bergfeld_elastic_modulus(row):\n",
    "    \"\"\"\n",
    "    Calculate elastic modulus using Bergfeld et al. (2023) method.\n",
    "    Requires density as input.\n",
    "    \"\"\"\n",
    "    try:\n",
    "        # Only calculate if we have density\n",
    "        if pd.isna(row['density']) or pd.isna(row['density_uncertainty']):\n",
    "            return pd.Series([np.nan, np.nan])\n",
    "        \n",
    "        # Create ufloat object for density with uncertainty\n",
    "        from uncertainties import ufloat\n",
    "        density_ufloat = ufloat(row['density'], row['density_uncertainty'])\n",
    "        \n",
    "        # Calculate elastic modulus using Bergfeld method\n",
    "        emod_ufloat = elastic_modulus.calculate_elastic_modulus(\n",
    "            method='bergfeld',\n",
    "            density=density_ufloat\n",
    "        )\n",
    "        \n",
    "        # Extract nominal value and standard deviation\n",
    "        emod_val = emod_ufloat.nominal_value\n",
    "        emod_unc = emod_ufloat.std_dev\n",
    "        \n",
    "        return pd.Series([emod_val, emod_unc])\n",
    "        \n",
    "    except Exception as e:\n",
    "        print(f\"Error calculating elastic modulus for layer {row['pit_id']}: {e}\")\n",
    "        return pd.Series([np.nan, np.nan])\n",
    "\n",
    "# Apply Bergfeld elastic modulus calculation to all layers\n",
    "print(\"Calculating elastic modulus using Bergfeld method...\")\n",
    "layer_df[['elastic_modulus', 'elastic_modulus_uncertainty']] = layer_df.apply(calculate_bergfeld_elastic_modulus, axis=1)\n",
    "\n",
    "# Calculate relative uncertainty for elastic modulus\n",
    "layer_df['elastic_modulus_relative_uncertainty'] = (layer_df['elastic_modulus_uncertainty'] / layer_df['elastic_modulus']) * 100\n",
    "\n",
    "print(\"Elastic modulus calculation complete.\")\n"
   ]
  },
  {
   "cell_type": "markdown",
   "id": "3e5472d6",
   "metadata": {},
   "source": [
    "Summary Statistics and Results\n",
    "\n",
    "Calculate the success rate and average relative uncertainty for the Bergfeld elastic modulus parameterization.\n"
   ]
  },
  {
   "cell_type": "code",
   "execution_count": 11,
   "id": "23aad9b3",
   "metadata": {},
   "outputs": [
    {
     "name": "stdout",
     "output_type": "stream",
     "text": [
      "=== BERGFELD ELASTIC MODULUS APPLICATION SUMMARY ===\n",
      "\n",
      "Total Pits: 50,147\n",
      "Total Layers: 371,429\n",
      "\n",
      "Total Layers with Calculated Density: 247,294, 66.6%\n",
      "Density calculation method breakdown:\n",
      "  - kim_geldsetzer: 228,773 layers (61.6%)\n",
      "  - kim: 14,927 layers (4.0%)\n",
      "  - direct: 10,468 layers (2.8%)\n",
      "\n",
      "Total Layers with Successfully Calculated Elastic Modulus: 247,294, 66.6%\n",
      "\n",
      "Average Density Relative Uncertainty: 18.05%\n",
      "Average Elastic Modulus Relative Uncertainty: nan%\n",
      "\n",
      "Elastic Modulus Statistics (GPa):\n",
      "  - Mean: 0.000 ± 0.000\n",
      "  - Median: 0.000\n",
      "  - Range: 0.000 to 0.000\n",
      "\n",
      "=== KEY FINDINGS ===\n",
      "✓ Success Rate: 66.6% of layers can be analyzed with Bergfeld method\n",
      "✓ Average Relative Uncertainty: nan%\n",
      "✓ Density Range: 0 to 973 kg/m³\n",
      "✓ Layers within Bergfeld density range (110-360 kg/m³): 216,072 (87.4%)\n"
     ]
    }
   ],
   "source": [
    "## Summary Statistics\n",
    "\n",
    "# Calculate and display comprehensive summary statistics\n",
    "print(\"=== BERGFELD ELASTIC MODULUS APPLICATION SUMMARY ===\")\n",
    "print()\n",
    "\n",
    "# Total Pits and Layers\n",
    "total_pits = layer_df['pit_id'].nunique()\n",
    "total_layers = len(layer_df)\n",
    "print(f\"Total Pits: {total_pits:,}\")\n",
    "print(f\"Total Layers: {total_layers:,}\")\n",
    "print()\n",
    "\n",
    "# Density calculation statistics\n",
    "layers_with_density = layer_df[layer_df['density'].notna()]\n",
    "total_layers_with_density = len(layers_with_density)\n",
    "print(f\"Total Layers with Calculated Density: {total_layers_with_density:,}, {total_layers_with_density/total_layers*100:.1f}%\")\n",
    "\n",
    "# Breakdown by density method\n",
    "if total_layers_with_density > 0:\n",
    "    density_method_counts = layer_df['density_method'].value_counts()\n",
    "    print(\"Density calculation method breakdown:\")\n",
    "    for method, count in density_method_counts.items():\n",
    "        if pd.notna(method):\n",
    "            print(f\"  - {method}: {count:,} layers ({count/total_layers*100:.1f}%)\")\n",
    "print()\n",
    "\n",
    "# Elastic modulus calculation statistics\n",
    "layers_with_emod = layer_df[layer_df['elastic_modulus'].notna()]\n",
    "total_layers_with_emod = len(layers_with_emod)\n",
    "success_rate = total_layers_with_emod / total_layers * 100\n",
    "\n",
    "print(f\"Total Layers with Successfully Calculated Elastic Modulus: {total_layers_with_emod:,}, {success_rate:.1f}%\")\n",
    "print()\n",
    "\n",
    "# Average uncertainties\n",
    "if total_layers_with_density > 0:\n",
    "    avg_density_relative_uncertainty = layers_with_density['density_relative_uncertainty'].mean()\n",
    "    print(f\"Average Density Relative Uncertainty: {avg_density_relative_uncertainty:.2f}%\")\n",
    "\n",
    "if total_layers_with_emod > 0:\n",
    "    avg_emod_relative_uncertainty = layers_with_emod['elastic_modulus_relative_uncertainty'].mean()\n",
    "    print(f\"Average Elastic Modulus Relative Uncertainty: {avg_emod_relative_uncertainty:.2f}%\")\n",
    "    \n",
    "    # Additional statistics for elastic modulus\n",
    "    median_emod = layers_with_emod['elastic_modulus'].median()\n",
    "    mean_emod = layers_with_emod['elastic_modulus'].mean()\n",
    "    std_emod = layers_with_emod['elastic_modulus'].std()\n",
    "    \n",
    "    print()\n",
    "    print(f\"Elastic Modulus Statistics (GPa):\")\n",
    "    print(f\"  - Mean: {mean_emod:.3f} ± {std_emod:.3f}\")\n",
    "    print(f\"  - Median: {median_emod:.3f}\")\n",
    "    print(f\"  - Range: {layers_with_emod['elastic_modulus'].min():.3f} to {layers_with_emod['elastic_modulus'].max():.3f}\")\n",
    "\n",
    "print()\n",
    "print(\"=== KEY FINDINGS ===\")\n",
    "print(f\"✓ Success Rate: {success_rate:.1f}% of layers can be analyzed with Bergfeld method\")\n",
    "if total_layers_with_emod > 0:\n",
    "    print(f\"✓ Average Relative Uncertainty: {avg_emod_relative_uncertainty:.2f}%\")\n",
    "    print(f\"✓ Density Range: {layers_with_density['density'].min():.0f} to {layers_with_density['density'].max():.0f} kg/m³\")\n",
    "    \n",
    "    # Check if densities are within Bergfeld method's suggested range (110-360 kg/m³)\n",
    "    within_range = layers_with_density[(layers_with_density['density'] >= 110) & (layers_with_density['density'] <= 360)]\n",
    "    within_range_pct = len(within_range) / len(layers_with_density) * 100\n",
    "    print(f\"✓ Layers within Bergfeld density range (110-360 kg/m³): {len(within_range):,} ({within_range_pct:.1f}%)\")\n"
   ]
  },
  {
   "cell_type": "markdown",
   "id": "53be0151",
   "metadata": {},
   "source": []
  },
  {
   "cell_type": "markdown",
   "id": "9425f323",
   "metadata": {},
   "source": [
    "Data Visualization\n",
    "\n",
    "Create visualizations to better understand the results and distribution of elastic modulus values.\n"
   ]
  },
  {
   "cell_type": "code",
   "execution_count": 12,
   "id": "4aa81918",
   "metadata": {},
   "outputs": [
    {
     "name": "stderr",
     "output_type": "stream",
     "text": [
      "/Users/marykateconnelly/Desktop/snowpylot/snowpylot-applications/SnowPyt-MechParams/test_env/lib/python3.13/site-packages/matplotlib/axes/_axes.py:7104: RuntimeWarning: All-NaN slice encountered\n",
      "  xmin = min(xmin, np.nanmin(xi))\n",
      "/Users/marykateconnelly/Desktop/snowpylot/snowpylot-applications/SnowPyt-MechParams/test_env/lib/python3.13/site-packages/matplotlib/axes/_axes.py:7105: RuntimeWarning: All-NaN slice encountered\n",
      "  xmax = max(xmax, np.nanmax(xi))\n"
     ]
    },
    {
     "ename": "ValueError",
     "evalue": "autodetected range of [nan, nan] is not finite",
     "output_type": "error",
     "traceback": [
      "\u001b[31m---------------------------------------------------------------------------\u001b[39m",
      "\u001b[31mValueError\u001b[39m                                Traceback (most recent call last)",
      "\u001b[36mCell\u001b[39m\u001b[36m \u001b[39m\u001b[32mIn[12]\u001b[39m\u001b[32m, line 32\u001b[39m\n\u001b[32m     30\u001b[39m \u001b[38;5;66;03m# 3. Histogram of relative uncertainties\u001b[39;00m\n\u001b[32m     31\u001b[39m \u001b[38;5;28;01mif\u001b[39;00m \u001b[38;5;28mlen\u001b[39m(layers_with_emod) > \u001b[32m0\u001b[39m:\n\u001b[32m---> \u001b[39m\u001b[32m32\u001b[39m     \u001b[43maxes\u001b[49m\u001b[43m[\u001b[49m\u001b[32;43m1\u001b[39;49m\u001b[43m,\u001b[49m\u001b[43m \u001b[49m\u001b[32;43m0\u001b[39;49m\u001b[43m]\u001b[49m\u001b[43m.\u001b[49m\u001b[43mhist\u001b[49m\u001b[43m(\u001b[49m\u001b[43mlayers_with_emod\u001b[49m\u001b[43m[\u001b[49m\u001b[33;43m'\u001b[39;49m\u001b[33;43melastic_modulus_relative_uncertainty\u001b[39;49m\u001b[33;43m'\u001b[39;49m\u001b[43m]\u001b[49m\u001b[43m,\u001b[49m\u001b[43m \u001b[49m\u001b[43mbins\u001b[49m\u001b[43m=\u001b[49m\u001b[32;43m30\u001b[39;49m\u001b[43m,\u001b[49m\u001b[43m \u001b[49m\u001b[43malpha\u001b[49m\u001b[43m=\u001b[49m\u001b[32;43m0.7\u001b[39;49m\u001b[43m,\u001b[49m\u001b[43m \u001b[49m\u001b[43medgecolor\u001b[49m\u001b[43m=\u001b[49m\u001b[33;43m'\u001b[39;49m\u001b[33;43mblack\u001b[39;49m\u001b[33;43m'\u001b[39;49m\u001b[43m)\u001b[49m\n\u001b[32m     33\u001b[39m     axes[\u001b[32m1\u001b[39m, \u001b[32m0\u001b[39m].set_xlabel(\u001b[33m'\u001b[39m\u001b[33mRelative Uncertainty (\u001b[39m\u001b[33m%\u001b[39m\u001b[33m)\u001b[39m\u001b[33m'\u001b[39m)\n\u001b[32m     34\u001b[39m     axes[\u001b[32m1\u001b[39m, \u001b[32m0\u001b[39m].set_ylabel(\u001b[33m'\u001b[39m\u001b[33mFrequency\u001b[39m\u001b[33m'\u001b[39m)\n",
      "\u001b[36mFile \u001b[39m\u001b[32m~/Desktop/snowpylot/snowpylot-applications/SnowPyt-MechParams/test_env/lib/python3.13/site-packages/matplotlib/_api/deprecation.py:453\u001b[39m, in \u001b[36mmake_keyword_only.<locals>.wrapper\u001b[39m\u001b[34m(*args, **kwargs)\u001b[39m\n\u001b[32m    447\u001b[39m \u001b[38;5;28;01mif\u001b[39;00m \u001b[38;5;28mlen\u001b[39m(args) > name_idx:\n\u001b[32m    448\u001b[39m     warn_deprecated(\n\u001b[32m    449\u001b[39m         since, message=\u001b[33m\"\u001b[39m\u001b[33mPassing the \u001b[39m\u001b[38;5;132;01m%(name)s\u001b[39;00m\u001b[33m \u001b[39m\u001b[38;5;132;01m%(obj_type)s\u001b[39;00m\u001b[33m \u001b[39m\u001b[33m\"\u001b[39m\n\u001b[32m    450\u001b[39m         \u001b[33m\"\u001b[39m\u001b[33mpositionally is deprecated since Matplotlib \u001b[39m\u001b[38;5;132;01m%(since)s\u001b[39;00m\u001b[33m; the \u001b[39m\u001b[33m\"\u001b[39m\n\u001b[32m    451\u001b[39m         \u001b[33m\"\u001b[39m\u001b[33mparameter will become keyword-only in \u001b[39m\u001b[38;5;132;01m%(removal)s\u001b[39;00m\u001b[33m.\u001b[39m\u001b[33m\"\u001b[39m,\n\u001b[32m    452\u001b[39m         name=name, obj_type=\u001b[33mf\u001b[39m\u001b[33m\"\u001b[39m\u001b[33mparameter of \u001b[39m\u001b[38;5;132;01m{\u001b[39;00mfunc.\u001b[34m__name__\u001b[39m\u001b[38;5;132;01m}\u001b[39;00m\u001b[33m()\u001b[39m\u001b[33m\"\u001b[39m)\n\u001b[32m--> \u001b[39m\u001b[32m453\u001b[39m \u001b[38;5;28;01mreturn\u001b[39;00m \u001b[43mfunc\u001b[49m\u001b[43m(\u001b[49m\u001b[43m*\u001b[49m\u001b[43margs\u001b[49m\u001b[43m,\u001b[49m\u001b[43m \u001b[49m\u001b[43m*\u001b[49m\u001b[43m*\u001b[49m\u001b[43mkwargs\u001b[49m\u001b[43m)\u001b[49m\n",
      "\u001b[36mFile \u001b[39m\u001b[32m~/Desktop/snowpylot/snowpylot-applications/SnowPyt-MechParams/test_env/lib/python3.13/site-packages/matplotlib/__init__.py:1524\u001b[39m, in \u001b[36m_preprocess_data.<locals>.inner\u001b[39m\u001b[34m(ax, data, *args, **kwargs)\u001b[39m\n\u001b[32m   1521\u001b[39m \u001b[38;5;129m@functools\u001b[39m.wraps(func)\n\u001b[32m   1522\u001b[39m \u001b[38;5;28;01mdef\u001b[39;00m\u001b[38;5;250m \u001b[39m\u001b[34minner\u001b[39m(ax, *args, data=\u001b[38;5;28;01mNone\u001b[39;00m, **kwargs):\n\u001b[32m   1523\u001b[39m     \u001b[38;5;28;01mif\u001b[39;00m data \u001b[38;5;129;01mis\u001b[39;00m \u001b[38;5;28;01mNone\u001b[39;00m:\n\u001b[32m-> \u001b[39m\u001b[32m1524\u001b[39m         \u001b[38;5;28;01mreturn\u001b[39;00m \u001b[43mfunc\u001b[49m\u001b[43m(\u001b[49m\n\u001b[32m   1525\u001b[39m \u001b[43m            \u001b[49m\u001b[43max\u001b[49m\u001b[43m,\u001b[49m\n\u001b[32m   1526\u001b[39m \u001b[43m            \u001b[49m\u001b[43m*\u001b[49m\u001b[38;5;28;43mmap\u001b[39;49m\u001b[43m(\u001b[49m\u001b[43mcbook\u001b[49m\u001b[43m.\u001b[49m\u001b[43msanitize_sequence\u001b[49m\u001b[43m,\u001b[49m\u001b[43m \u001b[49m\u001b[43margs\u001b[49m\u001b[43m)\u001b[49m\u001b[43m,\u001b[49m\n\u001b[32m   1527\u001b[39m \u001b[43m            \u001b[49m\u001b[43m*\u001b[49m\u001b[43m*\u001b[49m\u001b[43m{\u001b[49m\u001b[43mk\u001b[49m\u001b[43m:\u001b[49m\u001b[43m \u001b[49m\u001b[43mcbook\u001b[49m\u001b[43m.\u001b[49m\u001b[43msanitize_sequence\u001b[49m\u001b[43m(\u001b[49m\u001b[43mv\u001b[49m\u001b[43m)\u001b[49m\u001b[43m \u001b[49m\u001b[38;5;28;43;01mfor\u001b[39;49;00m\u001b[43m \u001b[49m\u001b[43mk\u001b[49m\u001b[43m,\u001b[49m\u001b[43m \u001b[49m\u001b[43mv\u001b[49m\u001b[43m \u001b[49m\u001b[38;5;129;43;01min\u001b[39;49;00m\u001b[43m \u001b[49m\u001b[43mkwargs\u001b[49m\u001b[43m.\u001b[49m\u001b[43mitems\u001b[49m\u001b[43m(\u001b[49m\u001b[43m)\u001b[49m\u001b[43m}\u001b[49m\u001b[43m)\u001b[49m\n\u001b[32m   1529\u001b[39m     bound = new_sig.bind(ax, *args, **kwargs)\n\u001b[32m   1530\u001b[39m     auto_label = (bound.arguments.get(label_namer)\n\u001b[32m   1531\u001b[39m                   \u001b[38;5;129;01mor\u001b[39;00m bound.kwargs.get(label_namer))\n",
      "\u001b[36mFile \u001b[39m\u001b[32m~/Desktop/snowpylot/snowpylot-applications/SnowPyt-MechParams/test_env/lib/python3.13/site-packages/matplotlib/axes/_axes.py:7132\u001b[39m, in \u001b[36mAxes.hist\u001b[39m\u001b[34m(self, x, bins, range, density, weights, cumulative, bottom, histtype, align, orientation, rwidth, log, color, label, stacked, **kwargs)\u001b[39m\n\u001b[32m   7128\u001b[39m \u001b[38;5;66;03m# Loop through datasets\u001b[39;00m\n\u001b[32m   7129\u001b[39m \u001b[38;5;28;01mfor\u001b[39;00m i \u001b[38;5;129;01min\u001b[39;00m \u001b[38;5;28mrange\u001b[39m(nx):\n\u001b[32m   7130\u001b[39m     \u001b[38;5;66;03m# this will automatically overwrite bins,\u001b[39;00m\n\u001b[32m   7131\u001b[39m     \u001b[38;5;66;03m# so that each histogram uses the same bins\u001b[39;00m\n\u001b[32m-> \u001b[39m\u001b[32m7132\u001b[39m     m, bins = \u001b[43mnp\u001b[49m\u001b[43m.\u001b[49m\u001b[43mhistogram\u001b[49m\u001b[43m(\u001b[49m\u001b[43mx\u001b[49m\u001b[43m[\u001b[49m\u001b[43mi\u001b[49m\u001b[43m]\u001b[49m\u001b[43m,\u001b[49m\u001b[43m \u001b[49m\u001b[43mbins\u001b[49m\u001b[43m,\u001b[49m\u001b[43m \u001b[49m\u001b[43mweights\u001b[49m\u001b[43m=\u001b[49m\u001b[43mw\u001b[49m\u001b[43m[\u001b[49m\u001b[43mi\u001b[49m\u001b[43m]\u001b[49m\u001b[43m,\u001b[49m\u001b[43m \u001b[49m\u001b[43m*\u001b[49m\u001b[43m*\u001b[49m\u001b[43mhist_kwargs\u001b[49m\u001b[43m)\u001b[49m\n\u001b[32m   7133\u001b[39m     tops.append(m)\n\u001b[32m   7134\u001b[39m tops = np.array(tops, \u001b[38;5;28mfloat\u001b[39m)  \u001b[38;5;66;03m# causes problems later if it's an int\u001b[39;00m\n",
      "\u001b[36mFile \u001b[39m\u001b[32m~/Desktop/snowpylot/snowpylot-applications/SnowPyt-MechParams/test_env/lib/python3.13/site-packages/numpy/lib/_histograms_impl.py:792\u001b[39m, in \u001b[36mhistogram\u001b[39m\u001b[34m(a, bins, range, density, weights)\u001b[39m\n\u001b[32m    687\u001b[39m \u001b[38;5;250m\u001b[39m\u001b[33mr\u001b[39m\u001b[33;03m\"\"\"\u001b[39;00m\n\u001b[32m    688\u001b[39m \u001b[33;03mCompute the histogram of a dataset.\u001b[39;00m\n\u001b[32m    689\u001b[39m \n\u001b[32m   (...)\u001b[39m\u001b[32m    788\u001b[39m \n\u001b[32m    789\u001b[39m \u001b[33;03m\"\"\"\u001b[39;00m\n\u001b[32m    790\u001b[39m a, weights = _ravel_and_check_weights(a, weights)\n\u001b[32m--> \u001b[39m\u001b[32m792\u001b[39m bin_edges, uniform_bins = \u001b[43m_get_bin_edges\u001b[49m\u001b[43m(\u001b[49m\u001b[43ma\u001b[49m\u001b[43m,\u001b[49m\u001b[43m \u001b[49m\u001b[43mbins\u001b[49m\u001b[43m,\u001b[49m\u001b[43m \u001b[49m\u001b[38;5;28;43mrange\u001b[39;49m\u001b[43m,\u001b[49m\u001b[43m \u001b[49m\u001b[43mweights\u001b[49m\u001b[43m)\u001b[49m\n\u001b[32m    794\u001b[39m \u001b[38;5;66;03m# Histogram is an integer or a float array depending on the weights.\u001b[39;00m\n\u001b[32m    795\u001b[39m \u001b[38;5;28;01mif\u001b[39;00m weights \u001b[38;5;129;01mis\u001b[39;00m \u001b[38;5;28;01mNone\u001b[39;00m:\n",
      "\u001b[36mFile \u001b[39m\u001b[32m~/Desktop/snowpylot/snowpylot-applications/SnowPyt-MechParams/test_env/lib/python3.13/site-packages/numpy/lib/_histograms_impl.py:425\u001b[39m, in \u001b[36m_get_bin_edges\u001b[39m\u001b[34m(a, bins, range, weights)\u001b[39m\n\u001b[32m    422\u001b[39m     \u001b[38;5;28;01mif\u001b[39;00m n_equal_bins < \u001b[32m1\u001b[39m:\n\u001b[32m    423\u001b[39m         \u001b[38;5;28;01mraise\u001b[39;00m \u001b[38;5;167;01mValueError\u001b[39;00m(\u001b[33m'\u001b[39m\u001b[33m`bins` must be positive, when an integer\u001b[39m\u001b[33m'\u001b[39m)\n\u001b[32m--> \u001b[39m\u001b[32m425\u001b[39m     first_edge, last_edge = \u001b[43m_get_outer_edges\u001b[49m\u001b[43m(\u001b[49m\u001b[43ma\u001b[49m\u001b[43m,\u001b[49m\u001b[43m \u001b[49m\u001b[38;5;28;43mrange\u001b[39;49m\u001b[43m)\u001b[49m\n\u001b[32m    427\u001b[39m \u001b[38;5;28;01melif\u001b[39;00m np.ndim(bins) == \u001b[32m1\u001b[39m:\n\u001b[32m    428\u001b[39m     bin_edges = np.asarray(bins)\n",
      "\u001b[36mFile \u001b[39m\u001b[32m~/Desktop/snowpylot/snowpylot-applications/SnowPyt-MechParams/test_env/lib/python3.13/site-packages/numpy/lib/_histograms_impl.py:317\u001b[39m, in \u001b[36m_get_outer_edges\u001b[39m\u001b[34m(a, range)\u001b[39m\n\u001b[32m    315\u001b[39m     first_edge, last_edge = a.min(), a.max()\n\u001b[32m    316\u001b[39m     \u001b[38;5;28;01mif\u001b[39;00m \u001b[38;5;129;01mnot\u001b[39;00m (np.isfinite(first_edge) \u001b[38;5;129;01mand\u001b[39;00m np.isfinite(last_edge)):\n\u001b[32m--> \u001b[39m\u001b[32m317\u001b[39m         \u001b[38;5;28;01mraise\u001b[39;00m \u001b[38;5;167;01mValueError\u001b[39;00m(\n\u001b[32m    318\u001b[39m             \u001b[33mf\u001b[39m\u001b[33m\"\u001b[39m\u001b[33mautodetected range of [\u001b[39m\u001b[38;5;132;01m{\u001b[39;00mfirst_edge\u001b[38;5;132;01m}\u001b[39;00m\u001b[33m, \u001b[39m\u001b[38;5;132;01m{\u001b[39;00mlast_edge\u001b[38;5;132;01m}\u001b[39;00m\u001b[33m] is not finite\u001b[39m\u001b[33m\"\u001b[39m)\n\u001b[32m    320\u001b[39m \u001b[38;5;66;03m# expand empty range to avoid divide by zero\u001b[39;00m\n\u001b[32m    321\u001b[39m \u001b[38;5;28;01mif\u001b[39;00m first_edge == last_edge:\n",
      "\u001b[31mValueError\u001b[39m: autodetected range of [nan, nan] is not finite"
     ]
    },
    {
     "data": {
      "image/png": "[encoded data removed]",
      "text/plain": [
       "<Figure size 1500x1200 with 5 Axes>"
      ]
     },
     "metadata": {},
     "output_type": "display_data"
    }
   ],
   "source": [
    "# Create visualizations\n",
    "fig, axes = plt.subplots(2, 2, figsize=(15, 12))\n",
    "\n",
    "# Define variables needed for plotting\n",
    "layers_with_emod = layer_df[layer_df['elastic_modulus'].notna()]\n",
    "layers_with_density = layer_df[layer_df['density'].notna()]\n",
    "total_layers_with_density = len(layers_with_density)\n",
    "if total_layers_with_density > 0:\n",
    "    density_method_counts = layer_df['density_method'].value_counts()\n",
    "\n",
    "# 1. Histogram of elastic modulus values\n",
    "if len(layers_with_emod) > 0:\n",
    "    axes[0, 0].hist(layers_with_emod['elastic_modulus'], bins=50, alpha=0.7, edgecolor='black')\n",
    "    axes[0, 0].set_xlabel('Elastic Modulus (GPa)')\n",
    "    axes[0, 0].set_ylabel('Frequency')\n",
    "    axes[0, 0].set_title('Distribution of Elastic Modulus Values\\n(Bergfeld Method)')\n",
    "    axes[0, 0].grid(True, alpha=0.3)\n",
    "\n",
    "# 2. Scatter plot: Density vs Elastic Modulus\n",
    "if len(layers_with_emod) > 0:\n",
    "    scatter = axes[0, 1].scatter(layers_with_emod['density'], layers_with_emod['elastic_modulus'], \n",
    "                                alpha=0.6, s=20, c=layers_with_emod['elastic_modulus_relative_uncertainty'], \n",
    "                                cmap='viridis')\n",
    "    axes[0, 1].set_xlabel('Density (kg/m³)')\n",
    "    axes[0, 1].set_ylabel('Elastic Modulus (GPa)')\n",
    "    axes[0, 1].set_title('Elastic Modulus vs Density\\n(Color = Relative Uncertainty %)')\n",
    "    axes[0, 1].grid(True, alpha=0.3)\n",
    "    plt.colorbar(scatter, ax=axes[0, 1], label='Relative Uncertainty (%)')\n",
    "\n",
    "# 3. Histogram of relative uncertainties\n",
    "if len(layers_with_emod) > 0:\n",
    "    axes[1, 0].hist(layers_with_emod['elastic_modulus_relative_uncertainty'], bins=30, alpha=0.7, edgecolor='black')\n",
    "    axes[1, 0].set_xlabel('Relative Uncertainty (%)')\n",
    "    axes[1, 0].set_ylabel('Frequency')\n",
    "    axes[1, 0].set_title('Distribution of Elastic Modulus\\nRelative Uncertainties')\n",
    "    axes[1, 0].grid(True, alpha=0.3)\n",
    "\n",
    "# 4. Success rate by density method\n",
    "if total_layers_with_density > 0:\n",
    "    method_success = []\n",
    "    method_names = []\n",
    "    for method in density_method_counts.index:\n",
    "        if pd.notna(method):\n",
    "            method_layers = layer_df[layer_df['density_method'] == method]\n",
    "            success_count = len(method_layers[method_layers['elastic_modulus'].notna()])\n",
    "            total_count = len(method_layers)\n",
    "            success_rate_method = success_count / total_count * 100 if total_count > 0 else 0\n",
    "            method_success.append(success_rate_method)\n",
    "            method_names.append(f\"{method}\\n({total_count} layers)\")\n",
    "    \n",
    "    bars = axes[1, 1].bar(method_names, method_success, alpha=0.7)\n",
    "    axes[1, 1].set_ylabel('Success Rate (%)')\n",
    "    axes[1, 1].set_title('Elastic Modulus Calculation Success Rate\\nby Density Method')\n",
    "    axes[1, 1].tick_params(axis='x', rotation=45)\n",
    "    \n",
    "    # Add value labels on bars\n",
    "    for bar, value in zip(bars, method_success):\n",
    "        axes[1, 1].text(bar.get_x() + bar.get_width()/2, bar.get_height() + 1, \n",
    "                       f'{value:.1f}%', ha='center', va='bottom')\n",
    "\n",
    "plt.tight_layout()\n",
    "plt.show()\n"
   ]
  },
  {
   "cell_type": "markdown",
   "id": "c66f52a5",
   "metadata": {},
   "source": [
    "Optional: Save Results to CSV\n",
    "\n",
    "Uncomment the line below to save the results to a CSV file for further analysis.\n"
   ]
  },
  {
   "cell_type": "code",
   "execution_count": null,
   "id": "1216ce02",
   "metadata": {},
   "outputs": [],
   "source": [
    "# Uncomment the line below to save results to CSV\n",
    "# layer_df.to_csv('bergfeld_elastic_modulus_results.csv', index=False)\n",
    "print(\"Analysis complete! Results are stored in the layer_df DataFrame.\")\n"
   ]
  }
 ],
 "metadata": {
  "kernelspec": {
   "display_name": "SnowPyt-MechParams",
   "language": "python",
   "name": "snowpyt-mechparams"
  },
  "language_info": {
   "codemirror_mode": {
    "name": "ipython",
    "version": 3
   },
   "file_extension": ".py",
   "mimetype": "text/x-python",
   "name": "python",
   "nbconvert_exporter": "python",
   "pygments_lexer": "ipython3",
   "version": "3.13.2"
  }
 },
 "nbformat": 4,
 "nbformat_minor": 5
}
